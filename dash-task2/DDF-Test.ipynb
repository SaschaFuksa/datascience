{
 "cells": [
  {
   "cell_type": "code",
   "execution_count": 1,
   "outputs": [
    {
     "data": {
      "text/plain": "   Unnamed: 0.1  Unnamed: 0  number                      place country  \\\n0             0           0       1                    Waikiki     USA   \n1             1           1       2           The Florida Keys     USA   \n2             2           2       3  Yellowstone National Park     USA   \n3             3           3       4             The Big Island     USA   \n4             4           4       5           The Great Plains     USA   \n\n  continent                                    roughguide link  \\\n0   America    https://www.roughguides.com/usa/hawaii/waikiki/   \n1   America  https://www.roughguides.com/usa/florida/florid...   \n2   America  https://www.roughguides.com/usa/rockies/yellow...   \n3   America  https://www.roughguides.com/usa/hawaii/big-isl...   \n4   America      https://www.roughguides.com/usa/great-plains/   \n\n                                        introduction  \\\n0  Built on a reclaimed swamp, two miles east of ...   \n1  Folklore, films and widespread hearsay have gi...   \n2  America’s oldest and easily its most famous na...   \n3  Although the Big Island of Hawaii could hold a...   \n4  The rolling hills and vast grasslands of the G...   \n\n                                         description  \\\n0  In places, the parallel Waikiki Beach narrows ...   \n1  Beach view with a vivid sunset at Key West, Fl...   \n2  Not only does Yellowstone deliver jaw-dropping...   \n3  Thanks to the Kilauea volcano, which has destr...   \n4  The Plains also share a complex, fascinating h...   \n\n                                           full_text  ...  \\\n0  Built on a reclaimed swamp, two miles east of ...  ...   \n1  Folklore, films and widespread hearsay have gi...  ...   \n2  America’s oldest and easily its most famous na...  ...   \n3  Although the Big Island of Hawaii could hold a...  ...   \n4  The rolling hills and vast grasslands of the G...  ...   \n\n                                           NE_no_tag  \\\n0  ['Honolulu', 'Waikiki', 'the Ala Wai canal', '...   \n1  ['FLORIDA', 'Cuba', 'Key West', 'Florida', 'Ke...   \n2  ['America', 'YELLOWSTONE NATIONAL PARK', 'Yell...   \n3  ['the Big Island of Hawaii', 'Captain Cook’s',...   \n4  ['the Great Plains', 'Crazy Horse', 'Sitting B...   \n\n                                              non_NE  \\\n0  ['Built', 'on', 'a', 'reclaimed', 'swamp', ','...   \n1  ['Folklore', ',', 'films', 'and', 'widespread'...   \n2  ['’s', 'oldest', 'and', 'easily', 'its', 'most...   \n3  ['Although', 'the', 'Big', 'Island', 'of', 'co...   \n4  ['The', 'rolling', 'hills', 'and', 'vast', 'gr...   \n\n                                        non_NE_nouns  \\\n0  ['swamp', 'miles', 'downtown', 'island', 'city...   \n1  ['Folklore', 'films', 'hearsay', 'KEYS', 'mile...   \n2  ['park', 'YELLOWSTONE', 'NATIONAL', 'PARK', 'v...   \n3  ['Island', 'islands', 'room', 'population', 't...   \n4  ['hills', 'grasslands', 'Great', 'home', 'adve...   \n\n                                          freq_nouns  \\\n0  [('swamp', 1), ('miles', 1), ('downtown', 1), ...   \n1  [('Folklore', 1), ('films', 1), ('hearsay', 1)...   \n2  [('park', 3), ('YELLOWSTONE', 1), ('NATIONAL',...   \n3  [('Big', 4), ('Island', 4), ('islands', 1), ('...   \n4  [('hills', 2), ('grasslands', 1), ('Great', 4)...   \n\n                                         non_NE_tags  \\\n0  [('swamp', 'wetland'), ('miles', 'linear_unit'...   \n1  [('Folklore', 'lore'), ('films', 'product'), (...   \n2  [('park', 'tract'), ('YELLOWSTONE', '-'), ('NA...   \n3  [('Big', '-'), ('Island', 'land'), ('islands',...   \n4  [('hills', 'natural_elevation'), ('grasslands'...   \n\n                                         freq_NE_int  \\\n0                                    [1, 2, 1, 1, 1]   \n1   [1, 4, 3, 3, 2, 1, 3, 1, 2, 6, 4, 3, 3, 3, 1, 1]   \n2                              [1, 1, 4, 1, 4, 1, 4]   \n3  [1, 1, 1, 1, 1, 7, 1, 2, 7, 1, 1, 3, 3, 1, 1, ...   \n4  [4, 1, 1, 1, 2, 2, 3, 4, 1, 1, 4, 2, 4, 1, 1, ...   \n\n                                       freq_noun_int  \\\n0  [1, 1, 1, 1, 1, 1, 1, 1, 1, 1, 1, 3, 1, 1, 1, ...   \n1  [1, 1, 1, 1, 3, 1, 1, 2, 1, 1, 1, 1, 1, 1, 1, ...   \n2  [3, 1, 1, 1, 1, 2, 1, 1, 1, 1, 1, 1, 1, 1, 1, ...   \n3  [4, 1, 1, 1, 4, 1, 1, 1, 1, 1, 1, 1, 2, 1, 3, ...   \n4  [2, 1, 4, 2, 1, 1, 1, 1, 2, 1, 1, 1, 1, 1, 1, ...   \n\n                                       nouns_cleaned  \\\n0  ['swamp', 'miles', 'downtown', 'island', 'city...   \n1  ['folklore', 'films', 'hearsay', 'keys', 'mile...   \n2  ['park', 'yellowstone', 'national', 'park', 'v...   \n3  ['island', 'islands', 'room', 'population', 't...   \n4  ['hills', 'grasslands', 'great', 'home', 'adve...   \n\n                                      singular_nouns  \\\n0  ['Swamp', 'Mile', 'Downtown', 'Island', 'City'...   \n1  ['Folklore', 'Film', 'Hearsay', 'Key', 'Mile',...   \n2  ['Park', 'Yellowstone', 'National', 'Park', 'V...   \n3  ['Island', 'Island', 'Room', 'Population', 'To...   \n4  ['Hill', 'Grassland', 'Great', 'Home', 'Advent...   \n\n                              singular_cleaned_nouns  \n0  ['Swamp', 'Mile', 'Downtown', 'Island', 'City'...  \n1  ['Folklore', 'Film', 'Hearsay', 'Key', 'Mile',...  \n2  ['Park', 'Yellowstone', 'National', 'Park', 'V...  \n3  ['Island', 'Island', 'Room', 'Population', 'To...  \n4  ['Hill', 'Grassland', 'Great', 'Home', 'Advent...  \n\n[5 rows x 23 columns]",
      "text/html": "<div>\n<style scoped>\n    .dataframe tbody tr th:only-of-type {\n        vertical-align: middle;\n    }\n\n    .dataframe tbody tr th {\n        vertical-align: top;\n    }\n\n    .dataframe thead th {\n        text-align: right;\n    }\n</style>\n<table border=\"1\" class=\"dataframe\">\n  <thead>\n    <tr style=\"text-align: right;\">\n      <th></th>\n      <th>Unnamed: 0.1</th>\n      <th>Unnamed: 0</th>\n      <th>number</th>\n      <th>place</th>\n      <th>country</th>\n      <th>continent</th>\n      <th>roughguide link</th>\n      <th>introduction</th>\n      <th>description</th>\n      <th>full_text</th>\n      <th>...</th>\n      <th>NE_no_tag</th>\n      <th>non_NE</th>\n      <th>non_NE_nouns</th>\n      <th>freq_nouns</th>\n      <th>non_NE_tags</th>\n      <th>freq_NE_int</th>\n      <th>freq_noun_int</th>\n      <th>nouns_cleaned</th>\n      <th>singular_nouns</th>\n      <th>singular_cleaned_nouns</th>\n    </tr>\n  </thead>\n  <tbody>\n    <tr>\n      <th>0</th>\n      <td>0</td>\n      <td>0</td>\n      <td>1</td>\n      <td>Waikiki</td>\n      <td>USA</td>\n      <td>America</td>\n      <td>https://www.roughguides.com/usa/hawaii/waikiki/</td>\n      <td>Built on a reclaimed swamp, two miles east of ...</td>\n      <td>In places, the parallel Waikiki Beach narrows ...</td>\n      <td>Built on a reclaimed swamp, two miles east of ...</td>\n      <td>...</td>\n      <td>['Honolulu', 'Waikiki', 'the Ala Wai canal', '...</td>\n      <td>['Built', 'on', 'a', 'reclaimed', 'swamp', ','...</td>\n      <td>['swamp', 'miles', 'downtown', 'island', 'city...</td>\n      <td>[('swamp', 1), ('miles', 1), ('downtown', 1), ...</td>\n      <td>[('swamp', 'wetland'), ('miles', 'linear_unit'...</td>\n      <td>[1, 2, 1, 1, 1]</td>\n      <td>[1, 1, 1, 1, 1, 1, 1, 1, 1, 1, 1, 3, 1, 1, 1, ...</td>\n      <td>['swamp', 'miles', 'downtown', 'island', 'city...</td>\n      <td>['Swamp', 'Mile', 'Downtown', 'Island', 'City'...</td>\n      <td>['Swamp', 'Mile', 'Downtown', 'Island', 'City'...</td>\n    </tr>\n    <tr>\n      <th>1</th>\n      <td>1</td>\n      <td>1</td>\n      <td>2</td>\n      <td>The Florida Keys</td>\n      <td>USA</td>\n      <td>America</td>\n      <td>https://www.roughguides.com/usa/florida/florid...</td>\n      <td>Folklore, films and widespread hearsay have gi...</td>\n      <td>Beach view with a vivid sunset at Key West, Fl...</td>\n      <td>Folklore, films and widespread hearsay have gi...</td>\n      <td>...</td>\n      <td>['FLORIDA', 'Cuba', 'Key West', 'Florida', 'Ke...</td>\n      <td>['Folklore', ',', 'films', 'and', 'widespread'...</td>\n      <td>['Folklore', 'films', 'hearsay', 'KEYS', 'mile...</td>\n      <td>[('Folklore', 1), ('films', 1), ('hearsay', 1)...</td>\n      <td>[('Folklore', 'lore'), ('films', 'product'), (...</td>\n      <td>[1, 4, 3, 3, 2, 1, 3, 1, 2, 6, 4, 3, 3, 3, 1, 1]</td>\n      <td>[1, 1, 1, 1, 3, 1, 1, 2, 1, 1, 1, 1, 1, 1, 1, ...</td>\n      <td>['folklore', 'films', 'hearsay', 'keys', 'mile...</td>\n      <td>['Folklore', 'Film', 'Hearsay', 'Key', 'Mile',...</td>\n      <td>['Folklore', 'Film', 'Hearsay', 'Key', 'Mile',...</td>\n    </tr>\n    <tr>\n      <th>2</th>\n      <td>2</td>\n      <td>2</td>\n      <td>3</td>\n      <td>Yellowstone National Park</td>\n      <td>USA</td>\n      <td>America</td>\n      <td>https://www.roughguides.com/usa/rockies/yellow...</td>\n      <td>America’s oldest and easily its most famous na...</td>\n      <td>Not only does Yellowstone deliver jaw-dropping...</td>\n      <td>America’s oldest and easily its most famous na...</td>\n      <td>...</td>\n      <td>['America', 'YELLOWSTONE NATIONAL PARK', 'Yell...</td>\n      <td>['’s', 'oldest', 'and', 'easily', 'its', 'most...</td>\n      <td>['park', 'YELLOWSTONE', 'NATIONAL', 'PARK', 'v...</td>\n      <td>[('park', 3), ('YELLOWSTONE', 1), ('NATIONAL',...</td>\n      <td>[('park', 'tract'), ('YELLOWSTONE', '-'), ('NA...</td>\n      <td>[1, 1, 4, 1, 4, 1, 4]</td>\n      <td>[3, 1, 1, 1, 1, 2, 1, 1, 1, 1, 1, 1, 1, 1, 1, ...</td>\n      <td>['park', 'yellowstone', 'national', 'park', 'v...</td>\n      <td>['Park', 'Yellowstone', 'National', 'Park', 'V...</td>\n      <td>['Park', 'Yellowstone', 'National', 'Park', 'V...</td>\n    </tr>\n    <tr>\n      <th>3</th>\n      <td>3</td>\n      <td>3</td>\n      <td>4</td>\n      <td>The Big Island</td>\n      <td>USA</td>\n      <td>America</td>\n      <td>https://www.roughguides.com/usa/hawaii/big-isl...</td>\n      <td>Although the Big Island of Hawaii could hold a...</td>\n      <td>Thanks to the Kilauea volcano, which has destr...</td>\n      <td>Although the Big Island of Hawaii could hold a...</td>\n      <td>...</td>\n      <td>['the Big Island of Hawaii', 'Captain Cook’s',...</td>\n      <td>['Although', 'the', 'Big', 'Island', 'of', 'co...</td>\n      <td>['Island', 'islands', 'room', 'population', 't...</td>\n      <td>[('Big', 4), ('Island', 4), ('islands', 1), ('...</td>\n      <td>[('Big', '-'), ('Island', 'land'), ('islands',...</td>\n      <td>[1, 1, 1, 1, 1, 7, 1, 2, 7, 1, 1, 3, 3, 1, 1, ...</td>\n      <td>[4, 1, 1, 1, 4, 1, 1, 1, 1, 1, 1, 1, 2, 1, 3, ...</td>\n      <td>['island', 'islands', 'room', 'population', 't...</td>\n      <td>['Island', 'Island', 'Room', 'Population', 'To...</td>\n      <td>['Island', 'Island', 'Room', 'Population', 'To...</td>\n    </tr>\n    <tr>\n      <th>4</th>\n      <td>4</td>\n      <td>4</td>\n      <td>5</td>\n      <td>The Great Plains</td>\n      <td>USA</td>\n      <td>America</td>\n      <td>https://www.roughguides.com/usa/great-plains/</td>\n      <td>The rolling hills and vast grasslands of the G...</td>\n      <td>The Plains also share a complex, fascinating h...</td>\n      <td>The rolling hills and vast grasslands of the G...</td>\n      <td>...</td>\n      <td>['the Great Plains', 'Crazy Horse', 'Sitting B...</td>\n      <td>['The', 'rolling', 'hills', 'and', 'vast', 'gr...</td>\n      <td>['hills', 'grasslands', 'Great', 'home', 'adve...</td>\n      <td>[('hills', 2), ('grasslands', 1), ('Great', 4)...</td>\n      <td>[('hills', 'natural_elevation'), ('grasslands'...</td>\n      <td>[4, 1, 1, 1, 2, 2, 3, 4, 1, 1, 4, 2, 4, 1, 1, ...</td>\n      <td>[2, 1, 4, 2, 1, 1, 1, 1, 2, 1, 1, 1, 1, 1, 1, ...</td>\n      <td>['hills', 'grasslands', 'great', 'home', 'adve...</td>\n      <td>['Hill', 'Grassland', 'Great', 'Home', 'Advent...</td>\n      <td>['Hill', 'Grassland', 'Great', 'Home', 'Advent...</td>\n    </tr>\n  </tbody>\n</table>\n<p>5 rows × 23 columns</p>\n</div>"
     },
     "execution_count": 1,
     "metadata": {},
     "output_type": "execute_result"
    }
   ],
   "source": [
    "from pathlib import Path\n",
    "\n",
    "import pandas as pd\n",
    "\n",
    "directory = Path().resolve().parent\n",
    "\n",
    "# Load data\n",
    "main_file = pd.read_csv(str(directory) + '/crawling-and-preprocessing/content/data_prep_2805_3.csv')\n",
    "main_file.head()"
   ],
   "metadata": {
    "collapsed": false,
    "pycharm": {
     "name": "#%%\n"
    }
   }
  },
  {
   "cell_type": "code",
   "execution_count": 2,
   "outputs": [
    {
     "data": {
      "text/plain": "                       place  \\\n0                    Waikiki   \n1           The Florida Keys   \n2  Yellowstone National Park   \n3             The Big Island   \n4           The Great Plains   \n\n                              singular_cleaned_nouns  \\\n0  ['Swamp', 'Mile', 'Downtown', 'Island', 'City'...   \n1  ['Folklore', 'Film', 'Hearsay', 'Key', 'Mile',...   \n2  ['Park', 'Yellowstone', 'National', 'Park', 'V...   \n3  ['Island', 'Island', 'Room', 'Population', 'To...   \n4  ['Hill', 'Grassland', 'Great', 'Home', 'Advent...   \n\n                                       freq_noun_int  \n0  [1, 1, 1, 1, 1, 1, 1, 1, 1, 1, 1, 3, 1, 1, 1, ...  \n1  [1, 1, 1, 1, 3, 1, 1, 2, 1, 1, 1, 1, 1, 1, 1, ...  \n2  [3, 1, 1, 1, 1, 2, 1, 1, 1, 1, 1, 1, 1, 1, 1, ...  \n3  [4, 1, 1, 1, 4, 1, 1, 1, 1, 1, 1, 1, 2, 1, 3, ...  \n4  [2, 1, 4, 2, 1, 1, 1, 1, 2, 1, 1, 1, 1, 1, 1, ...  ",
      "text/html": "<div>\n<style scoped>\n    .dataframe tbody tr th:only-of-type {\n        vertical-align: middle;\n    }\n\n    .dataframe tbody tr th {\n        vertical-align: top;\n    }\n\n    .dataframe thead th {\n        text-align: right;\n    }\n</style>\n<table border=\"1\" class=\"dataframe\">\n  <thead>\n    <tr style=\"text-align: right;\">\n      <th></th>\n      <th>place</th>\n      <th>singular_cleaned_nouns</th>\n      <th>freq_noun_int</th>\n    </tr>\n  </thead>\n  <tbody>\n    <tr>\n      <th>0</th>\n      <td>Waikiki</td>\n      <td>['Swamp', 'Mile', 'Downtown', 'Island', 'City'...</td>\n      <td>[1, 1, 1, 1, 1, 1, 1, 1, 1, 1, 1, 3, 1, 1, 1, ...</td>\n    </tr>\n    <tr>\n      <th>1</th>\n      <td>The Florida Keys</td>\n      <td>['Folklore', 'Film', 'Hearsay', 'Key', 'Mile',...</td>\n      <td>[1, 1, 1, 1, 3, 1, 1, 2, 1, 1, 1, 1, 1, 1, 1, ...</td>\n    </tr>\n    <tr>\n      <th>2</th>\n      <td>Yellowstone National Park</td>\n      <td>['Park', 'Yellowstone', 'National', 'Park', 'V...</td>\n      <td>[3, 1, 1, 1, 1, 2, 1, 1, 1, 1, 1, 1, 1, 1, 1, ...</td>\n    </tr>\n    <tr>\n      <th>3</th>\n      <td>The Big Island</td>\n      <td>['Island', 'Island', 'Room', 'Population', 'To...</td>\n      <td>[4, 1, 1, 1, 4, 1, 1, 1, 1, 1, 1, 1, 2, 1, 3, ...</td>\n    </tr>\n    <tr>\n      <th>4</th>\n      <td>The Great Plains</td>\n      <td>['Hill', 'Grassland', 'Great', 'Home', 'Advent...</td>\n      <td>[2, 1, 4, 2, 1, 1, 1, 1, 2, 1, 1, 1, 1, 1, 1, ...</td>\n    </tr>\n  </tbody>\n</table>\n</div>"
     },
     "execution_count": 2,
     "metadata": {},
     "output_type": "execute_result"
    }
   ],
   "source": [
    "top3_places_df = main_file[['place', 'singular_cleaned_nouns', 'freq_noun_int']]\n",
    "top3_places_df.head()"
   ],
   "metadata": {
    "collapsed": false,
    "pycharm": {
     "name": "#%%\n"
    }
   }
  },
  {
   "cell_type": "code",
   "execution_count": 4,
   "outputs": [],
   "source": [
    "filter = [None, None, None, None]"
   ],
   "metadata": {
    "collapsed": false,
    "pycharm": {
     "name": "#%%\n"
    }
   }
  },
  {
   "cell_type": "code",
   "execution_count": null,
   "outputs": [],
   "source": [
    "def search_in_all():\n",
    "    dd\n",
    "\n",
    "\n",
    "def search_in_filter():\n",
    "    pass"
   ],
   "metadata": {
    "collapsed": false,
    "pycharm": {
     "name": "#%%\n"
    }
   }
  },
  {
   "cell_type": "code",
   "execution_count": 6,
   "outputs": [
    {
     "data": {
      "text/plain": "True"
     },
     "execution_count": 6,
     "metadata": {},
     "output_type": "execute_result"
    }
   ],
   "source": [
    "if all(x is None for x in filter):\n",
    "    search_in_all()\n",
    "else:\n",
    "    search_in_filter()"
   ],
   "metadata": {
    "collapsed": false,
    "pycharm": {
     "name": "#%%\n"
    }
   }
  },
  {
   "cell_type": "code",
   "execution_count": 12,
   "outputs": [],
   "source": [
    "from ast import literal_eval\n",
    "\n",
    "attr_list = []\n",
    "freq_list = []\n",
    "for nes in top3_places_df['singular_cleaned_nouns'].apply(literal_eval):\n",
    "    attr_list.extend(nes)\n",
    "for freq in top3_places_df['freq_noun_int'].apply(literal_eval):\n",
    "    freq_list.extend(map(int, freq))"
   ],
   "metadata": {
    "collapsed": false,
    "pycharm": {
     "name": "#%%\n"
    }
   }
  },
  {
   "cell_type": "code",
   "execution_count": 20,
   "outputs": [
    {
     "data": {
      "text/plain": "      singular_cleaned_nouns  freq_noun_int\n2122                    City             63\n30580                   Land             60\n18013                  River             54\n43694                    Bar             43",
      "text/html": "<div>\n<style scoped>\n    .dataframe tbody tr th:only-of-type {\n        vertical-align: middle;\n    }\n\n    .dataframe tbody tr th {\n        vertical-align: top;\n    }\n\n    .dataframe thead th {\n        text-align: right;\n    }\n</style>\n<table border=\"1\" class=\"dataframe\">\n  <thead>\n    <tr style=\"text-align: right;\">\n      <th></th>\n      <th>singular_cleaned_nouns</th>\n      <th>freq_noun_int</th>\n    </tr>\n  </thead>\n  <tbody>\n    <tr>\n      <th>2122</th>\n      <td>City</td>\n      <td>63</td>\n    </tr>\n    <tr>\n      <th>30580</th>\n      <td>Land</td>\n      <td>60</td>\n    </tr>\n    <tr>\n      <th>18013</th>\n      <td>River</td>\n      <td>54</td>\n    </tr>\n    <tr>\n      <th>43694</th>\n      <td>Bar</td>\n      <td>43</td>\n    </tr>\n  </tbody>\n</table>\n</div>"
     },
     "execution_count": 20,
     "metadata": {},
     "output_type": "execute_result"
    }
   ],
   "source": [
    "nes_wc_df = pd.DataFrame({'singular_cleaned_nouns': attr_list, 'freq_noun_int': freq_list})\n",
    "nes_wc_df = nes_wc_df.sort_values(by=['freq_noun_int'], ascending=False)\n",
    "nes_wc_df = nes_wc_df.drop_duplicates(subset='singular_cleaned_nouns', keep=\"first\")\n",
    "nes_wc_df = nes_wc_df[:4]\n",
    "nes_wc_df"
   ],
   "metadata": {
    "collapsed": false,
    "pycharm": {
     "name": "#%%\n"
    }
   }
  },
  {
   "cell_type": "code",
   "execution_count": 22,
   "outputs": [
    {
     "data": {
      "text/plain": "['City', 'Land', 'River', 'Bar']"
     },
     "execution_count": 22,
     "metadata": {},
     "output_type": "execute_result"
    }
   ],
   "source": [
    "filter_list = list(nes_wc_df['singular_cleaned_nouns'])\n",
    "filter_list"
   ],
   "metadata": {
    "collapsed": false,
    "pycharm": {
     "name": "#%%\n"
    }
   }
  },
  {
   "cell_type": "code",
   "execution_count": 40,
   "outputs": [
    {
     "data": {
      "text/plain": "['place', 'City', 'Land', 'River', 'Bar']"
     },
     "execution_count": 40,
     "metadata": {},
     "output_type": "execute_result"
    }
   ],
   "source": [
    "df_cols = ['place']\n",
    "df_cols.extend(filter_list)\n",
    "df_cols"
   ],
   "metadata": {
    "collapsed": false,
    "pycharm": {
     "name": "#%%\n"
    }
   }
  },
  {
   "cell_type": "code",
   "execution_count": 73,
   "outputs": [
    {
     "data": {
      "text/plain": "Empty DataFrame\nColumns: [place, City, Land, River, Bar]\nIndex: []",
      "text/html": "<div>\n<style scoped>\n    .dataframe tbody tr th:only-of-type {\n        vertical-align: middle;\n    }\n\n    .dataframe tbody tr th {\n        vertical-align: top;\n    }\n\n    .dataframe thead th {\n        text-align: right;\n    }\n</style>\n<table border=\"1\" class=\"dataframe\">\n  <thead>\n    <tr style=\"text-align: right;\">\n      <th></th>\n      <th>place</th>\n      <th>City</th>\n      <th>Land</th>\n      <th>River</th>\n      <th>Bar</th>\n    </tr>\n  </thead>\n  <tbody>\n  </tbody>\n</table>\n</div>"
     },
     "execution_count": 73,
     "metadata": {},
     "output_type": "execute_result"
    }
   ],
   "source": [
    "df = pd.DataFrame(columns=df_cols)\n",
    "df"
   ],
   "metadata": {
    "collapsed": false,
    "pycharm": {
     "name": "#%%\n"
    }
   }
  },
  {
   "cell_type": "code",
   "execution_count": 74,
   "outputs": [
    {
     "data": {
      "text/plain": "                        place  City  Land  River  Bar\n0                     Waikiki     1     0      0    0\n1            The Florida Keys     0     0      0    1\n2   Yellowstone National Park     0     0      0    0\n3              The Big Island     0     0      0    1\n4            The Great Plains     2     4      1    0\n..                        ...   ...   ...    ...  ...\n95            Picos de Europa     0     0      5    4\n96                  Santander     3     0      0    1\n97                     Malaga     6     0      0    2\n98                      Ibiza     0     0      0    9\n99                   Valencia     0     0      0    0\n\n[100 rows x 5 columns]",
      "text/html": "<div>\n<style scoped>\n    .dataframe tbody tr th:only-of-type {\n        vertical-align: middle;\n    }\n\n    .dataframe tbody tr th {\n        vertical-align: top;\n    }\n\n    .dataframe thead th {\n        text-align: right;\n    }\n</style>\n<table border=\"1\" class=\"dataframe\">\n  <thead>\n    <tr style=\"text-align: right;\">\n      <th></th>\n      <th>place</th>\n      <th>City</th>\n      <th>Land</th>\n      <th>River</th>\n      <th>Bar</th>\n    </tr>\n  </thead>\n  <tbody>\n    <tr>\n      <th>0</th>\n      <td>Waikiki</td>\n      <td>1</td>\n      <td>0</td>\n      <td>0</td>\n      <td>0</td>\n    </tr>\n    <tr>\n      <th>1</th>\n      <td>The Florida Keys</td>\n      <td>0</td>\n      <td>0</td>\n      <td>0</td>\n      <td>1</td>\n    </tr>\n    <tr>\n      <th>2</th>\n      <td>Yellowstone National Park</td>\n      <td>0</td>\n      <td>0</td>\n      <td>0</td>\n      <td>0</td>\n    </tr>\n    <tr>\n      <th>3</th>\n      <td>The Big Island</td>\n      <td>0</td>\n      <td>0</td>\n      <td>0</td>\n      <td>1</td>\n    </tr>\n    <tr>\n      <th>4</th>\n      <td>The Great Plains</td>\n      <td>2</td>\n      <td>4</td>\n      <td>1</td>\n      <td>0</td>\n    </tr>\n    <tr>\n      <th>...</th>\n      <td>...</td>\n      <td>...</td>\n      <td>...</td>\n      <td>...</td>\n      <td>...</td>\n    </tr>\n    <tr>\n      <th>95</th>\n      <td>Picos de Europa</td>\n      <td>0</td>\n      <td>0</td>\n      <td>5</td>\n      <td>4</td>\n    </tr>\n    <tr>\n      <th>96</th>\n      <td>Santander</td>\n      <td>3</td>\n      <td>0</td>\n      <td>0</td>\n      <td>1</td>\n    </tr>\n    <tr>\n      <th>97</th>\n      <td>Malaga</td>\n      <td>6</td>\n      <td>0</td>\n      <td>0</td>\n      <td>2</td>\n    </tr>\n    <tr>\n      <th>98</th>\n      <td>Ibiza</td>\n      <td>0</td>\n      <td>0</td>\n      <td>0</td>\n      <td>9</td>\n    </tr>\n    <tr>\n      <th>99</th>\n      <td>Valencia</td>\n      <td>0</td>\n      <td>0</td>\n      <td>0</td>\n      <td>0</td>\n    </tr>\n  </tbody>\n</table>\n<p>100 rows × 5 columns</p>\n</div>"
     },
     "execution_count": 74,
     "metadata": {},
     "output_type": "execute_result"
    }
   ],
   "source": [
    "for row in top3_places_df.itertuples():\n",
    "    place = row.place\n",
    "    attractions = literal_eval(row.singular_cleaned_nouns)\n",
    "    freqs = literal_eval(row.freq_noun_int)\n",
    "    list_of_freqs = [0, 0, 0, 0]\n",
    "    list_of_freqs = list_of_freqs[:len(filter_list)]\n",
    "    for attr, freq in zip(attractions, freqs):\n",
    "        if attr in filter_list:\n",
    "            index = filter_list.index(attr)\n",
    "            list_of_freqs[index] = freq\n",
    "    new_col = [place]\n",
    "    new_col.extend(list_of_freqs)\n",
    "    df.loc[len(df.index)] = new_col\n",
    "df"
   ],
   "metadata": {
    "collapsed": false,
    "pycharm": {
     "name": "#%%\n"
    }
   }
  },
  {
   "cell_type": "code",
   "execution_count": null,
   "outputs": [],
   "source": [
    "'''for row in top3_places_df.itertuples():\n",
    "    place = row.place\n",
    "    attractions = literal_eval(row.singular_cleaned_nouns)\n",
    "    freqs = literal_eval(row.freq_noun_int)\n",
    "    freq_0 = 0\n",
    "    freq_1 = 0\n",
    "    freq_2 = 0\n",
    "    freq_3 = 0\n",
    "    for attr, freq in zip(attractions, freqs):\n",
    "        if attr in filter_list:\n",
    "            index = filter_list.index(attr)\n",
    "            if index == 0:\n",
    "                freq_0 = freq\n",
    "            if index == 1:\n",
    "                freq_1 = freq\n",
    "            if index == 2:\n",
    "                freq_2 = freq\n",
    "            if index == 3:\n",
    "                freq_3 = freq\n",
    "    df = df.append({'place': place, filter_list[0]: freq_0, filter_list[1]: freq_1, filter_list[2]: freq_2, filter_list[3]: freq_3}, ignore_index=True)\n",
    "df'''"
   ],
   "metadata": {
    "collapsed": false,
    "pycharm": {
     "name": "#%%\n"
    }
   }
  },
  {
   "cell_type": "code",
   "execution_count": 76,
   "outputs": [
    {
     "data": {
      "text/plain": "                place  City  Land  River  Bar\n10        Mexico City    63     9      4    4\n13           Veracruz    19     9     10    1\n14            Chiapas    18    22      9    2\n24           Yaletown    29    14      3    7\n43              Bahia     4     1     10    2\n44  Rio Grande do Sul     4     3      2    2\n68            Corsica     4    60      2    4\n71             Berlin    34    15      1   11\n73      Hamburg Hafen    36     7     13   14\n94             Aragon     4     7      4    1",
      "text/html": "<div>\n<style scoped>\n    .dataframe tbody tr th:only-of-type {\n        vertical-align: middle;\n    }\n\n    .dataframe tbody tr th {\n        vertical-align: top;\n    }\n\n    .dataframe thead th {\n        text-align: right;\n    }\n</style>\n<table border=\"1\" class=\"dataframe\">\n  <thead>\n    <tr style=\"text-align: right;\">\n      <th></th>\n      <th>place</th>\n      <th>City</th>\n      <th>Land</th>\n      <th>River</th>\n      <th>Bar</th>\n    </tr>\n  </thead>\n  <tbody>\n    <tr>\n      <th>10</th>\n      <td>Mexico City</td>\n      <td>63</td>\n      <td>9</td>\n      <td>4</td>\n      <td>4</td>\n    </tr>\n    <tr>\n      <th>13</th>\n      <td>Veracruz</td>\n      <td>19</td>\n      <td>9</td>\n      <td>10</td>\n      <td>1</td>\n    </tr>\n    <tr>\n      <th>14</th>\n      <td>Chiapas</td>\n      <td>18</td>\n      <td>22</td>\n      <td>9</td>\n      <td>2</td>\n    </tr>\n    <tr>\n      <th>24</th>\n      <td>Yaletown</td>\n      <td>29</td>\n      <td>14</td>\n      <td>3</td>\n      <td>7</td>\n    </tr>\n    <tr>\n      <th>43</th>\n      <td>Bahia</td>\n      <td>4</td>\n      <td>1</td>\n      <td>10</td>\n      <td>2</td>\n    </tr>\n    <tr>\n      <th>44</th>\n      <td>Rio Grande do Sul</td>\n      <td>4</td>\n      <td>3</td>\n      <td>2</td>\n      <td>2</td>\n    </tr>\n    <tr>\n      <th>68</th>\n      <td>Corsica</td>\n      <td>4</td>\n      <td>60</td>\n      <td>2</td>\n      <td>4</td>\n    </tr>\n    <tr>\n      <th>71</th>\n      <td>Berlin</td>\n      <td>34</td>\n      <td>15</td>\n      <td>1</td>\n      <td>11</td>\n    </tr>\n    <tr>\n      <th>73</th>\n      <td>Hamburg Hafen</td>\n      <td>36</td>\n      <td>7</td>\n      <td>13</td>\n      <td>14</td>\n    </tr>\n    <tr>\n      <th>94</th>\n      <td>Aragon</td>\n      <td>4</td>\n      <td>7</td>\n      <td>4</td>\n      <td>1</td>\n    </tr>\n  </tbody>\n</table>\n</div>"
     },
     "execution_count": 76,
     "metadata": {},
     "output_type": "execute_result"
    }
   ],
   "source": [
    "#df = df[(df[filter_list[0]] != 0) & (df[filter_list[1]] != 0) & (df[filter_list[2]] != 0) & (df[filter_list[3]] != 0)]\n",
    "df_2 = df[~(df == 0).any(axis=1)]\n",
    "if len(df_2) > 2:\n",
    "    df = df_2\n",
    "df"
   ],
   "metadata": {
    "collapsed": false,
    "pycharm": {
     "name": "#%%\n"
    }
   }
  },
  {
   "cell_type": "code",
   "execution_count": 77,
   "outputs": [
    {
     "name": "stderr",
     "output_type": "stream",
     "text": [
      "C:\\Users\\Admin\\AppData\\Local\\Temp\\ipykernel_18236\\3391135059.py:2: FutureWarning: Dropping of nuisance columns in DataFrame reductions (with 'numeric_only=None') is deprecated; in a future version this will raise TypeError.  Select only valid columns before calling the reduction.\n",
      "  df['sum'] = df.sum(axis=1)\n",
      "C:\\Users\\Admin\\AppData\\Local\\Temp\\ipykernel_18236\\3391135059.py:2: SettingWithCopyWarning: \n",
      "A value is trying to be set on a copy of a slice from a DataFrame.\n",
      "Try using .loc[row_indexer,col_indexer] = value instead\n",
      "\n",
      "See the caveats in the documentation: https://pandas.pydata.org/pandas-docs/stable/user_guide/indexing.html#returning-a-view-versus-a-copy\n",
      "  df['sum'] = df.sum(axis=1)\n"
     ]
    },
    {
     "data": {
      "text/plain": "                place  City  Land  River  Bar  sum\n10        Mexico City    63     9      4    4   80\n13           Veracruz    19     9     10    1   39\n14            Chiapas    18    22      9    2   51\n24           Yaletown    29    14      3    7   53\n43              Bahia     4     1     10    2   17\n44  Rio Grande do Sul     4     3      2    2   11\n68            Corsica     4    60      2    4   70\n71             Berlin    34    15      1   11   61\n73      Hamburg Hafen    36     7     13   14   70\n94             Aragon     4     7      4    1   16",
      "text/html": "<div>\n<style scoped>\n    .dataframe tbody tr th:only-of-type {\n        vertical-align: middle;\n    }\n\n    .dataframe tbody tr th {\n        vertical-align: top;\n    }\n\n    .dataframe thead th {\n        text-align: right;\n    }\n</style>\n<table border=\"1\" class=\"dataframe\">\n  <thead>\n    <tr style=\"text-align: right;\">\n      <th></th>\n      <th>place</th>\n      <th>City</th>\n      <th>Land</th>\n      <th>River</th>\n      <th>Bar</th>\n      <th>sum</th>\n    </tr>\n  </thead>\n  <tbody>\n    <tr>\n      <th>10</th>\n      <td>Mexico City</td>\n      <td>63</td>\n      <td>9</td>\n      <td>4</td>\n      <td>4</td>\n      <td>80</td>\n    </tr>\n    <tr>\n      <th>13</th>\n      <td>Veracruz</td>\n      <td>19</td>\n      <td>9</td>\n      <td>10</td>\n      <td>1</td>\n      <td>39</td>\n    </tr>\n    <tr>\n      <th>14</th>\n      <td>Chiapas</td>\n      <td>18</td>\n      <td>22</td>\n      <td>9</td>\n      <td>2</td>\n      <td>51</td>\n    </tr>\n    <tr>\n      <th>24</th>\n      <td>Yaletown</td>\n      <td>29</td>\n      <td>14</td>\n      <td>3</td>\n      <td>7</td>\n      <td>53</td>\n    </tr>\n    <tr>\n      <th>43</th>\n      <td>Bahia</td>\n      <td>4</td>\n      <td>1</td>\n      <td>10</td>\n      <td>2</td>\n      <td>17</td>\n    </tr>\n    <tr>\n      <th>44</th>\n      <td>Rio Grande do Sul</td>\n      <td>4</td>\n      <td>3</td>\n      <td>2</td>\n      <td>2</td>\n      <td>11</td>\n    </tr>\n    <tr>\n      <th>68</th>\n      <td>Corsica</td>\n      <td>4</td>\n      <td>60</td>\n      <td>2</td>\n      <td>4</td>\n      <td>70</td>\n    </tr>\n    <tr>\n      <th>71</th>\n      <td>Berlin</td>\n      <td>34</td>\n      <td>15</td>\n      <td>1</td>\n      <td>11</td>\n      <td>61</td>\n    </tr>\n    <tr>\n      <th>73</th>\n      <td>Hamburg Hafen</td>\n      <td>36</td>\n      <td>7</td>\n      <td>13</td>\n      <td>14</td>\n      <td>70</td>\n    </tr>\n    <tr>\n      <th>94</th>\n      <td>Aragon</td>\n      <td>4</td>\n      <td>7</td>\n      <td>4</td>\n      <td>1</td>\n      <td>16</td>\n    </tr>\n  </tbody>\n</table>\n</div>"
     },
     "execution_count": 77,
     "metadata": {},
     "output_type": "execute_result"
    }
   ],
   "source": [
    "#df['sum'] = df[filter_list[0]] + df[filter_list[1]] + df[filter_list[2]] + df[filter_list[3]]\n",
    "df['sum'] = df.sum(axis=1)\n",
    "df"
   ],
   "metadata": {
    "collapsed": false,
    "pycharm": {
     "name": "#%%\n"
    }
   }
  },
  {
   "cell_type": "code",
   "execution_count": 72,
   "outputs": [
    {
     "data": {
      "text/plain": "            place  City  Land  River  Bar  sum\n10    Mexico City    63     9      4    4   80\n68        Corsica     4    60      2    4   70\n73  Hamburg Hafen    36     7     13   14   70\n93         Madrid    40     0      3   21   64",
      "text/html": "<div>\n<style scoped>\n    .dataframe tbody tr th:only-of-type {\n        vertical-align: middle;\n    }\n\n    .dataframe tbody tr th {\n        vertical-align: top;\n    }\n\n    .dataframe thead th {\n        text-align: right;\n    }\n</style>\n<table border=\"1\" class=\"dataframe\">\n  <thead>\n    <tr style=\"text-align: right;\">\n      <th></th>\n      <th>place</th>\n      <th>City</th>\n      <th>Land</th>\n      <th>River</th>\n      <th>Bar</th>\n      <th>sum</th>\n    </tr>\n  </thead>\n  <tbody>\n    <tr>\n      <th>10</th>\n      <td>Mexico City</td>\n      <td>63</td>\n      <td>9</td>\n      <td>4</td>\n      <td>4</td>\n      <td>80</td>\n    </tr>\n    <tr>\n      <th>68</th>\n      <td>Corsica</td>\n      <td>4</td>\n      <td>60</td>\n      <td>2</td>\n      <td>4</td>\n      <td>70</td>\n    </tr>\n    <tr>\n      <th>73</th>\n      <td>Hamburg Hafen</td>\n      <td>36</td>\n      <td>7</td>\n      <td>13</td>\n      <td>14</td>\n      <td>70</td>\n    </tr>\n    <tr>\n      <th>93</th>\n      <td>Madrid</td>\n      <td>40</td>\n      <td>0</td>\n      <td>3</td>\n      <td>21</td>\n      <td>64</td>\n    </tr>\n  </tbody>\n</table>\n</div>"
     },
     "execution_count": 72,
     "metadata": {},
     "output_type": "execute_result"
    }
   ],
   "source": [
    "df = df.sort_values(by=['sum'], ascending=False)\n",
    "df = df[:4]\n",
    "df"
   ],
   "metadata": {
    "collapsed": false,
    "pycharm": {
     "name": "#%%\n"
    }
   }
  },
  {
   "cell_type": "code",
   "execution_count": null,
   "outputs": [],
   "source": [],
   "metadata": {
    "collapsed": false,
    "pycharm": {
     "name": "#%%\n"
    }
   }
  }
 ],
 "metadata": {
  "kernelspec": {
   "display_name": "Python 3",
   "language": "python",
   "name": "python3"
  },
  "language_info": {
   "codemirror_mode": {
    "name": "ipython",
    "version": 2
   },
   "file_extension": ".py",
   "mimetype": "text/x-python",
   "name": "python",
   "nbconvert_exporter": "python",
   "pygments_lexer": "ipython2",
   "version": "2.7.6"
  }
 },
 "nbformat": 4,
 "nbformat_minor": 0
}