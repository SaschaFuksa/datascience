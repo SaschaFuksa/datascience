{
 "cells": [
  {
   "cell_type": "code",
   "execution_count": 1,
   "metadata": {
    "collapsed": true
   },
   "outputs": [
    {
     "data": {
      "text/plain": "                       place  \\\n0                    Waikiki   \n1           The Florida Keys   \n2  Yellowstone National Park   \n3             The Big Island   \n4           The Great Plains   \n\n                                           full_text  \n0  Built on a reclaimed swamp, two miles east of ...  \n1  Folklore, films and widespread hearsay have gi...  \n2  America’s oldest and easily its most famous na...  \n3  Although the Big Island of Hawaii could hold a...  \n4  The rolling hills and vast grasslands of the G...  ",
      "text/html": "<div>\n<style scoped>\n    .dataframe tbody tr th:only-of-type {\n        vertical-align: middle;\n    }\n\n    .dataframe tbody tr th {\n        vertical-align: top;\n    }\n\n    .dataframe thead th {\n        text-align: right;\n    }\n</style>\n<table border=\"1\" class=\"dataframe\">\n  <thead>\n    <tr style=\"text-align: right;\">\n      <th></th>\n      <th>place</th>\n      <th>full_text</th>\n    </tr>\n  </thead>\n  <tbody>\n    <tr>\n      <th>0</th>\n      <td>Waikiki</td>\n      <td>Built on a reclaimed swamp, two miles east of ...</td>\n    </tr>\n    <tr>\n      <th>1</th>\n      <td>The Florida Keys</td>\n      <td>Folklore, films and widespread hearsay have gi...</td>\n    </tr>\n    <tr>\n      <th>2</th>\n      <td>Yellowstone National Park</td>\n      <td>America’s oldest and easily its most famous na...</td>\n    </tr>\n    <tr>\n      <th>3</th>\n      <td>The Big Island</td>\n      <td>Although the Big Island of Hawaii could hold a...</td>\n    </tr>\n    <tr>\n      <th>4</th>\n      <td>The Great Plains</td>\n      <td>The rolling hills and vast grasslands of the G...</td>\n    </tr>\n  </tbody>\n</table>\n</div>"
     },
     "execution_count": 1,
     "metadata": {},
     "output_type": "execute_result"
    }
   ],
   "source": [
    "import pandas as pd\n",
    "\n",
    "# load data\n",
    "df = pd.read_csv('content/data_prep_2805_3.csv', usecols=['place', 'full_text'])\n",
    "df.head()"
   ]
  },
  {
   "cell_type": "code",
   "execution_count": 2,
   "outputs": [],
   "source": [
    "from gensim.parsing.preprocessing import remove_stopwords, strip_punctuation \\\n",
    "                                        , preprocess_string, strip_short, stem_text\n",
    "\n",
    "# preprocess given text\n",
    "def preprocess(text):\n",
    "\n",
    "    # clean text based on given filters\n",
    "    CUSTOM_FILTERS = [lambda x: x.lower(),\n",
    "                                remove_stopwords,\n",
    "                                strip_punctuation,\n",
    "                                strip_short,\n",
    "                                stem_text]\n",
    "    text = preprocess_string(text, CUSTOM_FILTERS)\n",
    "\n",
    "    return text\n",
    "\n",
    "# apply function to all reviews\n",
    "df['Text (Clean)'] = df['full_text'].apply(lambda x: preprocess(x))"
   ],
   "metadata": {
    "collapsed": false,
    "pycharm": {
     "name": "#%%\n"
    }
   }
  },
  {
   "cell_type": "code",
   "execution_count": 3,
   "outputs": [
    {
     "data": {
      "text/plain": "                       place  \\\n0                    Waikiki   \n1           The Florida Keys   \n2  Yellowstone National Park   \n3             The Big Island   \n4           The Great Plains   \n\n                                           full_text  \\\n0  Built on a reclaimed swamp, two miles east of ...   \n1  Folklore, films and widespread hearsay have gi...   \n2  America’s oldest and easily its most famous na...   \n3  Although the Big Island of Hawaii could hold a...   \n4  The rolling hills and vast grasslands of the G...   \n\n                                        Text (Clean)  \n0  [built, reclaim, swamp, mile, east, downtown, ...  \n1  [folklor, film, widespread, hearsai, given, fl...  \n2  [america’, oldest, easili, famou, nation, park...  \n3  [big, island, hawaii, hold, island, room, spar...  \n4  [roll, hill, vast, grassland, great, plain, ho...  ",
      "text/html": "<div>\n<style scoped>\n    .dataframe tbody tr th:only-of-type {\n        vertical-align: middle;\n    }\n\n    .dataframe tbody tr th {\n        vertical-align: top;\n    }\n\n    .dataframe thead th {\n        text-align: right;\n    }\n</style>\n<table border=\"1\" class=\"dataframe\">\n  <thead>\n    <tr style=\"text-align: right;\">\n      <th></th>\n      <th>place</th>\n      <th>full_text</th>\n      <th>Text (Clean)</th>\n    </tr>\n  </thead>\n  <tbody>\n    <tr>\n      <th>0</th>\n      <td>Waikiki</td>\n      <td>Built on a reclaimed swamp, two miles east of ...</td>\n      <td>[built, reclaim, swamp, mile, east, downtown, ...</td>\n    </tr>\n    <tr>\n      <th>1</th>\n      <td>The Florida Keys</td>\n      <td>Folklore, films and widespread hearsay have gi...</td>\n      <td>[folklor, film, widespread, hearsai, given, fl...</td>\n    </tr>\n    <tr>\n      <th>2</th>\n      <td>Yellowstone National Park</td>\n      <td>America’s oldest and easily its most famous na...</td>\n      <td>[america’, oldest, easili, famou, nation, park...</td>\n    </tr>\n    <tr>\n      <th>3</th>\n      <td>The Big Island</td>\n      <td>Although the Big Island of Hawaii could hold a...</td>\n      <td>[big, island, hawaii, hold, island, room, spar...</td>\n    </tr>\n    <tr>\n      <th>4</th>\n      <td>The Great Plains</td>\n      <td>The rolling hills and vast grasslands of the G...</td>\n      <td>[roll, hill, vast, grassland, great, plain, ho...</td>\n    </tr>\n  </tbody>\n</table>\n</div>"
     },
     "execution_count": 3,
     "metadata": {},
     "output_type": "execute_result"
    }
   ],
   "source": [
    "# preview of dataset\n",
    "df.head()"
   ],
   "metadata": {
    "collapsed": false,
    "pycharm": {
     "name": "#%%\n"
    }
   }
  },
  {
   "cell_type": "code",
   "execution_count": 4,
   "outputs": [],
   "source": [
    "# convert these processed reviews into a document-term matrix with the bag of words model\n",
    "from gensim import corpora\n",
    "\n",
    "# create a dictionary with the corpus\n",
    "corpus = df['Text (Clean)']\n",
    "dictionary = corpora.Dictionary(corpus)\n",
    "\n",
    "# convert corpus into a bag of words\n",
    "bow = [dictionary.doc2bow(text) for text in corpus]\n"
   ],
   "metadata": {
    "collapsed": false,
    "pycharm": {
     "name": "#%%\n"
    }
   }
  },
  {
   "cell_type": "code",
   "execution_count": 18,
   "outputs": [
    {
     "name": "stdout",
     "output_type": "stream",
     "text": [
      "Coherence score with 2 clusters: 0.36221930499264315\n",
      "Coherence score with 3 clusters: 0.38205883213620023\n",
      "Coherence score with 4 clusters: 0.3623648227449483\n"
     ]
    }
   ],
   "source": [
    "from gensim.models import LsiModel\n",
    "from gensim.models.coherencemodel import CoherenceModel\n",
    "\n",
    "# find the coherence score with a different number of topics\n",
    "for i in range(2,5):\n",
    "    lsi = LsiModel(bow, num_topics=i, id2word=dictionary)\n",
    "    coherence_model = CoherenceModel(model=lsi, texts=df['Text (Clean)'], dictionary=dictionary, coherence='c_v')\n",
    "    coherence_score = coherence_model.get_coherence()\n",
    "    print('Coherence score with {} clusters: {}'.format(i, coherence_score))"
   ],
   "metadata": {
    "collapsed": false,
    "pycharm": {
     "name": "#%%\n"
    }
   }
  },
  {
   "cell_type": "code",
   "execution_count": 12,
   "outputs": [],
   "source": [
    "# perform SVD on the bag of words with the LsiModel to extract 9 topics because of the highest coherence score\n",
    "lsi = LsiModel(bow, num_topics=3, id2word=dictionary)"
   ],
   "metadata": {
    "collapsed": false,
    "pycharm": {
     "name": "#%%\n"
    }
   }
  },
  {
   "cell_type": "code",
   "execution_count": 13,
   "outputs": [
    {
     "name": "stdout",
     "output_type": "stream",
     "text": [
      "Words in 0: 0.283*\"citi\" + 0.197*\"the\" + 0.163*\"town\" + 0.150*\"place\" + 0.138*\"it’\".\n",
      "Words in 1: 0.368*\"citi\" + -0.211*\"town\" + -0.199*\"beach\" + 0.151*\"build\" + 0.151*\"mexico\".\n",
      "Words in 2: -0.280*\"berlin\" + 0.234*\"mexico\" + -0.179*\"centuri\" + 0.144*\"site\" + -0.142*\"museum\".\n"
     ]
    }
   ],
   "source": [
    "# find the 5 words with the srongest association to the derived topics\n",
    "for topic_num, words in lsi.print_topics(num_words=5):\n",
    "    print('Words in {}: {}.'.format(topic_num, words))"
   ],
   "metadata": {
    "collapsed": false,
    "pycharm": {
     "name": "#%%\n"
    }
   }
  },
  {
   "cell_type": "code",
   "execution_count": 16,
   "outputs": [
    {
     "data": {
      "text/plain": "                                                 Text  Topic 0 score  \\\n0   Built on a reclaimed swamp, two miles east of ...           2.59   \n1   Folklore, films and widespread hearsay have gi...           4.06   \n2   America’s oldest and easily its most famous na...           2.09   \n3   Although the Big Island of Hawaii could hold a...           6.88   \n4   The rolling hills and vast grasslands of the G...           5.32   \n5   Only when you traverse the Rocky Mountain stat...           6.03   \n6   One of America’s oldest and most beautiful cit...           5.99   \n7   The city of Washington, in the District of Col...           6.09   \n8   The classic southwestern landscape of stark sa...           3.19   \n9   With its soaring cliffs, riverine forests and ...           2.98   \n10  One of the world’s mega-cities, with over 25 m...         157.84   \n11  Capital of the state that bears its name, beau...           7.02   \n12  To visitors, TULUM can mean several things. Fi...           8.15   \n13  The central Gulf coast is among the least-visi...          61.08   \n14  Although they’re very different states – Chiap...         101.98   \n15  Graced with tantalizing desert landscapes, lus...          66.23   \n16  REAL DE CATORCE is an extraordinary place. Sil...          10.07   \n17  The state of Oaxaca is one of the most enticin...          63.73   \n18  Shoehorned into a narrow ravine, GUANAJUATO wa...          11.34   \n19  Almost 2500m above sea level and crammed into ...           8.69   \n20  The uniformly glass-fronted skyscrapers etched...          43.91   \n21  In 1860, thousands watched as Charles Blondin ...          17.92   \n22  Wholly in BC on the western side of the Contin...          27.76   \n23  Although traditionally viewed as the “other” b...          11.90   \n24  Cradled between the ocean and mountains, VANCO...          53.73   \n25  Montréal’s downtown lies roughly between rue S...           9.84   \n26  With an isolated location 264km from Calgary a...          14.41   \n27  Forming the greater part of Canada’s largest p...          29.65   \n28  Banff National Park’s other main centre, LAKE ...          18.07   \n29  The Pacific Rim National ParkReserve is a magn...          29.92   \n30  First navigated by a Polish expedition in 1981...           4.31   \n31  Paracas is arguably a more scenic place to bas...           4.80   \n32  An increasingly popular alternative to the Inc...           7.71   \n33  According to myth, the lagoon at HUACACHINA, a...           2.49   \n34  Cusco’s modern and ancient centre, the Plaza d...           4.34   \n35  A vital Inca road once snaked its way up the c...           2.89   \n36  The small, modern town of CHACHAPOYAS, at 2334...          12.95   \n37  The commercial centre of northern Peru, CHICLA...           4.36   \n38  The city of PIURA feels very distinct from the...           3.24   \n39  A sprawling, hot and dusty city with over 400,...           2.47   \n40  The citizens of the fourteen-million-strong ci...          80.62   \n41  The Amazon is a vast forest – the largest on t...          68.06   \n42  São Paulo, the country’s most populous state a...          17.59   \n43  With over 1000km of coconut-fringed beaches an...          49.07   \n44  For many people the state of Rio Grande do Sul...          30.91   \n45  Until the late 1980s, the small state of Rio G...          12.51   \n46  Espírito Santo, a compact combination of mount...          25.49   \n47  The most impressive way to approach Belo Horiz...           5.18   \n48  The southern gateway into the Amazon, Cuiabá h...           5.93   \n49  Paraná, immediately to the south of São Paulo,...          42.69   \n\n    Topic 1 score  Topic 2 score  Topic  \n0           -0.50          -0.25      0  \n1           -1.03          -0.60      0  \n2           -0.88          -0.41      0  \n3           -4.31          -0.71      0  \n4           -1.37           0.06      0  \n5           -2.79           0.40      0  \n6            1.13          -0.80      0  \n7           -1.20          -0.64      0  \n8           -1.46          -0.49      0  \n9           -1.62          -0.17      0  \n10          86.60          63.78      0  \n11           1.56           0.50      0  \n12          -4.25           1.11      0  \n13           6.80          19.04      0  \n14         -12.80          48.44      0  \n15         -35.00          13.21      0  \n16          -2.40           2.36      0  \n17          -4.66          16.14      0  \n18           4.13           0.94      0  \n19          -0.11          -0.43      0  \n20          12.53         -17.00      0  \n21          -8.01          -0.38      0  \n22         -21.97           1.19      0  \n23          -7.57          -0.34      0  \n24          -0.83         -13.38      0  \n25           2.06          -1.50      0  \n26          -7.84          -0.21      0  \n27         -13.84           2.16      0  \n28         -14.13           3.76      0  \n29         -25.99          -0.41      0  \n30          -2.07           1.11      0  \n31          -2.54          -0.00      0  \n32          -3.19           1.36      0  \n33          -0.82           0.00      0  \n34           0.91           0.28      0  \n35          -0.61           0.40      0  \n36           0.40           3.34      0  \n37           0.34           0.23      0  \n38           0.05           0.46      0  \n39           0.10           0.25      0  \n40         -17.31          -6.77      0  \n41         -48.33          17.65      0  \n42          -2.28           1.87      0  \n43         -23.84           1.48      0  \n44          -4.52          -1.04      0  \n45          -6.27           0.22      0  \n46         -15.29           1.59      0  \n47          -0.30           0.05      0  \n48          -3.84           1.32      0  \n49          -4.46          -0.56      0  ",
      "text/html": "<div>\n<style scoped>\n    .dataframe tbody tr th:only-of-type {\n        vertical-align: middle;\n    }\n\n    .dataframe tbody tr th {\n        vertical-align: top;\n    }\n\n    .dataframe thead th {\n        text-align: right;\n    }\n</style>\n<table border=\"1\" class=\"dataframe\">\n  <thead>\n    <tr style=\"text-align: right;\">\n      <th></th>\n      <th>Text</th>\n      <th>Topic 0 score</th>\n      <th>Topic 1 score</th>\n      <th>Topic 2 score</th>\n      <th>Topic</th>\n    </tr>\n  </thead>\n  <tbody>\n    <tr>\n      <th>0</th>\n      <td>Built on a reclaimed swamp, two miles east of ...</td>\n      <td>2.59</td>\n      <td>-0.50</td>\n      <td>-0.25</td>\n      <td>0</td>\n    </tr>\n    <tr>\n      <th>1</th>\n      <td>Folklore, films and widespread hearsay have gi...</td>\n      <td>4.06</td>\n      <td>-1.03</td>\n      <td>-0.60</td>\n      <td>0</td>\n    </tr>\n    <tr>\n      <th>2</th>\n      <td>America’s oldest and easily its most famous na...</td>\n      <td>2.09</td>\n      <td>-0.88</td>\n      <td>-0.41</td>\n      <td>0</td>\n    </tr>\n    <tr>\n      <th>3</th>\n      <td>Although the Big Island of Hawaii could hold a...</td>\n      <td>6.88</td>\n      <td>-4.31</td>\n      <td>-0.71</td>\n      <td>0</td>\n    </tr>\n    <tr>\n      <th>4</th>\n      <td>The rolling hills and vast grasslands of the G...</td>\n      <td>5.32</td>\n      <td>-1.37</td>\n      <td>0.06</td>\n      <td>0</td>\n    </tr>\n    <tr>\n      <th>5</th>\n      <td>Only when you traverse the Rocky Mountain stat...</td>\n      <td>6.03</td>\n      <td>-2.79</td>\n      <td>0.40</td>\n      <td>0</td>\n    </tr>\n    <tr>\n      <th>6</th>\n      <td>One of America’s oldest and most beautiful cit...</td>\n      <td>5.99</td>\n      <td>1.13</td>\n      <td>-0.80</td>\n      <td>0</td>\n    </tr>\n    <tr>\n      <th>7</th>\n      <td>The city of Washington, in the District of Col...</td>\n      <td>6.09</td>\n      <td>-1.20</td>\n      <td>-0.64</td>\n      <td>0</td>\n    </tr>\n    <tr>\n      <th>8</th>\n      <td>The classic southwestern landscape of stark sa...</td>\n      <td>3.19</td>\n      <td>-1.46</td>\n      <td>-0.49</td>\n      <td>0</td>\n    </tr>\n    <tr>\n      <th>9</th>\n      <td>With its soaring cliffs, riverine forests and ...</td>\n      <td>2.98</td>\n      <td>-1.62</td>\n      <td>-0.17</td>\n      <td>0</td>\n    </tr>\n    <tr>\n      <th>10</th>\n      <td>One of the world’s mega-cities, with over 25 m...</td>\n      <td>157.84</td>\n      <td>86.60</td>\n      <td>63.78</td>\n      <td>0</td>\n    </tr>\n    <tr>\n      <th>11</th>\n      <td>Capital of the state that bears its name, beau...</td>\n      <td>7.02</td>\n      <td>1.56</td>\n      <td>0.50</td>\n      <td>0</td>\n    </tr>\n    <tr>\n      <th>12</th>\n      <td>To visitors, TULUM can mean several things. Fi...</td>\n      <td>8.15</td>\n      <td>-4.25</td>\n      <td>1.11</td>\n      <td>0</td>\n    </tr>\n    <tr>\n      <th>13</th>\n      <td>The central Gulf coast is among the least-visi...</td>\n      <td>61.08</td>\n      <td>6.80</td>\n      <td>19.04</td>\n      <td>0</td>\n    </tr>\n    <tr>\n      <th>14</th>\n      <td>Although they’re very different states – Chiap...</td>\n      <td>101.98</td>\n      <td>-12.80</td>\n      <td>48.44</td>\n      <td>0</td>\n    </tr>\n    <tr>\n      <th>15</th>\n      <td>Graced with tantalizing desert landscapes, lus...</td>\n      <td>66.23</td>\n      <td>-35.00</td>\n      <td>13.21</td>\n      <td>0</td>\n    </tr>\n    <tr>\n      <th>16</th>\n      <td>REAL DE CATORCE is an extraordinary place. Sil...</td>\n      <td>10.07</td>\n      <td>-2.40</td>\n      <td>2.36</td>\n      <td>0</td>\n    </tr>\n    <tr>\n      <th>17</th>\n      <td>The state of Oaxaca is one of the most enticin...</td>\n      <td>63.73</td>\n      <td>-4.66</td>\n      <td>16.14</td>\n      <td>0</td>\n    </tr>\n    <tr>\n      <th>18</th>\n      <td>Shoehorned into a narrow ravine, GUANAJUATO wa...</td>\n      <td>11.34</td>\n      <td>4.13</td>\n      <td>0.94</td>\n      <td>0</td>\n    </tr>\n    <tr>\n      <th>19</th>\n      <td>Almost 2500m above sea level and crammed into ...</td>\n      <td>8.69</td>\n      <td>-0.11</td>\n      <td>-0.43</td>\n      <td>0</td>\n    </tr>\n    <tr>\n      <th>20</th>\n      <td>The uniformly glass-fronted skyscrapers etched...</td>\n      <td>43.91</td>\n      <td>12.53</td>\n      <td>-17.00</td>\n      <td>0</td>\n    </tr>\n    <tr>\n      <th>21</th>\n      <td>In 1860, thousands watched as Charles Blondin ...</td>\n      <td>17.92</td>\n      <td>-8.01</td>\n      <td>-0.38</td>\n      <td>0</td>\n    </tr>\n    <tr>\n      <th>22</th>\n      <td>Wholly in BC on the western side of the Contin...</td>\n      <td>27.76</td>\n      <td>-21.97</td>\n      <td>1.19</td>\n      <td>0</td>\n    </tr>\n    <tr>\n      <th>23</th>\n      <td>Although traditionally viewed as the “other” b...</td>\n      <td>11.90</td>\n      <td>-7.57</td>\n      <td>-0.34</td>\n      <td>0</td>\n    </tr>\n    <tr>\n      <th>24</th>\n      <td>Cradled between the ocean and mountains, VANCO...</td>\n      <td>53.73</td>\n      <td>-0.83</td>\n      <td>-13.38</td>\n      <td>0</td>\n    </tr>\n    <tr>\n      <th>25</th>\n      <td>Montréal’s downtown lies roughly between rue S...</td>\n      <td>9.84</td>\n      <td>2.06</td>\n      <td>-1.50</td>\n      <td>0</td>\n    </tr>\n    <tr>\n      <th>26</th>\n      <td>With an isolated location 264km from Calgary a...</td>\n      <td>14.41</td>\n      <td>-7.84</td>\n      <td>-0.21</td>\n      <td>0</td>\n    </tr>\n    <tr>\n      <th>27</th>\n      <td>Forming the greater part of Canada’s largest p...</td>\n      <td>29.65</td>\n      <td>-13.84</td>\n      <td>2.16</td>\n      <td>0</td>\n    </tr>\n    <tr>\n      <th>28</th>\n      <td>Banff National Park’s other main centre, LAKE ...</td>\n      <td>18.07</td>\n      <td>-14.13</td>\n      <td>3.76</td>\n      <td>0</td>\n    </tr>\n    <tr>\n      <th>29</th>\n      <td>The Pacific Rim National ParkReserve is a magn...</td>\n      <td>29.92</td>\n      <td>-25.99</td>\n      <td>-0.41</td>\n      <td>0</td>\n    </tr>\n    <tr>\n      <th>30</th>\n      <td>First navigated by a Polish expedition in 1981...</td>\n      <td>4.31</td>\n      <td>-2.07</td>\n      <td>1.11</td>\n      <td>0</td>\n    </tr>\n    <tr>\n      <th>31</th>\n      <td>Paracas is arguably a more scenic place to bas...</td>\n      <td>4.80</td>\n      <td>-2.54</td>\n      <td>-0.00</td>\n      <td>0</td>\n    </tr>\n    <tr>\n      <th>32</th>\n      <td>An increasingly popular alternative to the Inc...</td>\n      <td>7.71</td>\n      <td>-3.19</td>\n      <td>1.36</td>\n      <td>0</td>\n    </tr>\n    <tr>\n      <th>33</th>\n      <td>According to myth, the lagoon at HUACACHINA, a...</td>\n      <td>2.49</td>\n      <td>-0.82</td>\n      <td>0.00</td>\n      <td>0</td>\n    </tr>\n    <tr>\n      <th>34</th>\n      <td>Cusco’s modern and ancient centre, the Plaza d...</td>\n      <td>4.34</td>\n      <td>0.91</td>\n      <td>0.28</td>\n      <td>0</td>\n    </tr>\n    <tr>\n      <th>35</th>\n      <td>A vital Inca road once snaked its way up the c...</td>\n      <td>2.89</td>\n      <td>-0.61</td>\n      <td>0.40</td>\n      <td>0</td>\n    </tr>\n    <tr>\n      <th>36</th>\n      <td>The small, modern town of CHACHAPOYAS, at 2334...</td>\n      <td>12.95</td>\n      <td>0.40</td>\n      <td>3.34</td>\n      <td>0</td>\n    </tr>\n    <tr>\n      <th>37</th>\n      <td>The commercial centre of northern Peru, CHICLA...</td>\n      <td>4.36</td>\n      <td>0.34</td>\n      <td>0.23</td>\n      <td>0</td>\n    </tr>\n    <tr>\n      <th>38</th>\n      <td>The city of PIURA feels very distinct from the...</td>\n      <td>3.24</td>\n      <td>0.05</td>\n      <td>0.46</td>\n      <td>0</td>\n    </tr>\n    <tr>\n      <th>39</th>\n      <td>A sprawling, hot and dusty city with over 400,...</td>\n      <td>2.47</td>\n      <td>0.10</td>\n      <td>0.25</td>\n      <td>0</td>\n    </tr>\n    <tr>\n      <th>40</th>\n      <td>The citizens of the fourteen-million-strong ci...</td>\n      <td>80.62</td>\n      <td>-17.31</td>\n      <td>-6.77</td>\n      <td>0</td>\n    </tr>\n    <tr>\n      <th>41</th>\n      <td>The Amazon is a vast forest – the largest on t...</td>\n      <td>68.06</td>\n      <td>-48.33</td>\n      <td>17.65</td>\n      <td>0</td>\n    </tr>\n    <tr>\n      <th>42</th>\n      <td>São Paulo, the country’s most populous state a...</td>\n      <td>17.59</td>\n      <td>-2.28</td>\n      <td>1.87</td>\n      <td>0</td>\n    </tr>\n    <tr>\n      <th>43</th>\n      <td>With over 1000km of coconut-fringed beaches an...</td>\n      <td>49.07</td>\n      <td>-23.84</td>\n      <td>1.48</td>\n      <td>0</td>\n    </tr>\n    <tr>\n      <th>44</th>\n      <td>For many people the state of Rio Grande do Sul...</td>\n      <td>30.91</td>\n      <td>-4.52</td>\n      <td>-1.04</td>\n      <td>0</td>\n    </tr>\n    <tr>\n      <th>45</th>\n      <td>Until the late 1980s, the small state of Rio G...</td>\n      <td>12.51</td>\n      <td>-6.27</td>\n      <td>0.22</td>\n      <td>0</td>\n    </tr>\n    <tr>\n      <th>46</th>\n      <td>Espírito Santo, a compact combination of mount...</td>\n      <td>25.49</td>\n      <td>-15.29</td>\n      <td>1.59</td>\n      <td>0</td>\n    </tr>\n    <tr>\n      <th>47</th>\n      <td>The most impressive way to approach Belo Horiz...</td>\n      <td>5.18</td>\n      <td>-0.30</td>\n      <td>0.05</td>\n      <td>0</td>\n    </tr>\n    <tr>\n      <th>48</th>\n      <td>The southern gateway into the Amazon, Cuiabá h...</td>\n      <td>5.93</td>\n      <td>-3.84</td>\n      <td>1.32</td>\n      <td>0</td>\n    </tr>\n    <tr>\n      <th>49</th>\n      <td>Paraná, immediately to the south of São Paulo,...</td>\n      <td>42.69</td>\n      <td>-4.46</td>\n      <td>-0.56</td>\n      <td>0</td>\n    </tr>\n  </tbody>\n</table>\n</div>"
     },
     "execution_count": 16,
     "metadata": {},
     "output_type": "execute_result"
    }
   ],
   "source": [
    "# find the scores given between the place and each topic\n",
    "corpus_lsi = lsi[bow]\n",
    "score1 = []\n",
    "score2 = []\n",
    "score3 = []\n",
    "#score4 = []\n",
    "#score5 = []\n",
    "#score6 = []\n",
    "#score7 = []\n",
    "#score8 = []\n",
    "#score9 = []\n",
    "for doc in corpus_lsi:\n",
    "    score1.append(round(doc[0][1],2))\n",
    "    score2.append(round(doc[1][1],2))\n",
    "    score3.append(round(doc[2][1],2))\n",
    "    #score4.append(round(doc[3][1],2))\n",
    "    #score5.append(round(doc[4][1],2))\n",
    "    #score6.append(round(doc[5][1],2))\n",
    "    #score7.append(round(doc[6][1],2))\n",
    "    #score8.append(round(doc[7][1],2))\n",
    "    #score9.append(round(doc[8][1],2))\n",
    "\n",
    "\n",
    "# create data frame that shows scores assigned for both topics for each review\n",
    "df_topic = pd.DataFrame()\n",
    "df_topic['Text'] = df['full_text']\n",
    "df_topic['Topic 0 score'] = score1\n",
    "df_topic['Topic 1 score'] = score2\n",
    "df_topic['Topic 2 score'] = score3\n",
    "#df_topic['Topic 3 score'] = score4\n",
    "#df_topic['Topic 4 score'] = score5\n",
    "#df_topic['Topic 5 score'] = score6\n",
    "#df_topic['Topic 6 score'] = score7\n",
    "#df_topic['Topic 7 score'] = score8\n",
    "#df_topic['Topic 8 score'] = score9\n",
    "df_topic['Topic']= df_topic[['Topic 0 score', 'Topic 1 score', 'Topic 2 score']].apply(lambda x: x.argmax(), axis=1)\n",
    "# , 'Topic 3 score', 'Topic 4 score', 'Topic 5 score', 'Topic 6 score', 'Topic 7 score', 'Topic 8 score'\n",
    "df_topic.head(50)"
   ],
   "metadata": {
    "collapsed": false,
    "pycharm": {
     "name": "#%%\n"
    }
   }
  },
  {
   "cell_type": "code",
   "execution_count": 9,
   "outputs": [
    {
     "name": "stdout",
     "output_type": "stream",
     "text": [
      "Sample text from topic 0:\n",
      " ['Volcanic in origin, the Aeolian Islands are named after Aeolus, the Greek god who kept the winds he controlled shut tight in one of the islands’ many caves. According to Homer, Odysseus put into the Aeolians and was given a bag of wind to help him home, but his sailors opened it too soon and the ship was blown straight back to port. More verifiably, the islands were coveted for their mineral wealth, the mining of obsidian (hard, glass-like lava) providing the basis for early prosperity, because it was the sharpest material available until people learned the art of smelting metals. Later their strategic importance attracted the Greeks, who settled on Lipari in 580 BC, but they later became a haven for pirates and a place of exile, a state of affairs that continued right into the twentieth century with the Fascists exiling their political opponents to Lipari. The twentieth century saw mass emigration, mostly to Australia, and even now islands such as Panarea and Alicudi have just a hundred or so year-round inhabitants. It’s only recently that the islanders stopped scratching a subsistence living and started welcoming tourists, and these days during the summer months the population of the islands can leap from 10,000 to 200,000. Every island is expensive, with prices in shops as well as restaurants reflecting the fact that most food is imported. But get out to the minor isles or come in blustery winter for a taste of what life was like on the islands twenty – or a hundred – years ago: unsophisticated, rough and beautiful.There’s plenty of fun to be had in Aeolian waters. At Panarea you can snorkel over the submerged foundations of a Roman port, and columns of pulsing bubbles around the majestically sculpted islets, or take an easy dive (12–20m) to see what appears to be a submarine snow-storm – the water is full of blobs of a weird white bacteria that grows on sulphur and has the consistency of eggwhite. Also off Panarea are the remains of a British cargo ship deliberately sunk during the Depression as an insurance scam – for the past fifteen years it has been inhabited by a giant fish (about 80kg).Alternatively, head to the Salinan village of Pollara, where a giant offshore crater offers easy diving with lots to see, or explore the wreck of a Roman ship off Filicudi; a rope guides you down to the archeological area – a true underwater museum. It is also a beautiful dive, with lots of fish and fascinating rock formations.Top image: Landscape view of Lipari islands taken from Volcano island, Aeolian Islands, Sicily, Italy © Martin M303/Shutterstock']\n"
     ]
    },
    {
     "ename": "ValueError",
     "evalue": "a must be greater than 0 unless no samples are taken",
     "output_type": "error",
     "traceback": [
      "\u001B[0;31m---------------------------------------------------------------------------\u001B[0m",
      "\u001B[0;31mValueError\u001B[0m                                Traceback (most recent call last)",
      "Input \u001B[0;32mIn [9]\u001B[0m, in \u001B[0;36m<cell line: 5>\u001B[0;34m()\u001B[0m\n\u001B[1;32m      3\u001B[0m df_topic1 \u001B[38;5;241m=\u001B[39m df_topic[df_topic[\u001B[38;5;124m'\u001B[39m\u001B[38;5;124mTopic\u001B[39m\u001B[38;5;124m'\u001B[39m]\u001B[38;5;241m==\u001B[39m\u001B[38;5;241m1\u001B[39m]\n\u001B[1;32m      4\u001B[0m \u001B[38;5;28mprint\u001B[39m(\u001B[38;5;124m'\u001B[39m\u001B[38;5;124mSample text from topic 0:\u001B[39m\u001B[38;5;130;01m\\n\u001B[39;00m\u001B[38;5;124m \u001B[39m\u001B[38;5;132;01m{}\u001B[39;00m\u001B[38;5;124m'\u001B[39m\u001B[38;5;241m.\u001B[39mformat(df_topic0\u001B[38;5;241m.\u001B[39msample(\u001B[38;5;241m1\u001B[39m, random_state\u001B[38;5;241m=\u001B[39m\u001B[38;5;241m2\u001B[39m)[\u001B[38;5;124m'\u001B[39m\u001B[38;5;124mText\u001B[39m\u001B[38;5;124m'\u001B[39m]\u001B[38;5;241m.\u001B[39mvalues))\n\u001B[0;32m----> 5\u001B[0m \u001B[38;5;28mprint\u001B[39m(\u001B[38;5;124m'\u001B[39m\u001B[38;5;130;01m\\n\u001B[39;00m\u001B[38;5;124mSample text from topic 1:\u001B[39m\u001B[38;5;130;01m\\n\u001B[39;00m\u001B[38;5;124m \u001B[39m\u001B[38;5;132;01m{}\u001B[39;00m\u001B[38;5;124m'\u001B[39m\u001B[38;5;241m.\u001B[39mformat(\u001B[43mdf_topic1\u001B[49m\u001B[38;5;241;43m.\u001B[39;49m\u001B[43msample\u001B[49m\u001B[43m(\u001B[49m\u001B[38;5;241;43m1\u001B[39;49m\u001B[43m,\u001B[49m\u001B[43m \u001B[49m\u001B[43mrandom_state\u001B[49m\u001B[38;5;241;43m=\u001B[39;49m\u001B[38;5;241;43m2\u001B[39;49m\u001B[43m)\u001B[49m[\u001B[38;5;124m'\u001B[39m\u001B[38;5;124mText\u001B[39m\u001B[38;5;124m'\u001B[39m]\u001B[38;5;241m.\u001B[39mvalues))\n",
      "File \u001B[0;32m/Library/Frameworks/Python.framework/Versions/3.9/lib/python3.9/site-packages/pandas/core/generic.py:5446\u001B[0m, in \u001B[0;36mNDFrame.sample\u001B[0;34m(self, n, frac, replace, weights, random_state, axis, ignore_index)\u001B[0m\n\u001B[1;32m   5443\u001B[0m \u001B[38;5;28;01mif\u001B[39;00m weights \u001B[38;5;129;01mis\u001B[39;00m \u001B[38;5;129;01mnot\u001B[39;00m \u001B[38;5;28;01mNone\u001B[39;00m:\n\u001B[1;32m   5444\u001B[0m     weights \u001B[38;5;241m=\u001B[39m sample\u001B[38;5;241m.\u001B[39mpreprocess_weights(\u001B[38;5;28mself\u001B[39m, weights, axis)\n\u001B[0;32m-> 5446\u001B[0m sampled_indices \u001B[38;5;241m=\u001B[39m \u001B[43msample\u001B[49m\u001B[38;5;241;43m.\u001B[39;49m\u001B[43msample\u001B[49m\u001B[43m(\u001B[49m\u001B[43mobj_len\u001B[49m\u001B[43m,\u001B[49m\u001B[43m \u001B[49m\u001B[43msize\u001B[49m\u001B[43m,\u001B[49m\u001B[43m \u001B[49m\u001B[43mreplace\u001B[49m\u001B[43m,\u001B[49m\u001B[43m \u001B[49m\u001B[43mweights\u001B[49m\u001B[43m,\u001B[49m\u001B[43m \u001B[49m\u001B[43mrs\u001B[49m\u001B[43m)\u001B[49m\n\u001B[1;32m   5447\u001B[0m result \u001B[38;5;241m=\u001B[39m \u001B[38;5;28mself\u001B[39m\u001B[38;5;241m.\u001B[39mtake(sampled_indices, axis\u001B[38;5;241m=\u001B[39maxis)\n\u001B[1;32m   5449\u001B[0m \u001B[38;5;28;01mif\u001B[39;00m ignore_index:\n",
      "File \u001B[0;32m/Library/Frameworks/Python.framework/Versions/3.9/lib/python3.9/site-packages/pandas/core/sample.py:150\u001B[0m, in \u001B[0;36msample\u001B[0;34m(obj_len, size, replace, weights, random_state)\u001B[0m\n\u001B[1;32m    147\u001B[0m     \u001B[38;5;28;01melse\u001B[39;00m:\n\u001B[1;32m    148\u001B[0m         \u001B[38;5;28;01mraise\u001B[39;00m \u001B[38;5;167;01mValueError\u001B[39;00m(\u001B[38;5;124m\"\u001B[39m\u001B[38;5;124mInvalid weights: weights sum to zero\u001B[39m\u001B[38;5;124m\"\u001B[39m)\n\u001B[0;32m--> 150\u001B[0m \u001B[38;5;28;01mreturn\u001B[39;00m \u001B[43mrandom_state\u001B[49m\u001B[38;5;241;43m.\u001B[39;49m\u001B[43mchoice\u001B[49m\u001B[43m(\u001B[49m\u001B[43mobj_len\u001B[49m\u001B[43m,\u001B[49m\u001B[43m \u001B[49m\u001B[43msize\u001B[49m\u001B[38;5;241;43m=\u001B[39;49m\u001B[43msize\u001B[49m\u001B[43m,\u001B[49m\u001B[43m \u001B[49m\u001B[43mreplace\u001B[49m\u001B[38;5;241;43m=\u001B[39;49m\u001B[43mreplace\u001B[49m\u001B[43m,\u001B[49m\u001B[43m \u001B[49m\u001B[43mp\u001B[49m\u001B[38;5;241;43m=\u001B[39;49m\u001B[43mweights\u001B[49m\u001B[43m)\u001B[49m\u001B[38;5;241m.\u001B[39mastype(\n\u001B[1;32m    151\u001B[0m     np\u001B[38;5;241m.\u001B[39mintp, copy\u001B[38;5;241m=\u001B[39m\u001B[38;5;28;01mFalse\u001B[39;00m\n\u001B[1;32m    152\u001B[0m )\n",
      "File \u001B[0;32mmtrand.pyx:909\u001B[0m, in \u001B[0;36mnumpy.random.mtrand.RandomState.choice\u001B[0;34m()\u001B[0m\n",
      "\u001B[0;31mValueError\u001B[0m: a must be greater than 0 unless no samples are taken"
     ]
    }
   ],
   "source": [
    "# find a Text from each topic\n",
    "df_topic0 = df_topic[df_topic['Topic'] == 0]\n",
    "df_topic1 = df_topic[df_topic['Topic']==1]\n",
    "print('Sample text from topic 0:\\n {}'.format(df_topic0.sample(1, random_state=2)['Text'].values))\n",
    "print('\\nSample text from topic 1:\\n {}'.format(df_topic1.sample(1, random_state=2)['Text'].values))"
   ],
   "metadata": {
    "collapsed": false,
    "pycharm": {
     "name": "#%%\n"
    }
   }
  },
  {
   "cell_type": "code",
   "execution_count": null,
   "outputs": [],
   "source": [],
   "metadata": {
    "collapsed": false,
    "pycharm": {
     "name": "#%%\n"
    }
   }
  }
 ],
 "metadata": {
  "kernelspec": {
   "display_name": "Python 3",
   "language": "python",
   "name": "python3"
  },
  "language_info": {
   "codemirror_mode": {
    "name": "ipython",
    "version": 2
   },
   "file_extension": ".py",
   "mimetype": "text/x-python",
   "name": "python",
   "nbconvert_exporter": "python",
   "pygments_lexer": "ipython2",
   "version": "2.7.6"
  }
 },
 "nbformat": 4,
 "nbformat_minor": 0
}