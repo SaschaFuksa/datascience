{
 "cells": [
  {
   "cell_type": "code",
   "execution_count": 1,
   "metadata": {
    "collapsed": true
   },
   "outputs": [],
   "source": [
    "# Load the regular expression library\n",
    "import re\n",
    "import pandas as pd"
   ]
  },
  {
   "cell_type": "code",
   "execution_count": 2,
   "outputs": [
    {
     "data": {
      "text/plain": "    Unnamed: 0.1  Unnamed: 0  number                      place  country  \\\n0              0           0       1                    Waikiki      USA   \n1              1           1       2           The Florida Keys      USA   \n2              2           2       3  Yellowstone National Park      USA   \n3              3           3       4             The Big Island      USA   \n4              4           4       5           The Great Plains      USA   \n..           ...         ...     ...                        ...      ...   \n95            95          95      96            Picos de Europa  Spanien   \n96            96          96      97                  Santander  Spanien   \n97            97          97      98                     Malaga  Spanien   \n98            98          98      99                      Ibiza  Spanien   \n99            99          99     100                   Valencia  Spanien   \n\n   continent                                    roughguide link  \\\n0    America    https://www.roughguides.com/usa/hawaii/waikiki/   \n1    America  https://www.roughguides.com/usa/florida/florid...   \n2    America  https://www.roughguides.com/usa/rockies/yellow...   \n3    America  https://www.roughguides.com/usa/hawaii/big-isl...   \n4    America      https://www.roughguides.com/usa/great-plains/   \n..       ...                                                ...   \n95    Europa  https://www.roughguides.com/spain/cantabria-an...   \n96    Europa  https://www.roughguides.com/spain/cantabria-an...   \n97    Europa  https://www.roughguides.com/spain/andalucia/ma...   \n98    Europa  https://www.roughguides.com/spain/the-balearic...   \n99    Europa  https://www.roughguides.com/spain/valencia/the...   \n\n                                         introduction  \\\n0   Built on a reclaimed swamp, two miles east of ...   \n1   Folklore, films and widespread hearsay have gi...   \n2   America’s oldest and easily its most famous na...   \n3   Although the Big Island of Hawaii could hold a...   \n4   The rolling hills and vast grasslands of the G...   \n..                                                ...   \n95  The Picos de Europa may not be the highest mou...   \n96  Easily the largest city in Cantabria, with a p...   \n97  MÁLAGA seems at first an uninviting place. It’...   \n98  IBIZA, or Eivissa in Catalan, is an island of ...   \n99  Stretching south of Valencia, the Costa Blanca...   \n\n                                          description  \\\n0   In places, the parallel Waikiki Beach narrows ...   \n1   Beach view with a vivid sunset at Key West, Fl...   \n2   Not only does Yellowstone deliver jaw-dropping...   \n3   Thanks to the Kilauea volcano, which has destr...   \n4   The Plains also share a complex, fascinating h...   \n..                                                ...   \n95  Walks in the Picos are amazingly diverse, with...   \n96  From the heart of the city, you can enjoy clea...   \n97  Málaga is also renowned for its fish and seafo...   \n98  For years, Ibiza was the European hippie escap...   \n99  A string of attractive little towns and beache...   \n\n                                            full_text  ...  \\\n0   Built on a reclaimed swamp, two miles east of ...  ...   \n1   Folklore, films and widespread hearsay have gi...  ...   \n2   America’s oldest and easily its most famous na...  ...   \n3   Although the Big Island of Hawaii could hold a...  ...   \n4   The rolling hills and vast grasslands of the G...  ...   \n..                                                ...  ...   \n95  The Picos de Europa may not be the highest mou...  ...   \n96  Easily the largest city in Cantabria, with a p...  ...   \n97  MÁLAGA seems at first an uninviting place. It’...  ...   \n98  IBIZA, or Eivissa in Catalan, is an island of ...  ...   \n99  Stretching south of Valencia, the Costa Blanca...  ...   \n\n                                            NE_no_tag  \\\n0   ['Honolulu', 'Waikiki', 'the Ala Wai canal', '...   \n1   ['FLORIDA', 'Cuba', 'Key West', 'Florida', 'Ke...   \n2   ['America', 'YELLOWSTONE NATIONAL PARK', 'Yell...   \n3   ['the Big Island of Hawaii', 'Captain Cook’s',...   \n4   ['the Great Plains', 'Crazy Horse', 'Sitting B...   \n..                                                ...   \n95  ['The Picos de Europa', 'Spain', 'Asturias', '...   \n96  ['Cantabria', 'SANTANDER', 'Bahía de Santander...   \n97  ['MÁLAGA', 'Seville', 'Calle Marqués de Larios...   \n98  ['IBIZA', 'Eivissa', 'Ibiza', 'Ibiza', 'Pacha'...   \n99  ['Valencia', 'the Costa Blanca', 'White Coast'...   \n\n                                               non_NE  \\\n0   ['Built', 'on', 'a', 'reclaimed', 'swamp', ','...   \n1   ['Folklore', ',', 'films', 'and', 'widespread'...   \n2   ['’s', 'oldest', 'and', 'easily', 'its', 'most...   \n3   ['Although', 'the', 'Big', 'Island', 'of', 'co...   \n4   ['The', 'rolling', 'hills', 'and', 'vast', 'gr...   \n..                                                ...   \n95  ['The', 'de', 'Europa', 'may', 'not', 'be', 't...   \n96  ['Easily', 'the', 'largest', 'city', 'in', ','...   \n97  ['seems', 'at', 'first', 'an', 'uninviting', '...   \n98  [',', 'or', 'in', 'Catalan', ',', 'is', 'an', ...   \n99  ['Stretching', 'south', 'of', ',', 'the', 'Cos...   \n\n                                         non_NE_nouns  \\\n0   ['swamp', 'miles', 'downtown', 'island', 'city...   \n1   ['Folklore', 'films', 'hearsay', 'KEYS', 'mile...   \n2   ['park', 'YELLOWSTONE', 'NATIONAL', 'PARK', 'v...   \n3   ['Island', 'islands', 'room', 'population', 't...   \n4   ['hills', 'grasslands', 'Great', 'home', 'adve...   \n..                                                ...   \n95  ['Europa', 'mountains', 'favourite', 'walkers'...   \n96  ['city', 'population', 'resort', 'transport', ...   \n97  ['place', 'city', 'south', 'population', 'work...   \n98  ['Catalan', 'island', 'excess', 'scores', 'cov...   \n99  ['Costa', 'Blanca', 'White', 'Coast', 'beaches...   \n\n                                           freq_nouns  \\\n0   [('swamp', 1), ('miles', 1), ('downtown', 1), ...   \n1   [('Folklore', 1), ('films', 1), ('hearsay', 1)...   \n2   [('park', 3), ('YELLOWSTONE', 1), ('NATIONAL',...   \n3   [('Big', 4), ('Island', 4), ('islands', 1), ('...   \n4   [('hills', 2), ('grasslands', 1), ('Great', 4)...   \n..                                                ...   \n95  [('Europa', 5), ('mountains', 7), ('favourite'...   \n96  [('city', 3), ('population', 1), ('resort', 1)...   \n97  [('place', 2), ('city', 6), ('south', 1), ('po...   \n98  [('Catalan', 1), ('island', 19), ('excess', 1)...   \n99  [('Costa', 1), ('Blanca', 1), ('White', 1), ('...   \n\n                                          non_NE_tags  \\\n0   [('swamp', 'wetland'), ('miles', 'linear_unit'...   \n1   [('Folklore', 'lore'), ('films', 'product'), (...   \n2   [('park', 'tract'), ('YELLOWSTONE', '-'), ('NA...   \n3   [('Big', '-'), ('Island', 'land'), ('islands',...   \n4   [('hills', 'natural_elevation'), ('grasslands'...   \n..                                                ...   \n95  [('Europa', '-'), ('mountains', 'natural_eleva...   \n96  [('city', 'municipality'), ('population', 'peo...   \n97  [('place', 'point'), ('city', 'municipality'),...   \n98  [('Catalan', 'Spaniard'), ('island', 'land'), ...   \n99  [('Costa', 'structure'), ('Blanca', '-'), ('Wh...   \n\n                                          freq_NE_int  \\\n0                                     [1, 2, 1, 1, 1]   \n1    [1, 4, 3, 3, 2, 1, 3, 1, 2, 6, 4, 3, 3, 3, 1, 1]   \n2                               [1, 1, 4, 1, 4, 1, 4]   \n3   [1, 1, 1, 1, 1, 7, 1, 2, 7, 1, 1, 3, 3, 1, 1, ...   \n4   [4, 1, 1, 1, 2, 2, 3, 4, 1, 1, 4, 2, 4, 1, 1, ...   \n..                                                ...   \n95  [1, 4, 2, 2, 2, 4, 4, 17, 1, 2, 9, 17, 17, 5, ...   \n96  [1, 1, 1, 2, 8, 1, 1, 8, 2, 1, 1, 8, 1, 2, 1, ...   \n97            [1, 1, 1, 1, 2, 1, 3, 1, 1, 1, 3, 1, 1]   \n98  [2, 2, 14, 14, 1, 6, 1, 1, 2, 1, 6, 1, 14, 1, ...   \n99  [3, 1, 1, 3, 2, 3, 1, 3, 1, 2, 2, 1, 1, 1, 1, ...   \n\n                                        freq_noun_int  \\\n0   [1, 1, 1, 1, 1, 1, 1, 1, 1, 1, 1, 3, 1, 1, 1, ...   \n1   [1, 1, 1, 1, 3, 1, 1, 2, 1, 1, 1, 1, 1, 1, 1, ...   \n2   [3, 1, 1, 1, 1, 2, 1, 1, 1, 1, 1, 1, 1, 1, 1, ...   \n3   [4, 1, 1, 1, 4, 1, 1, 1, 1, 1, 1, 1, 2, 1, 3, ...   \n4   [2, 1, 4, 2, 1, 1, 1, 1, 2, 1, 1, 1, 1, 1, 1, ...   \n..                                                ...   \n95  [5, 7, 1, 2, 1, 2, 2, 1, 2, 1, 2, 5, 3, 1, 1, ...   \n96  [3, 1, 1, 1, 1, 1, 3, 1, 1, 1, 1, 1, 1, 1, 1, ...   \n97  [2, 6, 1, 1, 1, 1, 1, 6, 1, 1, 1, 1, 1, 1, 1, ...   \n98  [1, 19, 1, 1, 8, 6, 2, 2, 3, 1, 1, 1, 1, 1, 1,...   \n99  [1, 1, 1, 1, 4, 5, 1, 2, 1, 2, 1, 2, 4, 2, 1, ...   \n\n                                        nouns_cleaned  \\\n0   ['swamp', 'miles', 'downtown', 'island', 'city...   \n1   ['folklore', 'films', 'hearsay', 'keys', 'mile...   \n2   ['park', 'yellowstone', 'national', 'park', 'v...   \n3   ['island', 'islands', 'room', 'population', 't...   \n4   ['hills', 'grasslands', 'great', 'home', 'adve...   \n..                                                ...   \n95  ['europa', 'mountains', 'favourite', 'walkers'...   \n96  ['city', 'population', 'resort', 'transport', ...   \n97  ['place', 'city', 'south', 'population', 'work...   \n98  ['catalan', 'island', 'excess', 'scores', 'cov...   \n99  ['costa', 'blanca', 'white', 'coast', 'beaches...   \n\n                                       singular_nouns  \\\n0   ['Swamp', 'Mile', 'Downtown', 'Island', 'City'...   \n1   ['Folklore', 'Film', 'Hearsay', 'Key', 'Mile',...   \n2   ['Park', 'Yellowstone', 'National', 'Park', 'V...   \n3   ['Island', 'Island', 'Room', 'Population', 'To...   \n4   ['Hill', 'Grassland', 'Great', 'Home', 'Advent...   \n..                                                ...   \n95  ['Europa', 'Mountain', 'Favourite', 'Walker', ...   \n96  ['City', 'Population', 'Resort', 'Transport', ...   \n97  ['Place', 'City', 'South', 'Population', 'Work...   \n98  ['Catalan', 'Island', 'Exces', 'Score', 'Cove'...   \n99  ['Costum', 'Blanca', 'White', 'Coast', 'Beach'...   \n\n                               singular_cleaned_nound  \n0   ['Swamp', 'Mile', 'Downtown', 'Island', 'City'...  \n1   ['Folklore', 'Film', 'Hearsay', 'Key', 'Mile',...  \n2   ['Park', 'Yellowstone', 'National', 'Park', 'V...  \n3   ['Island', 'Island', 'Room', 'Population', 'To...  \n4   ['Hill', 'Grassland', 'Great', 'Home', 'Advent...  \n..                                                ...  \n95  ['Europa', 'Mountain', 'Favourite', 'Walker', ...  \n96  ['City', 'Population', 'Resort', 'Transport', ...  \n97  ['Place', 'City', 'South', 'Population', 'Work...  \n98  ['Catalan', 'Island', 'Exces', 'Score', 'Cove'...  \n99  ['Costum', 'Blanca', 'White', 'Coast', 'Beach'...  \n\n[100 rows x 23 columns]",
      "text/html": "<div>\n<style scoped>\n    .dataframe tbody tr th:only-of-type {\n        vertical-align: middle;\n    }\n\n    .dataframe tbody tr th {\n        vertical-align: top;\n    }\n\n    .dataframe thead th {\n        text-align: right;\n    }\n</style>\n<table border=\"1\" class=\"dataframe\">\n  <thead>\n    <tr style=\"text-align: right;\">\n      <th></th>\n      <th>Unnamed: 0.1</th>\n      <th>Unnamed: 0</th>\n      <th>number</th>\n      <th>place</th>\n      <th>country</th>\n      <th>continent</th>\n      <th>roughguide link</th>\n      <th>introduction</th>\n      <th>description</th>\n      <th>full_text</th>\n      <th>...</th>\n      <th>NE_no_tag</th>\n      <th>non_NE</th>\n      <th>non_NE_nouns</th>\n      <th>freq_nouns</th>\n      <th>non_NE_tags</th>\n      <th>freq_NE_int</th>\n      <th>freq_noun_int</th>\n      <th>nouns_cleaned</th>\n      <th>singular_nouns</th>\n      <th>singular_cleaned_nound</th>\n    </tr>\n  </thead>\n  <tbody>\n    <tr>\n      <th>0</th>\n      <td>0</td>\n      <td>0</td>\n      <td>1</td>\n      <td>Waikiki</td>\n      <td>USA</td>\n      <td>America</td>\n      <td>https://www.roughguides.com/usa/hawaii/waikiki/</td>\n      <td>Built on a reclaimed swamp, two miles east of ...</td>\n      <td>In places, the parallel Waikiki Beach narrows ...</td>\n      <td>Built on a reclaimed swamp, two miles east of ...</td>\n      <td>...</td>\n      <td>['Honolulu', 'Waikiki', 'the Ala Wai canal', '...</td>\n      <td>['Built', 'on', 'a', 'reclaimed', 'swamp', ','...</td>\n      <td>['swamp', 'miles', 'downtown', 'island', 'city...</td>\n      <td>[('swamp', 1), ('miles', 1), ('downtown', 1), ...</td>\n      <td>[('swamp', 'wetland'), ('miles', 'linear_unit'...</td>\n      <td>[1, 2, 1, 1, 1]</td>\n      <td>[1, 1, 1, 1, 1, 1, 1, 1, 1, 1, 1, 3, 1, 1, 1, ...</td>\n      <td>['swamp', 'miles', 'downtown', 'island', 'city...</td>\n      <td>['Swamp', 'Mile', 'Downtown', 'Island', 'City'...</td>\n      <td>['Swamp', 'Mile', 'Downtown', 'Island', 'City'...</td>\n    </tr>\n    <tr>\n      <th>1</th>\n      <td>1</td>\n      <td>1</td>\n      <td>2</td>\n      <td>The Florida Keys</td>\n      <td>USA</td>\n      <td>America</td>\n      <td>https://www.roughguides.com/usa/florida/florid...</td>\n      <td>Folklore, films and widespread hearsay have gi...</td>\n      <td>Beach view with a vivid sunset at Key West, Fl...</td>\n      <td>Folklore, films and widespread hearsay have gi...</td>\n      <td>...</td>\n      <td>['FLORIDA', 'Cuba', 'Key West', 'Florida', 'Ke...</td>\n      <td>['Folklore', ',', 'films', 'and', 'widespread'...</td>\n      <td>['Folklore', 'films', 'hearsay', 'KEYS', 'mile...</td>\n      <td>[('Folklore', 1), ('films', 1), ('hearsay', 1)...</td>\n      <td>[('Folklore', 'lore'), ('films', 'product'), (...</td>\n      <td>[1, 4, 3, 3, 2, 1, 3, 1, 2, 6, 4, 3, 3, 3, 1, 1]</td>\n      <td>[1, 1, 1, 1, 3, 1, 1, 2, 1, 1, 1, 1, 1, 1, 1, ...</td>\n      <td>['folklore', 'films', 'hearsay', 'keys', 'mile...</td>\n      <td>['Folklore', 'Film', 'Hearsay', 'Key', 'Mile',...</td>\n      <td>['Folklore', 'Film', 'Hearsay', 'Key', 'Mile',...</td>\n    </tr>\n    <tr>\n      <th>2</th>\n      <td>2</td>\n      <td>2</td>\n      <td>3</td>\n      <td>Yellowstone National Park</td>\n      <td>USA</td>\n      <td>America</td>\n      <td>https://www.roughguides.com/usa/rockies/yellow...</td>\n      <td>America’s oldest and easily its most famous na...</td>\n      <td>Not only does Yellowstone deliver jaw-dropping...</td>\n      <td>America’s oldest and easily its most famous na...</td>\n      <td>...</td>\n      <td>['America', 'YELLOWSTONE NATIONAL PARK', 'Yell...</td>\n      <td>['’s', 'oldest', 'and', 'easily', 'its', 'most...</td>\n      <td>['park', 'YELLOWSTONE', 'NATIONAL', 'PARK', 'v...</td>\n      <td>[('park', 3), ('YELLOWSTONE', 1), ('NATIONAL',...</td>\n      <td>[('park', 'tract'), ('YELLOWSTONE', '-'), ('NA...</td>\n      <td>[1, 1, 4, 1, 4, 1, 4]</td>\n      <td>[3, 1, 1, 1, 1, 2, 1, 1, 1, 1, 1, 1, 1, 1, 1, ...</td>\n      <td>['park', 'yellowstone', 'national', 'park', 'v...</td>\n      <td>['Park', 'Yellowstone', 'National', 'Park', 'V...</td>\n      <td>['Park', 'Yellowstone', 'National', 'Park', 'V...</td>\n    </tr>\n    <tr>\n      <th>3</th>\n      <td>3</td>\n      <td>3</td>\n      <td>4</td>\n      <td>The Big Island</td>\n      <td>USA</td>\n      <td>America</td>\n      <td>https://www.roughguides.com/usa/hawaii/big-isl...</td>\n      <td>Although the Big Island of Hawaii could hold a...</td>\n      <td>Thanks to the Kilauea volcano, which has destr...</td>\n      <td>Although the Big Island of Hawaii could hold a...</td>\n      <td>...</td>\n      <td>['the Big Island of Hawaii', 'Captain Cook’s',...</td>\n      <td>['Although', 'the', 'Big', 'Island', 'of', 'co...</td>\n      <td>['Island', 'islands', 'room', 'population', 't...</td>\n      <td>[('Big', 4), ('Island', 4), ('islands', 1), ('...</td>\n      <td>[('Big', '-'), ('Island', 'land'), ('islands',...</td>\n      <td>[1, 1, 1, 1, 1, 7, 1, 2, 7, 1, 1, 3, 3, 1, 1, ...</td>\n      <td>[4, 1, 1, 1, 4, 1, 1, 1, 1, 1, 1, 1, 2, 1, 3, ...</td>\n      <td>['island', 'islands', 'room', 'population', 't...</td>\n      <td>['Island', 'Island', 'Room', 'Population', 'To...</td>\n      <td>['Island', 'Island', 'Room', 'Population', 'To...</td>\n    </tr>\n    <tr>\n      <th>4</th>\n      <td>4</td>\n      <td>4</td>\n      <td>5</td>\n      <td>The Great Plains</td>\n      <td>USA</td>\n      <td>America</td>\n      <td>https://www.roughguides.com/usa/great-plains/</td>\n      <td>The rolling hills and vast grasslands of the G...</td>\n      <td>The Plains also share a complex, fascinating h...</td>\n      <td>The rolling hills and vast grasslands of the G...</td>\n      <td>...</td>\n      <td>['the Great Plains', 'Crazy Horse', 'Sitting B...</td>\n      <td>['The', 'rolling', 'hills', 'and', 'vast', 'gr...</td>\n      <td>['hills', 'grasslands', 'Great', 'home', 'adve...</td>\n      <td>[('hills', 2), ('grasslands', 1), ('Great', 4)...</td>\n      <td>[('hills', 'natural_elevation'), ('grasslands'...</td>\n      <td>[4, 1, 1, 1, 2, 2, 3, 4, 1, 1, 4, 2, 4, 1, 1, ...</td>\n      <td>[2, 1, 4, 2, 1, 1, 1, 1, 2, 1, 1, 1, 1, 1, 1, ...</td>\n      <td>['hills', 'grasslands', 'great', 'home', 'adve...</td>\n      <td>['Hill', 'Grassland', 'Great', 'Home', 'Advent...</td>\n      <td>['Hill', 'Grassland', 'Great', 'Home', 'Advent...</td>\n    </tr>\n    <tr>\n      <th>...</th>\n      <td>...</td>\n      <td>...</td>\n      <td>...</td>\n      <td>...</td>\n      <td>...</td>\n      <td>...</td>\n      <td>...</td>\n      <td>...</td>\n      <td>...</td>\n      <td>...</td>\n      <td>...</td>\n      <td>...</td>\n      <td>...</td>\n      <td>...</td>\n      <td>...</td>\n      <td>...</td>\n      <td>...</td>\n      <td>...</td>\n      <td>...</td>\n      <td>...</td>\n      <td>...</td>\n    </tr>\n    <tr>\n      <th>95</th>\n      <td>95</td>\n      <td>95</td>\n      <td>96</td>\n      <td>Picos de Europa</td>\n      <td>Spanien</td>\n      <td>Europa</td>\n      <td>https://www.roughguides.com/spain/cantabria-an...</td>\n      <td>The Picos de Europa may not be the highest mou...</td>\n      <td>Walks in the Picos are amazingly diverse, with...</td>\n      <td>The Picos de Europa may not be the highest mou...</td>\n      <td>...</td>\n      <td>['The Picos de Europa', 'Spain', 'Asturias', '...</td>\n      <td>['The', 'de', 'Europa', 'may', 'not', 'be', 't...</td>\n      <td>['Europa', 'mountains', 'favourite', 'walkers'...</td>\n      <td>[('Europa', 5), ('mountains', 7), ('favourite'...</td>\n      <td>[('Europa', '-'), ('mountains', 'natural_eleva...</td>\n      <td>[1, 4, 2, 2, 2, 4, 4, 17, 1, 2, 9, 17, 17, 5, ...</td>\n      <td>[5, 7, 1, 2, 1, 2, 2, 1, 2, 1, 2, 5, 3, 1, 1, ...</td>\n      <td>['europa', 'mountains', 'favourite', 'walkers'...</td>\n      <td>['Europa', 'Mountain', 'Favourite', 'Walker', ...</td>\n      <td>['Europa', 'Mountain', 'Favourite', 'Walker', ...</td>\n    </tr>\n    <tr>\n      <th>96</th>\n      <td>96</td>\n      <td>96</td>\n      <td>97</td>\n      <td>Santander</td>\n      <td>Spanien</td>\n      <td>Europa</td>\n      <td>https://www.roughguides.com/spain/cantabria-an...</td>\n      <td>Easily the largest city in Cantabria, with a p...</td>\n      <td>From the heart of the city, you can enjoy clea...</td>\n      <td>Easily the largest city in Cantabria, with a p...</td>\n      <td>...</td>\n      <td>['Cantabria', 'SANTANDER', 'Bahía de Santander...</td>\n      <td>['Easily', 'the', 'largest', 'city', 'in', ','...</td>\n      <td>['city', 'population', 'resort', 'transport', ...</td>\n      <td>[('city', 3), ('population', 1), ('resort', 1)...</td>\n      <td>[('city', 'municipality'), ('population', 'peo...</td>\n      <td>[1, 1, 1, 2, 8, 1, 1, 8, 2, 1, 1, 8, 1, 2, 1, ...</td>\n      <td>[3, 1, 1, 1, 1, 1, 3, 1, 1, 1, 1, 1, 1, 1, 1, ...</td>\n      <td>['city', 'population', 'resort', 'transport', ...</td>\n      <td>['City', 'Population', 'Resort', 'Transport', ...</td>\n      <td>['City', 'Population', 'Resort', 'Transport', ...</td>\n    </tr>\n    <tr>\n      <th>97</th>\n      <td>97</td>\n      <td>97</td>\n      <td>98</td>\n      <td>Malaga</td>\n      <td>Spanien</td>\n      <td>Europa</td>\n      <td>https://www.roughguides.com/spain/andalucia/ma...</td>\n      <td>MÁLAGA seems at first an uninviting place. It’...</td>\n      <td>Málaga is also renowned for its fish and seafo...</td>\n      <td>MÁLAGA seems at first an uninviting place. It’...</td>\n      <td>...</td>\n      <td>['MÁLAGA', 'Seville', 'Calle Marqués de Larios...</td>\n      <td>['seems', 'at', 'first', 'an', 'uninviting', '...</td>\n      <td>['place', 'city', 'south', 'population', 'work...</td>\n      <td>[('place', 2), ('city', 6), ('south', 1), ('po...</td>\n      <td>[('place', 'point'), ('city', 'municipality'),...</td>\n      <td>[1, 1, 1, 1, 2, 1, 3, 1, 1, 1, 3, 1, 1]</td>\n      <td>[2, 6, 1, 1, 1, 1, 1, 6, 1, 1, 1, 1, 1, 1, 1, ...</td>\n      <td>['place', 'city', 'south', 'population', 'work...</td>\n      <td>['Place', 'City', 'South', 'Population', 'Work...</td>\n      <td>['Place', 'City', 'South', 'Population', 'Work...</td>\n    </tr>\n    <tr>\n      <th>98</th>\n      <td>98</td>\n      <td>98</td>\n      <td>99</td>\n      <td>Ibiza</td>\n      <td>Spanien</td>\n      <td>Europa</td>\n      <td>https://www.roughguides.com/spain/the-balearic...</td>\n      <td>IBIZA, or Eivissa in Catalan, is an island of ...</td>\n      <td>For years, Ibiza was the European hippie escap...</td>\n      <td>IBIZA, or Eivissa in Catalan, is an island of ...</td>\n      <td>...</td>\n      <td>['IBIZA', 'Eivissa', 'Ibiza', 'Ibiza', 'Pacha'...</td>\n      <td>[',', 'or', 'in', 'Catalan', ',', 'is', 'an', ...</td>\n      <td>['Catalan', 'island', 'excess', 'scores', 'cov...</td>\n      <td>[('Catalan', 1), ('island', 19), ('excess', 1)...</td>\n      <td>[('Catalan', 'Spaniard'), ('island', 'land'), ...</td>\n      <td>[2, 2, 14, 14, 1, 6, 1, 1, 2, 1, 6, 1, 14, 1, ...</td>\n      <td>[1, 19, 1, 1, 8, 6, 2, 2, 3, 1, 1, 1, 1, 1, 1,...</td>\n      <td>['catalan', 'island', 'excess', 'scores', 'cov...</td>\n      <td>['Catalan', 'Island', 'Exces', 'Score', 'Cove'...</td>\n      <td>['Catalan', 'Island', 'Exces', 'Score', 'Cove'...</td>\n    </tr>\n    <tr>\n      <th>99</th>\n      <td>99</td>\n      <td>99</td>\n      <td>100</td>\n      <td>Valencia</td>\n      <td>Spanien</td>\n      <td>Europa</td>\n      <td>https://www.roughguides.com/spain/valencia/the...</td>\n      <td>Stretching south of Valencia, the Costa Blanca...</td>\n      <td>A string of attractive little towns and beache...</td>\n      <td>Stretching south of Valencia, the Costa Blanca...</td>\n      <td>...</td>\n      <td>['Valencia', 'the Costa Blanca', 'White Coast'...</td>\n      <td>['Stretching', 'south', 'of', ',', 'the', 'Cos...</td>\n      <td>['Costa', 'Blanca', 'White', 'Coast', 'beaches...</td>\n      <td>[('Costa', 1), ('Blanca', 1), ('White', 1), ('...</td>\n      <td>[('Costa', 'structure'), ('Blanca', '-'), ('Wh...</td>\n      <td>[3, 1, 1, 3, 2, 3, 1, 3, 1, 2, 2, 1, 1, 1, 1, ...</td>\n      <td>[1, 1, 1, 1, 4, 5, 1, 2, 1, 2, 1, 2, 4, 2, 1, ...</td>\n      <td>['costa', 'blanca', 'white', 'coast', 'beaches...</td>\n      <td>['Costum', 'Blanca', 'White', 'Coast', 'Beach'...</td>\n      <td>['Costum', 'Blanca', 'White', 'Coast', 'Beach'...</td>\n    </tr>\n  </tbody>\n</table>\n<p>100 rows × 23 columns</p>\n</div>"
     },
     "execution_count": 2,
     "metadata": {},
     "output_type": "execute_result"
    }
   ],
   "source": [
    "main_file = pd.read_csv('content/data_prep_2805_3.csv')\n",
    "main_file"
   ],
   "metadata": {
    "collapsed": false,
    "pycharm": {
     "name": "#%%\n"
    }
   }
  },
  {
   "cell_type": "code",
   "execution_count": 6,
   "outputs": [
    {
     "data": {
      "text/plain": "                        place  country continent  \\\n0                     Waikiki      USA   America   \n1            The Florida Keys      USA   America   \n2   Yellowstone National Park      USA   America   \n3              The Big Island      USA   America   \n4            The Great Plains      USA   America   \n..                        ...      ...       ...   \n95            Picos de Europa  Spanien    Europa   \n96                  Santander  Spanien    Europa   \n97                     Malaga  Spanien    Europa   \n98                      Ibiza  Spanien    Europa   \n99                   Valencia  Spanien    Europa   \n\n                                            full_text  \n0   Built on a reclaimed swamp, two miles east of ...  \n1   Folklore, films and widespread hearsay have gi...  \n2   America’s oldest and easily its most famous na...  \n3   Although the Big Island of Hawaii could hold a...  \n4   The rolling hills and vast grasslands of the G...  \n..                                                ...  \n95  The Picos de Europa may not be the highest mou...  \n96  Easily the largest city in Cantabria, with a p...  \n97  MÁLAGA seems at first an uninviting place. It’...  \n98  IBIZA, or Eivissa in Catalan, is an island of ...  \n99  Stretching south of Valencia, the Costa Blanca...  \n\n[100 rows x 4 columns]",
      "text/html": "<div>\n<style scoped>\n    .dataframe tbody tr th:only-of-type {\n        vertical-align: middle;\n    }\n\n    .dataframe tbody tr th {\n        vertical-align: top;\n    }\n\n    .dataframe thead th {\n        text-align: right;\n    }\n</style>\n<table border=\"1\" class=\"dataframe\">\n  <thead>\n    <tr style=\"text-align: right;\">\n      <th></th>\n      <th>place</th>\n      <th>country</th>\n      <th>continent</th>\n      <th>full_text</th>\n    </tr>\n  </thead>\n  <tbody>\n    <tr>\n      <th>0</th>\n      <td>Waikiki</td>\n      <td>USA</td>\n      <td>America</td>\n      <td>Built on a reclaimed swamp, two miles east of ...</td>\n    </tr>\n    <tr>\n      <th>1</th>\n      <td>The Florida Keys</td>\n      <td>USA</td>\n      <td>America</td>\n      <td>Folklore, films and widespread hearsay have gi...</td>\n    </tr>\n    <tr>\n      <th>2</th>\n      <td>Yellowstone National Park</td>\n      <td>USA</td>\n      <td>America</td>\n      <td>America’s oldest and easily its most famous na...</td>\n    </tr>\n    <tr>\n      <th>3</th>\n      <td>The Big Island</td>\n      <td>USA</td>\n      <td>America</td>\n      <td>Although the Big Island of Hawaii could hold a...</td>\n    </tr>\n    <tr>\n      <th>4</th>\n      <td>The Great Plains</td>\n      <td>USA</td>\n      <td>America</td>\n      <td>The rolling hills and vast grasslands of the G...</td>\n    </tr>\n    <tr>\n      <th>...</th>\n      <td>...</td>\n      <td>...</td>\n      <td>...</td>\n      <td>...</td>\n    </tr>\n    <tr>\n      <th>95</th>\n      <td>Picos de Europa</td>\n      <td>Spanien</td>\n      <td>Europa</td>\n      <td>The Picos de Europa may not be the highest mou...</td>\n    </tr>\n    <tr>\n      <th>96</th>\n      <td>Santander</td>\n      <td>Spanien</td>\n      <td>Europa</td>\n      <td>Easily the largest city in Cantabria, with a p...</td>\n    </tr>\n    <tr>\n      <th>97</th>\n      <td>Malaga</td>\n      <td>Spanien</td>\n      <td>Europa</td>\n      <td>MÁLAGA seems at first an uninviting place. It’...</td>\n    </tr>\n    <tr>\n      <th>98</th>\n      <td>Ibiza</td>\n      <td>Spanien</td>\n      <td>Europa</td>\n      <td>IBIZA, or Eivissa in Catalan, is an island of ...</td>\n    </tr>\n    <tr>\n      <th>99</th>\n      <td>Valencia</td>\n      <td>Spanien</td>\n      <td>Europa</td>\n      <td>Stretching south of Valencia, the Costa Blanca...</td>\n    </tr>\n  </tbody>\n</table>\n<p>100 rows × 4 columns</p>\n</div>"
     },
     "execution_count": 6,
     "metadata": {},
     "output_type": "execute_result"
    }
   ],
   "source": [
    "df = main_file.drop(main_file.columns[[0, 1, 2, 6, 7, 8, 10, 11, 12, 13, 14, 15, 16, 17, 18, 19, 20, 21, 22]], axis=1)\n",
    "df"
   ],
   "metadata": {
    "collapsed": false,
    "pycharm": {
     "name": "#%%\n"
    }
   }
  },
  {
   "cell_type": "code",
   "execution_count": 15,
   "outputs": [
    {
     "data": {
      "text/plain": "'folklore films and widespread hearsay have given the florida keys – a hundredmile chain of islands that runs to within ninety miles of cuba – an image of glamorous intrigue they don’t really deserve at least not now that the gogo days of the cocaine cowboys in the 1980s are long gone beach view with a vivid sunset at key west florida usathe keys can more accurately be described as an outdoorlover’s paradise where fishing snorkelling and diving dominate terrific untainted natural areas include the florida reef a great band of living coral just a few miles off the coast but for many the various keys are only stops on the way to key west this selfproclaimed “conch republic” has vibrant caribbeanstyle streets with plenty of convivial bars in which to while away the hours watching the spectacular sunsetswherever you are on the keys you’ll experience distinctive cuisine served for the most part in hip little shacks where the food is fresh and the atmosphere laidback conch a rich meaty mollusc is a speciality served in chowders and fritters there’s also key lime pie a delicate creamy concoction of special key limes and condensed milk that bears little resemblance to the lurid green imposter pies served in the rest of the uscloser to cuba than to mainland florida key west has a culture that is a bit contrary to the rest of the mainland us famed for their tolerant attitudes and laidback lifestyles the thirty thousand islanders seem adrift in a great expanse of sea and sky and – despite a million tourists a year – the place resonates with an individual spirit in particular liberal attitudes have stimulated a large gay influx estimated at two out of five of the population make sure to visit the bahamian village centred on thomas and petronia streets originally settled by cubans and africanbahamians this relatively unrestored untouristy corner of town is an atmospheric patchwork of singlestorey cigarmakers’ cottages cuban groceries and ramshackle old churches all covered by a rich green foliage'"
     },
     "execution_count": 15,
     "metadata": {},
     "output_type": "execute_result"
    }
   ],
   "source": [
    "import string\n",
    "\n",
    "text = df.at[1,'full_text']\n",
    "text = text.translate(str.maketrans('', '', string.punctuation))\n",
    "text = text.lower()\n",
    "text"
   ],
   "metadata": {
    "collapsed": false,
    "pycharm": {
     "name": "#%%\n"
    }
   }
  },
  {
   "cell_type": "code",
   "execution_count": 25,
   "outputs": [
    {
     "name": "stderr",
     "output_type": "stream",
     "text": [
      "[nltk_data] Downloading package stopwords to\n",
      "[nltk_data]     C:\\Users\\Admin\\AppData\\Roaming\\nltk_data...\n",
      "[nltk_data]   Package stopwords is already up-to-date!\n"
     ]
    },
    {
     "data": {
      "text/plain": "['folklore',\n 'films',\n 'widespread',\n 'hearsay',\n 'given',\n 'florida',\n 'keys',\n 'hundredmile',\n 'chain',\n 'islands',\n 'runs',\n 'within',\n 'ninety',\n 'miles',\n 'cuba',\n 'image',\n 'glamorous',\n 'intrigue',\n 'don’t',\n 'really',\n 'deserve',\n 'least',\n 'gogo',\n 'days',\n 'cocaine',\n 'cowboys',\n '1980s',\n 'long',\n 'gone',\n 'beach',\n 'view',\n 'vivid',\n 'sunset',\n 'key',\n 'west',\n 'florida',\n 'usathe',\n 'keys',\n 'accurately',\n 'described',\n 'outdoorlover’s',\n 'paradise',\n 'fishing',\n 'snorkelling',\n 'diving',\n 'dominate',\n 'terrific',\n 'untainted',\n 'natural',\n 'areas',\n 'include',\n 'florida',\n 'reef',\n 'great',\n 'band',\n 'living',\n 'coral',\n 'miles',\n 'coast',\n 'many',\n 'various',\n 'keys',\n 'stops',\n 'way',\n 'key',\n 'west',\n 'selfproclaimed',\n '“conch',\n 'republic”',\n 'vibrant',\n 'caribbeanstyle',\n 'streets',\n 'plenty',\n 'convivial',\n 'bars',\n 'away',\n 'hours',\n 'watching',\n 'spectacular',\n 'sunsetswherever',\n 'keys',\n 'you’ll',\n 'experience',\n 'distinctive',\n 'cuisine',\n 'served',\n 'part',\n 'hip',\n 'little',\n 'shacks',\n 'food',\n 'fresh',\n 'atmosphere',\n 'laidback',\n 'conch',\n 'rich',\n 'meaty',\n 'mollusc',\n 'speciality',\n 'served',\n 'chowders',\n 'fritters',\n 'there’s',\n 'also',\n 'key',\n 'lime',\n 'pie',\n 'delicate',\n 'creamy',\n 'concoction',\n 'special',\n 'key',\n 'limes',\n 'condensed',\n 'milk',\n 'bears',\n 'little',\n 'resemblance',\n 'lurid',\n 'green',\n 'imposter',\n 'pies',\n 'served',\n 'rest',\n 'uscloser',\n 'cuba',\n 'mainland',\n 'florida',\n 'key',\n 'west',\n 'culture',\n 'bit',\n 'contrary',\n 'rest',\n 'mainland',\n 'us',\n 'famed',\n 'tolerant',\n 'attitudes',\n 'laidback',\n 'lifestyles',\n 'thirty',\n 'thousand',\n 'islanders',\n 'seem',\n 'adrift',\n 'great',\n 'expanse',\n 'sea',\n 'sky',\n 'despite',\n 'million',\n 'tourists',\n 'year',\n 'place',\n 'resonates',\n 'individual',\n 'spirit',\n 'particular',\n 'liberal',\n 'attitudes',\n 'stimulated',\n 'large',\n 'gay',\n 'influx',\n 'estimated',\n 'two',\n 'five',\n 'population',\n 'make',\n 'sure',\n 'visit',\n 'bahamian',\n 'village',\n 'centred',\n 'thomas',\n 'petronia',\n 'streets',\n 'originally',\n 'settled',\n 'cubans',\n 'africanbahamians',\n 'relatively',\n 'unrestored',\n 'untouristy',\n 'corner',\n 'town',\n 'atmospheric',\n 'patchwork',\n 'singlestorey',\n 'cigarmakers’',\n 'cottages',\n 'cuban',\n 'groceries',\n 'ramshackle',\n 'old',\n 'churches',\n 'covered',\n 'rich',\n 'green',\n 'foliage']"
     },
     "execution_count": 25,
     "metadata": {},
     "output_type": "execute_result"
    }
   ],
   "source": [
    "import nltk\n",
    "nltk.download('stopwords')\n",
    "from nltk.corpus import stopwords\n",
    "\n",
    "stop_words = stopwords.words('english')\n",
    "stop_words.extend(['from', 'subject', 're', 'edu', 'use', '–'])\n",
    "\n",
    "words = re.sub('['+string.punctuation+']', '', text).split()\n",
    "preprocessed_text = []\n",
    "for word in words:\n",
    "    if word not in stop_words:\n",
    "        preprocessed_text.append(word)\n",
    "preprocessed_text"
   ],
   "metadata": {
    "collapsed": false,
    "pycharm": {
     "name": "#%%\n"
    }
   }
  },
  {
   "cell_type": "code",
   "execution_count": 39,
   "outputs": [
    {
     "data": {
      "text/plain": "[['folklore',\n  'films',\n  'widespread',\n  'hearsay',\n  'given',\n  'florida',\n  'keys',\n  'hundredmile',\n  'chain',\n  'islands',\n  'runs',\n  'within',\n  'ninety',\n  'miles',\n  'cuba',\n  'image',\n  'glamorous',\n  'intrigue',\n  'don’t',\n  'really',\n  'deserve',\n  'least',\n  'gogo',\n  'days',\n  'cocaine',\n  'cowboys',\n  '1980s',\n  'long',\n  'gone'],\n ['beach',\n  'view',\n  'vivid',\n  'sunset',\n  'key',\n  'west',\n  'florida',\n  'usathe',\n  'keys',\n  'accurately',\n  'described',\n  'outdoorlover’s',\n  'paradise',\n  'fishing',\n  'snorkelling',\n  'diving',\n  'dominate'],\n ['terrific',\n  'untainted',\n  'natural',\n  'areas',\n  'include',\n  'florida',\n  'reef',\n  'great',\n  'band',\n  'living',\n  'coral',\n  'miles',\n  'coast'],\n ['many', 'various', 'keys', 'stops', 'way', 'key', 'west'],\n ['selfproclaimed',\n  '“conch',\n  'republic”',\n  'vibrant',\n  'caribbeanstyle',\n  'streets',\n  'plenty',\n  'convivial',\n  'bars',\n  'away',\n  'hours',\n  'watching',\n  'spectacular',\n  'sunsets'],\n ['wherever',\n  'keys',\n  'you’ll',\n  'experience',\n  'distinctive',\n  'cuisine',\n  'served',\n  'part',\n  'hip',\n  'little',\n  'shacks',\n  'food',\n  'fresh',\n  'atmosphere',\n  'laidback'],\n ['conch',\n  'rich',\n  'meaty',\n  'mollusc',\n  'speciality',\n  'served',\n  'chowders',\n  'fritters'],\n ['there’s',\n  'also',\n  'key',\n  'lime',\n  'pie',\n  'delicate',\n  'creamy',\n  'concoction',\n  'special',\n  'key',\n  'limes',\n  'condensed',\n  'milk',\n  'bears',\n  'little',\n  'resemblance',\n  'lurid',\n  'green',\n  'imposter',\n  'pies',\n  'served',\n  'rest',\n  'us'],\n ['closer',\n  'cuba',\n  'mainland',\n  'florida',\n  'key',\n  'west',\n  'culture',\n  'bit',\n  'contrary',\n  'rest',\n  'mainland',\n  'us'],\n ['famed',\n  'tolerant',\n  'attitudes',\n  'laidback',\n  'lifestyles',\n  'thirty',\n  'thousand',\n  'islanders',\n  'seem',\n  'adrift',\n  'great',\n  'expanse',\n  'sea',\n  'sky',\n  'despite',\n  'million',\n  'tourists',\n  'year',\n  'place',\n  'resonates',\n  'individual',\n  'spirit'],\n ['particular',\n  'liberal',\n  'attitudes',\n  'stimulated',\n  'large',\n  'gay',\n  'influx',\n  'estimated',\n  'two',\n  'five',\n  'population'],\n ['make',\n  'sure',\n  'visit',\n  'bahamian',\n  'village',\n  'centred',\n  'thomas',\n  'petronia',\n  'streets'],\n ['originally',\n  'settled',\n  'cubans',\n  'africanbahamians',\n  'relatively',\n  'unrestored',\n  'untouristy',\n  'corner',\n  'town',\n  'atmospheric',\n  'patchwork',\n  'singlestorey',\n  'cigarmakers’',\n  'cottages',\n  'cuban',\n  'groceries',\n  'ramshackle',\n  'old',\n  'churches',\n  'covered',\n  'rich',\n  'green',\n  'foliage'],\n []]"
     },
     "execution_count": 39,
     "metadata": {},
     "output_type": "execute_result"
    }
   ],
   "source": [
    "text = df.at[1,'full_text']\n",
    "sentences = text.split('.')\n",
    "sentences_lower = []\n",
    "for sentence in sentences:\n",
    "    sentence_list = []\n",
    "    sentence = sentence.lower()\n",
    "    words = re.sub('['+string.punctuation+']', '', sentence).split()\n",
    "    for word in words:\n",
    "        if word not in stop_words:\n",
    "            sentence_list.append(word)\n",
    "    sentences_lower.append(sentence_list)\n",
    "sentences_lower"
   ],
   "metadata": {
    "collapsed": false,
    "pycharm": {
     "name": "#%%\n"
    }
   }
  },
  {
   "cell_type": "code",
   "execution_count": 34,
   "outputs": [
    {
     "data": {
      "text/plain": "[['folklore',\n  'films',\n  'widespread',\n  'hearsay',\n  'given',\n  'florida',\n  'keys',\n  'hundredmile',\n  'chain',\n  'islands',\n  'runs',\n  'within',\n  'ninety',\n  'miles',\n  'cuba',\n  'image',\n  'glamorous',\n  'intrigue',\n  'don’t',\n  'really',\n  'deserve',\n  'least',\n  'gogo',\n  'days',\n  'cocaine',\n  'cowboys',\n  '1980s',\n  'long',\n  'gone',\n  'beach',\n  'view',\n  'vivid',\n  'sunset',\n  'key',\n  'west',\n  'florida',\n  'usathe',\n  'keys',\n  'accurately',\n  'described',\n  'outdoorlover’s',\n  'paradise',\n  'fishing',\n  'snorkelling',\n  'diving',\n  'dominate',\n  'terrific',\n  'untainted',\n  'natural',\n  'areas',\n  'include',\n  'florida',\n  'reef',\n  'great',\n  'band',\n  'living',\n  'coral',\n  'miles',\n  'coast',\n  'many',\n  'various',\n  'keys',\n  'stops',\n  'way',\n  'key',\n  'west',\n  'selfproclaimed',\n  '“conch',\n  'republic”',\n  'vibrant',\n  'caribbeanstyle',\n  'streets',\n  'plenty',\n  'convivial',\n  'bars',\n  'away',\n  'hours',\n  'watching',\n  'spectacular',\n  'sunsetswherever',\n  'keys',\n  'you’ll',\n  'experience',\n  'distinctive',\n  'cuisine',\n  'served',\n  'part',\n  'hip',\n  'little',\n  'shacks',\n  'food',\n  'fresh',\n  'atmosphere',\n  'laidback',\n  'conch',\n  'rich',\n  'meaty',\n  'mollusc',\n  'speciality',\n  'served',\n  'chowders',\n  'fritters',\n  'there’s',\n  'also',\n  'key',\n  'lime',\n  'pie',\n  'delicate',\n  'creamy',\n  'concoction',\n  'special',\n  'key',\n  'limes',\n  'condensed',\n  'milk',\n  'bears',\n  'little',\n  'resemblance',\n  'lurid',\n  'green',\n  'imposter',\n  'pies',\n  'served',\n  'rest',\n  'uscloser',\n  'cuba',\n  'mainland',\n  'florida',\n  'key',\n  'west',\n  'culture',\n  'bit',\n  'contrary',\n  'rest',\n  'mainland',\n  'us',\n  'famed',\n  'tolerant',\n  'attitudes',\n  'laidback',\n  'lifestyles',\n  'thirty',\n  'thousand',\n  'islanders',\n  'seem',\n  'adrift',\n  'great',\n  'expanse',\n  'sea',\n  'sky',\n  'despite',\n  'million',\n  'tourists',\n  'year',\n  'place',\n  'resonates',\n  'individual',\n  'spirit',\n  'particular',\n  'liberal',\n  'attitudes',\n  'stimulated',\n  'large',\n  'gay',\n  'influx',\n  'estimated',\n  'two',\n  'five',\n  'population',\n  'make',\n  'sure',\n  'visit',\n  'bahamian',\n  'village',\n  'centred',\n  'thomas',\n  'petronia',\n  'streets',\n  'originally',\n  'settled',\n  'cubans',\n  'africanbahamians',\n  'relatively',\n  'unrestored',\n  'untouristy',\n  'corner',\n  'town',\n  'atmospheric',\n  'patchwork',\n  'singlestorey',\n  'cigarmakers’',\n  'cottages',\n  'cuban',\n  'groceries',\n  'ramshackle',\n  'old',\n  'churches',\n  'covered',\n  'rich',\n  'green',\n  'foliage']]"
     },
     "execution_count": 34,
     "metadata": {},
     "output_type": "execute_result"
    }
   ],
   "source": [
    "preprocessed = []\n",
    "preprocessed.append(preprocessed_text)\n",
    "preprocessed"
   ],
   "metadata": {
    "collapsed": false,
    "pycharm": {
     "name": "#%%\n"
    }
   }
  },
  {
   "cell_type": "code",
   "execution_count": 40,
   "outputs": [
    {
     "data": {
      "text/plain": "<gensim.corpora.dictionary.Dictionary at 0x26daabd5550>"
     },
     "execution_count": 40,
     "metadata": {},
     "output_type": "execute_result"
    }
   ],
   "source": [
    "import gensim.corpora as corpora\n",
    "\n",
    "# Create Dictionary\n",
    "id2word = corpora.Dictionary(sentences_lower)\n",
    "id2word"
   ],
   "metadata": {
    "collapsed": false,
    "pycharm": {
     "name": "#%%\n"
    }
   }
  },
  {
   "cell_type": "code",
   "execution_count": 42,
   "outputs": [
    {
     "name": "stdout",
     "output_type": "stream",
     "text": [
      "Dictionary<177 unique tokens: ['1980s', 'chain', 'cocaine', 'cowboys', 'cuba']...>\n",
      "[(0, 1), (1, 1), (2, 1), (3, 1), (4, 1), (5, 1), (6, 1), (7, 1), (8, 1), (9, 1), (10, 1), (11, 1), (12, 1), (13, 1), (14, 1), (15, 1), (16, 1), (17, 1), (18, 1), (19, 1), (20, 1), (21, 1), (22, 1), (23, 1), (24, 1), (25, 1), (26, 1), (27, 1), (28, 1)]\n"
     ]
    }
   ],
   "source": [
    "# Create Corpus\n",
    "texts = preprocessed_text\n",
    "\n",
    "# Create Corpus\n",
    "texts = sentences_lower\n",
    "\n",
    "# Term Document Frequency\n",
    "corpus = [id2word.doc2bow(text) for text in texts]\n",
    "\n",
    "# View\n",
    "print(id2word)\n",
    "print(corpus[:1][0][:30])"
   ],
   "metadata": {
    "collapsed": false,
    "pycharm": {
     "name": "#%%\n"
    }
   }
  },
  {
   "cell_type": "code",
   "execution_count": 45,
   "outputs": [
    {
     "name": "stdout",
     "output_type": "stream",
     "text": [
      "[(0,\n",
      "  '0.028*\"key\" + 0.028*\"west\" + 0.024*\"mainland\" + 0.021*\"florida\" + '\n",
      "  '0.020*\"keys\" + 0.016*\"cuba\" + 0.013*\"rest\" + 0.013*\"us\" + 0.013*\"closer\" + '\n",
      "  '0.013*\"bit\"'),\n",
      " (1,\n",
      "  '0.019*\"attitudes\" + 0.016*\"centred\" + 0.016*\"thomas\" + 0.016*\"streets\" + '\n",
      "  '0.016*\"sure\" + 0.016*\"village\" + 0.016*\"bahamian\" + 0.016*\"petronia\" + '\n",
      "  '0.016*\"visit\" + 0.016*\"make\"'),\n",
      " (2,\n",
      "  '0.024*\"green\" + 0.018*\"key\" + 0.017*\"rich\" + 0.017*\"cubans\" + '\n",
      "  '0.017*\"groceries\" + 0.017*\"old\" + 0.017*\"foliage\" + 0.017*\"originally\" + '\n",
      "  '0.017*\"cuban\" + 0.017*\"patchwork\"'),\n",
      " (3,\n",
      "  '0.022*\"keys\" + 0.015*\"within\" + 0.015*\"intrigue\" + 0.015*\"least\" + '\n",
      "  '0.015*\"really\" + 0.015*\"long\" + 0.015*\"cowboys\" + 0.015*\"hundredmile\" + '\n",
      "  '0.015*\"1980s\" + 0.014*\"islands\"'),\n",
      " (4,\n",
      "  '0.025*\"served\" + 0.016*\"meaty\" + 0.016*\"mollusc\" + 0.015*\"fritters\" + '\n",
      "  '0.015*\"conch\" + 0.015*\"speciality\" + 0.015*\"chowders\" + 0.015*\"rich\" + '\n",
      "  '0.015*\"living\" + 0.015*\"great\"')]\n"
     ]
    },
    {
     "data": {
      "text/plain": "<gensim.interfaces.TransformedCorpus at 0x26daaba9fd0>"
     },
     "execution_count": 45,
     "metadata": {},
     "output_type": "execute_result"
    }
   ],
   "source": [
    "import gensim\n",
    "from pprint import pprint\n",
    "\n",
    "# number of topics\n",
    "num_topics = 5\n",
    "\n",
    "# Build LDA model\n",
    "lda_model = gensim.models.LdaMulticore(corpus=corpus,\n",
    "                                       id2word=id2word,\n",
    "                                       num_topics=num_topics)\n",
    "\n",
    "# Print the Keyword in the 10 topics\n",
    "pprint(lda_model.print_topics())\n",
    "doc_lda = lda_model[corpus]\n",
    "doc_lda"
   ],
   "metadata": {
    "collapsed": false,
    "pycharm": {
     "name": "#%%\n"
    }
   }
  },
  {
   "cell_type": "code",
   "execution_count": null,
   "outputs": [],
   "source": [],
   "metadata": {
    "collapsed": false,
    "pycharm": {
     "name": "#%%\n"
    }
   }
  }
 ],
 "metadata": {
  "kernelspec": {
   "display_name": "Python 3",
   "language": "python",
   "name": "python3"
  },
  "language_info": {
   "codemirror_mode": {
    "name": "ipython",
    "version": 2
   },
   "file_extension": ".py",
   "mimetype": "text/x-python",
   "name": "python",
   "nbconvert_exporter": "python",
   "pygments_lexer": "ipython2",
   "version": "2.7.6"
  }
 },
 "nbformat": 4,
 "nbformat_minor": 0
}