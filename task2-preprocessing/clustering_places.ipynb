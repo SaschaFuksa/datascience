{
 "cells": [
  {
   "cell_type": "code",
   "execution_count": 18,
   "outputs": [
    {
     "data": {
      "text/plain": "                        place  \\\n0                     Waikiki   \n1            The Florida Keys   \n2   Yellowstone National Park   \n3              The Big Island   \n4            The Great Plains   \n..                        ...   \n95            Picos de Europa   \n96                  Santander   \n97                     Malaga   \n98                      Ibiza   \n99                   Valencia   \n\n                               singular_cleaned_nouns  \n0   [Swamp, Mile, Downtown, Island, City, Canal, S...  \n1   [Folklore, Film, Hearsay, Key, Mile, Chain, Is...  \n2   [Park, Yellowstone, National, Park, Visitor, Y...  \n3   [Island, Island, Room, Population, Town, Perso...  \n4   [Hill, Grassland, Great, Home, Adventurer, Art...  \n..                                                ...  \n95  [Europa, Mountain, Favourite, Walker, Trekker,...  \n96  [City, Population, Resort, Transport, Connecti...  \n97  [Place, City, South, Population, Workforce, Cl...  \n98  [Catalan, Island, Exces, Score, Cove, Beach, P...  \n99  [Costum, Blanca, White, Coast, Beach, Coast, E...  \n\n[100 rows x 2 columns]",
      "text/html": "<div>\n<style scoped>\n    .dataframe tbody tr th:only-of-type {\n        vertical-align: middle;\n    }\n\n    .dataframe tbody tr th {\n        vertical-align: top;\n    }\n\n    .dataframe thead th {\n        text-align: right;\n    }\n</style>\n<table border=\"1\" class=\"dataframe\">\n  <thead>\n    <tr style=\"text-align: right;\">\n      <th></th>\n      <th>place</th>\n      <th>singular_cleaned_nouns</th>\n    </tr>\n  </thead>\n  <tbody>\n    <tr>\n      <th>0</th>\n      <td>Waikiki</td>\n      <td>[Swamp, Mile, Downtown, Island, City, Canal, S...</td>\n    </tr>\n    <tr>\n      <th>1</th>\n      <td>The Florida Keys</td>\n      <td>[Folklore, Film, Hearsay, Key, Mile, Chain, Is...</td>\n    </tr>\n    <tr>\n      <th>2</th>\n      <td>Yellowstone National Park</td>\n      <td>[Park, Yellowstone, National, Park, Visitor, Y...</td>\n    </tr>\n    <tr>\n      <th>3</th>\n      <td>The Big Island</td>\n      <td>[Island, Island, Room, Population, Town, Perso...</td>\n    </tr>\n    <tr>\n      <th>4</th>\n      <td>The Great Plains</td>\n      <td>[Hill, Grassland, Great, Home, Adventurer, Art...</td>\n    </tr>\n    <tr>\n      <th>...</th>\n      <td>...</td>\n      <td>...</td>\n    </tr>\n    <tr>\n      <th>95</th>\n      <td>Picos de Europa</td>\n      <td>[Europa, Mountain, Favourite, Walker, Trekker,...</td>\n    </tr>\n    <tr>\n      <th>96</th>\n      <td>Santander</td>\n      <td>[City, Population, Resort, Transport, Connecti...</td>\n    </tr>\n    <tr>\n      <th>97</th>\n      <td>Malaga</td>\n      <td>[Place, City, South, Population, Workforce, Cl...</td>\n    </tr>\n    <tr>\n      <th>98</th>\n      <td>Ibiza</td>\n      <td>[Catalan, Island, Exces, Score, Cove, Beach, P...</td>\n    </tr>\n    <tr>\n      <th>99</th>\n      <td>Valencia</td>\n      <td>[Costum, Blanca, White, Coast, Beach, Coast, E...</td>\n    </tr>\n  </tbody>\n</table>\n<p>100 rows × 2 columns</p>\n</div>"
     },
     "execution_count": 18,
     "metadata": {},
     "output_type": "execute_result"
    }
   ],
   "source": [
    "import pandas as pd\n",
    "#import umap\n",
    "#import umap.plot\n",
    "from ast import literal_eval\n",
    "from sklearn.feature_extraction.text import CountVectorizer, TfidfVectorizer\n",
    "import numpy as np\n",
    "import matplotlib.pyplot as plt\n",
    "import pandas as pd\n",
    "\n",
    "df_places = pd.read_csv('../crawling-and-preprocessing/content/data_prep_2805_3.csv', usecols=['place', 'singular_cleaned_nouns'])\n",
    "df_places['singular_cleaned_nouns'] = df_places['singular_cleaned_nouns'].apply(literal_eval)\n",
    "#df_places['nouns_string'] = df_places['singular_cleaned_nouns'].apply(literal_eval)\n",
    "df_places"
   ],
   "metadata": {
    "collapsed": false,
    "pycharm": {
     "name": "#%%\n"
    }
   }
  },
  {
   "cell_type": "code",
   "execution_count": 19,
   "outputs": [
    {
     "name": "stdout",
     "output_type": "stream",
     "text": [
      "<class 'list'>\n",
      "['Swamp', 'Mile', 'Downtown', 'Island', 'City', 'Canal', 'Site', 'Day', 'Commercialism', 'Money', 'Point', 'Thing', 'Kalakaua', 'Avenue', 'Place', 'Beach', 'Strip', 'Sand', 'Place', 'Surf', 'Lesson', 'Outrigger', 'Canoe', 'Ride', 'Pedestrian', 'Walkway', 'Edge', 'Garden', 'Refuge', 'Frenzy', 'Centre', 'Spot']\n"
     ]
    }
   ],
   "source": [
    "for row in df_places.itertuples():\n",
    "    print(type(row.singular_cleaned_nouns))\n",
    "    print(row.singular_cleaned_nouns)\n",
    "    break"
   ],
   "metadata": {
    "collapsed": false,
    "pycharm": {
     "name": "#%%\n"
    }
   }
  },
  {
   "cell_type": "code",
   "execution_count": 20,
   "outputs": [
    {
     "data": {
      "text/plain": "                        place  \\\n0                     Waikiki   \n1            The Florida Keys   \n2   Yellowstone National Park   \n3              The Big Island   \n4            The Great Plains   \n..                        ...   \n95            Picos de Europa   \n96                  Santander   \n97                     Malaga   \n98                      Ibiza   \n99                   Valencia   \n\n                               singular_cleaned_nouns  \\\n0   [Swamp, Mile, Downtown, Island, City, Canal, S...   \n1   [Folklore, Film, Hearsay, Key, Mile, Chain, Is...   \n2   [Park, Yellowstone, National, Park, Visitor, Y...   \n3   [Island, Island, Room, Population, Town, Perso...   \n4   [Hill, Grassland, Great, Home, Adventurer, Art...   \n..                                                ...   \n95  [Europa, Mountain, Favourite, Walker, Trekker,...   \n96  [City, Population, Resort, Transport, Connecti...   \n97  [Place, City, South, Population, Workforce, Cl...   \n98  [Catalan, Island, Exces, Score, Cove, Beach, P...   \n99  [Costum, Blanca, White, Coast, Beach, Coast, E...   \n\n                                         nouns_string  \n0   swamp mile downtown island city canal site day...  \n1   folklore film hearsay key mile chain island mi...  \n2   park yellowstone national park visitor year pe...  \n3   island island room population town person capt...  \n4   hill grassland great home adventurer artist ou...  \n..                                                ...  \n95  europa mountain favourite walker trekker climb...  \n96  city population resort transport connection se...  \n97  place city south population workforce cluster ...  \n98  catalan island exces score cove beach pine for...  \n99  costum blanca white coast beach coast excess p...  \n\n[100 rows x 3 columns]",
      "text/html": "<div>\n<style scoped>\n    .dataframe tbody tr th:only-of-type {\n        vertical-align: middle;\n    }\n\n    .dataframe tbody tr th {\n        vertical-align: top;\n    }\n\n    .dataframe thead th {\n        text-align: right;\n    }\n</style>\n<table border=\"1\" class=\"dataframe\">\n  <thead>\n    <tr style=\"text-align: right;\">\n      <th></th>\n      <th>place</th>\n      <th>singular_cleaned_nouns</th>\n      <th>nouns_string</th>\n    </tr>\n  </thead>\n  <tbody>\n    <tr>\n      <th>0</th>\n      <td>Waikiki</td>\n      <td>[Swamp, Mile, Downtown, Island, City, Canal, S...</td>\n      <td>swamp mile downtown island city canal site day...</td>\n    </tr>\n    <tr>\n      <th>1</th>\n      <td>The Florida Keys</td>\n      <td>[Folklore, Film, Hearsay, Key, Mile, Chain, Is...</td>\n      <td>folklore film hearsay key mile chain island mi...</td>\n    </tr>\n    <tr>\n      <th>2</th>\n      <td>Yellowstone National Park</td>\n      <td>[Park, Yellowstone, National, Park, Visitor, Y...</td>\n      <td>park yellowstone national park visitor year pe...</td>\n    </tr>\n    <tr>\n      <th>3</th>\n      <td>The Big Island</td>\n      <td>[Island, Island, Room, Population, Town, Perso...</td>\n      <td>island island room population town person capt...</td>\n    </tr>\n    <tr>\n      <th>4</th>\n      <td>The Great Plains</td>\n      <td>[Hill, Grassland, Great, Home, Adventurer, Art...</td>\n      <td>hill grassland great home adventurer artist ou...</td>\n    </tr>\n    <tr>\n      <th>...</th>\n      <td>...</td>\n      <td>...</td>\n      <td>...</td>\n    </tr>\n    <tr>\n      <th>95</th>\n      <td>Picos de Europa</td>\n      <td>[Europa, Mountain, Favourite, Walker, Trekker,...</td>\n      <td>europa mountain favourite walker trekker climb...</td>\n    </tr>\n    <tr>\n      <th>96</th>\n      <td>Santander</td>\n      <td>[City, Population, Resort, Transport, Connecti...</td>\n      <td>city population resort transport connection se...</td>\n    </tr>\n    <tr>\n      <th>97</th>\n      <td>Malaga</td>\n      <td>[Place, City, South, Population, Workforce, Cl...</td>\n      <td>place city south population workforce cluster ...</td>\n    </tr>\n    <tr>\n      <th>98</th>\n      <td>Ibiza</td>\n      <td>[Catalan, Island, Exces, Score, Cove, Beach, P...</td>\n      <td>catalan island exces score cove beach pine for...</td>\n    </tr>\n    <tr>\n      <th>99</th>\n      <td>Valencia</td>\n      <td>[Costum, Blanca, White, Coast, Beach, Coast, E...</td>\n      <td>costum blanca white coast beach coast excess p...</td>\n    </tr>\n  </tbody>\n</table>\n<p>100 rows × 3 columns</p>\n</div>"
     },
     "execution_count": 20,
     "metadata": {},
     "output_type": "execute_result"
    }
   ],
   "source": [
    "df_places['nouns_string'] = [' '.join(map(str, l)) for l in df_places['singular_cleaned_nouns']]\n",
    "df_places['nouns_string'] = df_places['nouns_string'].map(lambda x: x.lower())\n",
    "df_places"
   ],
   "metadata": {
    "collapsed": false,
    "pycharm": {
     "name": "#%%\n"
    }
   }
  },
  {
   "cell_type": "code",
   "execution_count": 21,
   "outputs": [
    {
     "name": "stdout",
     "output_type": "stream",
     "text": [
      "folklore film hearsay key mile chain island mile image intrigue day cocaine cowboy beach view sunset west usathe lover paradise fishing snorkelling diving area reef band coral mile coast key stop west self conch republic style street plenty bar hour sunset cuisine part shack food atmosphere conch mollusc speciality chowder fritter lime concoction lime milk resemblance imposter py rest mainland west culture rest attitude lifestyle islander expanse tourist year place spirit attitude influx population bahamian village thoma petronium street cuban african bahamian corner town patchwork storey cigar maker cottage grocery church foliage\n"
     ]
    }
   ],
   "source": [
    "print(df_places['nouns_string'][1].lower())"
   ],
   "metadata": {
    "collapsed": false,
    "pycharm": {
     "name": "#%%\n"
    }
   }
  },
  {
   "cell_type": "code",
   "execution_count": 22,
   "outputs": [
    {
     "data": {
      "text/plain": "array(['acces', 'accident', 'accommodation', ..., 'youth', 'zona', 'zone'],\n      dtype=object)"
     },
     "execution_count": 22,
     "metadata": {},
     "output_type": "execute_result"
    }
   ],
   "source": [
    "tfid_vectorizer = TfidfVectorizer(stop_words='english', min_df=5)\n",
    "tfid_word_doc_matrix = tfid_vectorizer.fit_transform(df_places['nouns_string'])\n",
    "tfid_vectorizer.get_feature_names_out()"
   ],
   "metadata": {
    "collapsed": false,
    "pycharm": {
     "name": "#%%\n"
    }
   }
  },
  {
   "cell_type": "code",
   "execution_count": 23,
   "outputs": [
    {
     "data": {
      "text/plain": "(100, 1340)"
     },
     "execution_count": 23,
     "metadata": {},
     "output_type": "execute_result"
    }
   ],
   "source": [
    "tfid_word_doc_matrix.shape"
   ],
   "metadata": {
    "collapsed": false,
    "pycharm": {
     "name": "#%%\n"
    }
   }
  },
  {
   "cell_type": "code",
   "execution_count": 24,
   "outputs": [
    {
     "data": {
      "text/plain": "                        place  \\\n0                     Waikiki   \n1            The Florida Keys   \n2   Yellowstone National Park   \n3              The Big Island   \n4            The Great Plains   \n..                        ...   \n95            Picos de Europa   \n96                  Santander   \n97                     Malaga   \n98                      Ibiza   \n99                   Valencia   \n\n                               singular_cleaned_nouns  \\\n0   [Swamp, Mile, Downtown, Island, City, Canal, S...   \n1   [Folklore, Film, Hearsay, Key, Mile, Chain, Is...   \n2   [Park, Yellowstone, National, Park, Visitor, Y...   \n3   [Island, Island, Room, Population, Town, Perso...   \n4   [Hill, Grassland, Great, Home, Adventurer, Art...   \n..                                                ...   \n95  [Europa, Mountain, Favourite, Walker, Trekker,...   \n96  [City, Population, Resort, Transport, Connecti...   \n97  [Place, City, South, Population, Workforce, Cl...   \n98  [Catalan, Island, Exces, Score, Cove, Beach, P...   \n99  [Costum, Blanca, White, Coast, Beach, Coast, E...   \n\n                                         nouns_string  cluster  \n0   swamp mile downtown island city canal site day...       25  \n1   folklore film hearsay key mile chain island mi...       43  \n2   park yellowstone national park visitor year pe...        3  \n3   island island room population town person capt...       41  \n4   hill grassland great home adventurer artist ou...       45  \n..                                                ...      ...  \n95  europa mountain favourite walker trekker climb...       27  \n96  city population resort transport connection se...       31  \n97  place city south population workforce cluster ...        5  \n98  catalan island exces score cove beach pine for...        6  \n99  costum blanca white coast beach coast excess p...       20  \n\n[100 rows x 4 columns]",
      "text/html": "<div>\n<style scoped>\n    .dataframe tbody tr th:only-of-type {\n        vertical-align: middle;\n    }\n\n    .dataframe tbody tr th {\n        vertical-align: top;\n    }\n\n    .dataframe thead th {\n        text-align: right;\n    }\n</style>\n<table border=\"1\" class=\"dataframe\">\n  <thead>\n    <tr style=\"text-align: right;\">\n      <th></th>\n      <th>place</th>\n      <th>singular_cleaned_nouns</th>\n      <th>nouns_string</th>\n      <th>cluster</th>\n    </tr>\n  </thead>\n  <tbody>\n    <tr>\n      <th>0</th>\n      <td>Waikiki</td>\n      <td>[Swamp, Mile, Downtown, Island, City, Canal, S...</td>\n      <td>swamp mile downtown island city canal site day...</td>\n      <td>25</td>\n    </tr>\n    <tr>\n      <th>1</th>\n      <td>The Florida Keys</td>\n      <td>[Folklore, Film, Hearsay, Key, Mile, Chain, Is...</td>\n      <td>folklore film hearsay key mile chain island mi...</td>\n      <td>43</td>\n    </tr>\n    <tr>\n      <th>2</th>\n      <td>Yellowstone National Park</td>\n      <td>[Park, Yellowstone, National, Park, Visitor, Y...</td>\n      <td>park yellowstone national park visitor year pe...</td>\n      <td>3</td>\n    </tr>\n    <tr>\n      <th>3</th>\n      <td>The Big Island</td>\n      <td>[Island, Island, Room, Population, Town, Perso...</td>\n      <td>island island room population town person capt...</td>\n      <td>41</td>\n    </tr>\n    <tr>\n      <th>4</th>\n      <td>The Great Plains</td>\n      <td>[Hill, Grassland, Great, Home, Adventurer, Art...</td>\n      <td>hill grassland great home adventurer artist ou...</td>\n      <td>45</td>\n    </tr>\n    <tr>\n      <th>...</th>\n      <td>...</td>\n      <td>...</td>\n      <td>...</td>\n      <td>...</td>\n    </tr>\n    <tr>\n      <th>95</th>\n      <td>Picos de Europa</td>\n      <td>[Europa, Mountain, Favourite, Walker, Trekker,...</td>\n      <td>europa mountain favourite walker trekker climb...</td>\n      <td>27</td>\n    </tr>\n    <tr>\n      <th>96</th>\n      <td>Santander</td>\n      <td>[City, Population, Resort, Transport, Connecti...</td>\n      <td>city population resort transport connection se...</td>\n      <td>31</td>\n    </tr>\n    <tr>\n      <th>97</th>\n      <td>Malaga</td>\n      <td>[Place, City, South, Population, Workforce, Cl...</td>\n      <td>place city south population workforce cluster ...</td>\n      <td>5</td>\n    </tr>\n    <tr>\n      <th>98</th>\n      <td>Ibiza</td>\n      <td>[Catalan, Island, Exces, Score, Cove, Beach, P...</td>\n      <td>catalan island exces score cove beach pine for...</td>\n      <td>6</td>\n    </tr>\n    <tr>\n      <th>99</th>\n      <td>Valencia</td>\n      <td>[Costum, Blanca, White, Coast, Beach, Coast, E...</td>\n      <td>costum blanca white coast beach coast excess p...</td>\n      <td>20</td>\n    </tr>\n  </tbody>\n</table>\n<p>100 rows × 4 columns</p>\n</div>"
     },
     "execution_count": 24,
     "metadata": {},
     "output_type": "execute_result"
    }
   ],
   "source": [
    "from sklearn.cluster import KMeans\n",
    "true_k = 48\n",
    "model = KMeans(n_clusters=true_k, init='k-means++', max_iter=200, n_init=10)\n",
    "model.fit(tfid_word_doc_matrix)\n",
    "labels=model.labels_\n",
    "df_places['cluster'] = labels\n",
    "df_places"
   ],
   "metadata": {
    "collapsed": false,
    "pycharm": {
     "name": "#%%\n"
    }
   }
  },
  {
   "cell_type": "code",
   "execution_count": 28,
   "outputs": [],
   "source": [
    "from sklearn.decomposition import PCA\n",
    "\n",
    "# initialize PCA with 2 components\n",
    "pca = PCA(n_components=2, random_state=42)\n",
    "# pass our X to the pca and store the reduced vectors into pca_vecs\n",
    "pca_vecs = pca.fit_transform(tfid_word_doc_matrix.toarray())\n",
    "# save our two dimensions into x0 and x1\n",
    "x0 = pca_vecs[:, 0]\n",
    "x1 = pca_vecs[:, 1]\n",
    "df_places['x0'] = x0\n",
    "df_places['x1'] = x1\n",
    "\n"
   ],
   "metadata": {
    "collapsed": false,
    "pycharm": {
     "name": "#%%\n"
    }
   }
  },
  {
   "cell_type": "code",
   "execution_count": 29,
   "outputs": [
    {
     "data": {
      "text/plain": "<Figure size 432x288 with 1 Axes>",
      "image/png": "[encoded data removed]"
     },
     "metadata": {
      "needs_background": "light"
     },
     "output_type": "display_data"
    }
   ],
   "source": [
    "import matplotlib.pyplot as plt\n",
    "from sklearn.cluster import KMeans\n",
    "Sum_of_squared_distances = []\n",
    "K = range(47,50)\n",
    "\n",
    "for k in K:\n",
    "   km = KMeans(n_clusters=k, max_iter=200, n_init=10)\n",
    "   km = km.fit(tfid_word_doc_matrix)\n",
    "   Sum_of_squared_distances.append(km.inertia_)\n",
    "\n",
    "plt.plot(K, Sum_of_squared_distances, 'bx-')\n",
    "plt.xlabel('k')\n",
    "plt.ylabel('Sum_of_squared_distances')\n",
    "plt.title('Elbow Method For Optimal k')\n",
    "plt.show()\n"
   ],
   "metadata": {
    "collapsed": false,
    "pycharm": {
     "name": "#%%\n"
    }
   }
  },
  {
   "cell_type": "code",
   "execution_count": 30,
   "outputs": [
    {
     "data": {
      "text/plain": "               place                             singular_cleaned_nouns  \\\n33        Huacachina  [Myth, Lagoon, Princes, Clothe, Mirror, Hunter...   \n40    Rio de Janeiro  [Citizen, City, Janeiro, Cidade, Marvilhosa, A...   \n69         Champagne  [Stuff, Reason, Person, Vineyard, Cellar, Regi...   \n21     Niagara Falls  [Thousand, Charle, Tightrope, Time, Midway, Om...   \n76         Stuttgart  [World, Town, Baden, Capital, Population, Sett...   \n..               ...                                                ...   \n1   The Florida Keys  [Folklore, Film, Hearsay, Key, Mile, Chain, Is...   \n70          Freiburg  [Climate, Hill, Picture, Postcard, Breisgau, P...   \n4   The Great Plains  [Hill, Grassland, Great, Home, Adventurer, Art...   \n66         Marseille  [Year, Renaissance, Port, Reputation, Sleaze, ...   \n16   Real de Catorce  [Real, Catorce, Place, Silver, Mine, Hill, Hei...   \n\n                                         nouns_string  cluster        x0  \\\n33  myth lagoon princes clothe mirror hunter mirro...        0  0.168594   \n40  citizen city janeiro cidade marvilhosa argumen...        1 -0.181386   \n69  stuff reason person vineyard cellar region cap...        2 -0.092640   \n21  thousand charle tightrope time midway omelette...        2  0.201784   \n76  world town baden capital population setting pa...        2 -0.074221   \n..                                                ...      ...       ...   \n1   folklore film hearsay key mile chain island mi...       43  0.038842   \n70  climate hill picture postcard breisgau place s...       44  0.027385   \n4   hill grassland great home adventurer artist ou...       45  0.053507   \n66  year renaissance port reputation sleaze danger...       46 -0.157145   \n16  real catorce place silver mine hill height pro...       47  0.115109   \n\n          x1  \n33 -0.023493  \n40  0.173579  \n69 -0.109978  \n21 -0.075611  \n76 -0.071497  \n..       ...  \n1   0.133282  \n70  0.047294  \n4  -0.026592  \n66 -0.001136  \n16  0.003443  \n\n[100 rows x 6 columns]",
      "text/html": "<div>\n<style scoped>\n    .dataframe tbody tr th:only-of-type {\n        vertical-align: middle;\n    }\n\n    .dataframe tbody tr th {\n        vertical-align: top;\n    }\n\n    .dataframe thead th {\n        text-align: right;\n    }\n</style>\n<table border=\"1\" class=\"dataframe\">\n  <thead>\n    <tr style=\"text-align: right;\">\n      <th></th>\n      <th>place</th>\n      <th>singular_cleaned_nouns</th>\n      <th>nouns_string</th>\n      <th>cluster</th>\n      <th>x0</th>\n      <th>x1</th>\n    </tr>\n  </thead>\n  <tbody>\n    <tr>\n      <th>33</th>\n      <td>Huacachina</td>\n      <td>[Myth, Lagoon, Princes, Clothe, Mirror, Hunter...</td>\n      <td>myth lagoon princes clothe mirror hunter mirro...</td>\n      <td>0</td>\n      <td>0.168594</td>\n      <td>-0.023493</td>\n    </tr>\n    <tr>\n      <th>40</th>\n      <td>Rio de Janeiro</td>\n      <td>[Citizen, City, Janeiro, Cidade, Marvilhosa, A...</td>\n      <td>citizen city janeiro cidade marvilhosa argumen...</td>\n      <td>1</td>\n      <td>-0.181386</td>\n      <td>0.173579</td>\n    </tr>\n    <tr>\n      <th>69</th>\n      <td>Champagne</td>\n      <td>[Stuff, Reason, Person, Vineyard, Cellar, Regi...</td>\n      <td>stuff reason person vineyard cellar region cap...</td>\n      <td>2</td>\n      <td>-0.092640</td>\n      <td>-0.109978</td>\n    </tr>\n    <tr>\n      <th>21</th>\n      <td>Niagara Falls</td>\n      <td>[Thousand, Charle, Tightrope, Time, Midway, Om...</td>\n      <td>thousand charle tightrope time midway omelette...</td>\n      <td>2</td>\n      <td>0.201784</td>\n      <td>-0.075611</td>\n    </tr>\n    <tr>\n      <th>76</th>\n      <td>Stuttgart</td>\n      <td>[World, Town, Baden, Capital, Population, Sett...</td>\n      <td>world town baden capital population setting pa...</td>\n      <td>2</td>\n      <td>-0.074221</td>\n      <td>-0.071497</td>\n    </tr>\n    <tr>\n      <th>...</th>\n      <td>...</td>\n      <td>...</td>\n      <td>...</td>\n      <td>...</td>\n      <td>...</td>\n      <td>...</td>\n    </tr>\n    <tr>\n      <th>1</th>\n      <td>The Florida Keys</td>\n      <td>[Folklore, Film, Hearsay, Key, Mile, Chain, Is...</td>\n      <td>folklore film hearsay key mile chain island mi...</td>\n      <td>43</td>\n      <td>0.038842</td>\n      <td>0.133282</td>\n    </tr>\n    <tr>\n      <th>70</th>\n      <td>Freiburg</td>\n      <td>[Climate, Hill, Picture, Postcard, Breisgau, P...</td>\n      <td>climate hill picture postcard breisgau place s...</td>\n      <td>44</td>\n      <td>0.027385</td>\n      <td>0.047294</td>\n    </tr>\n    <tr>\n      <th>4</th>\n      <td>The Great Plains</td>\n      <td>[Hill, Grassland, Great, Home, Adventurer, Art...</td>\n      <td>hill grassland great home adventurer artist ou...</td>\n      <td>45</td>\n      <td>0.053507</td>\n      <td>-0.026592</td>\n    </tr>\n    <tr>\n      <th>66</th>\n      <td>Marseille</td>\n      <td>[Year, Renaissance, Port, Reputation, Sleaze, ...</td>\n      <td>year renaissance port reputation sleaze danger...</td>\n      <td>46</td>\n      <td>-0.157145</td>\n      <td>-0.001136</td>\n    </tr>\n    <tr>\n      <th>16</th>\n      <td>Real de Catorce</td>\n      <td>[Real, Catorce, Place, Silver, Mine, Hill, Hei...</td>\n      <td>real catorce place silver mine hill height pro...</td>\n      <td>47</td>\n      <td>0.115109</td>\n      <td>0.003443</td>\n    </tr>\n  </tbody>\n</table>\n<p>100 rows × 6 columns</p>\n</div>"
     },
     "execution_count": 30,
     "metadata": {},
     "output_type": "execute_result"
    }
   ],
   "source": [
    "df_places.sort_values(by=['cluster'])\n"
   ],
   "metadata": {
    "collapsed": false,
    "pycharm": {
     "name": "#%%\n"
    }
   }
  },
  {
   "cell_type": "code",
   "execution_count": 34,
   "outputs": [
    {
     "name": "stdout",
     "output_type": "stream",
     "text": [
      "\n",
      "Cluster 0\n",
      "problem,water,myth,hunter,neck,sand,power,lake,dune,lagoon\n",
      "\n",
      "Cluster 1\n",
      "mountain,parade,street,music,avenida,procession,city,ball,beach,school\n",
      "\n",
      "Cluster 2\n",
      "lake,bottle,river,tower,motor,year,town,grape,vineyard,wine\n",
      "\n",
      "Cluster 3\n",
      "grand,meadow,bear,mind,eagle,offer,bison,diversity,park,volcano\n",
      "\n",
      "Cluster 4\n",
      "shore,boat,town,trip,fishing,island,trail,watching,beach,whale\n",
      "\n",
      "Cluster 5\n",
      "work,grande,district,area,centre,bar,restaurant,century,canal,city\n",
      "\n",
      "Cluster 6\n",
      "village,cove,bar,tower,century,water,town,port,island,beach\n",
      "\n",
      "Cluster 7\n",
      "railway,pas,valley,ascent,national,hike,trail,backcountry,lake,park\n",
      "\n",
      "Cluster 8\n",
      "person,state,temple,building,plaza,village,ruin,pyramid,site,city\n",
      "\n",
      "Cluster 9\n",
      "market,valley,fiestum,alternative,virgen,route,cathedral,citadel,plaza,inca\n",
      "\n",
      "Cluster 10\n",
      "pinnacle,movie,backcountry,rock,detmy,spot,tour,valley,mile,monument\n",
      "\n",
      "Cluster 11\n",
      "ship,flight,lakeside,council,count,day,time,passenger,town,lake\n",
      "\n",
      "Cluster 12\n",
      "centre,street,park,island,tower,work,collection,century,building,city\n",
      "\n",
      "Cluster 13\n",
      "wine,vineyard,hike,region,shop,town,forest,valley,clock,black\n",
      "\n",
      "Cluster 14\n",
      "detmy,trail,hike,waterfall,park,mile,spring,pueblo,valley,canyon\n",
      "\n",
      "Cluster 15\n",
      "food,meal,vegetable,serra,chicken,dish,mina,stew,bean,pork\n",
      "\n",
      "Cluster 16\n",
      "year,century,shutterstock,place,garden,lot,villa,column,ship,island\n",
      "\n",
      "Cluster 17\n",
      "desert,january,mayor,action,meeting,francisco,semana,oasi,inca,city\n",
      "\n",
      "Cluster 18\n",
      "village,border,castle,viking,church,century,mountain,town,king,lake\n",
      "\n",
      "Cluster 19\n",
      "music,suburb,rail,immigrant,centre,airport,state,city,porto,grande\n",
      "\n",
      "Cluster 20\n",
      "fiestum,george,campsite,summer,package,pope,coast,fiesta,beach,town\n",
      "\n",
      "Cluster 21\n",
      "mountain,fall,park,pas,ascent,cabin,valley,village,trail,lake\n",
      "\n",
      "Cluster 22\n",
      "herb,sprawl,tuesday,whale,outside,vendor,daylight,mercado,central,market\n",
      "\n",
      "Cluster 23\n",
      "army,garden,content,grande,vista,dropdown,loui,pond,avenue,arch\n",
      "\n",
      "Cluster 24\n",
      "city,forest,santum,boat,area,beach,river,state,town,paulo\n",
      "\n",
      "Cluster 25\n",
      "ride,avenue,money,mile,canal,walkway,downtown,refuge,swamp,commercialism\n",
      "\n",
      "Cluster 26\n",
      "advice,town,nicola,european,habsburg,jean,king,beauty,force,year\n",
      "\n",
      "Cluster 27\n",
      "park,village,care,hike,trek,snow,town,gorge,valley,mountain\n",
      "\n",
      "Cluster 28\n",
      "economy,property,rule,marina,budget,porto,gulf,hotel,development,costum\n",
      "\n",
      "Cluster 29\n",
      "frontier,downtown,semana,lago,puerto,folklore,market,produce,jungle,block\n",
      "\n",
      "Cluster 30\n",
      "century,step,swimming,courtyard,beach,atmosphere,practice,prison,bathing,fortres\n",
      "\n",
      "Cluster 31\n",
      "seafood,ride,grande,maker,norte,sand,cathedral,city,dune,beach\n",
      "\n",
      "Cluster 32\n",
      "lodge,world,heritage,hunting,ride,garden,castle,park,staircase,palace\n",
      "\n",
      "Cluster 33\n",
      "mall,statue,entertainment,christ,bronze,shopping,dome,city,church,peter\n",
      "\n",
      "Cluster 34\n",
      "debate,grip,forest,pyramid,century,culture,festival,church,drag,town\n",
      "\n",
      "Cluster 35\n",
      "art,stone,place,bar,building,century,museum,festival,street,city\n",
      "\n",
      "Cluster 36\n",
      "work,statue,bust,sculpture,room,floor,collection,section,painting,wing\n",
      "\n",
      "Cluster 37\n",
      "dolphin,visitor,desert,bird,diving,peninsula,cave,beach,species,reserve\n",
      "\n",
      "Cluster 38\n",
      "bay,city,coast,mountain,island,monastery,serra,village,robert,grave\n",
      "\n",
      "Cluster 39\n",
      "coast,settlement,border,line,right,region,state,capital,slave,civil\n",
      "\n",
      "Cluster 40\n",
      "local,museum,heart,town,ring,century,francisco,piazza,city,wall\n",
      "\n",
      "Cluster 41\n",
      "boot,park,road,landscape,flow,island,summit,cable,mile,volcano\n",
      "\n",
      "Cluster 42\n",
      "window,facade,travel,building,square,bronze,king,nouveau,town,renaissance\n",
      "\n",
      "Cluster 43\n",
      "milk,maker,paradise,islander,folklore,lifestyle,rest,west,sunset,mile\n",
      "\n",
      "Cluster 44\n",
      "host,summer,jazz,ritual,hill,postcard,tuesday,black,july,town\n",
      "\n",
      "Cluster 45\n",
      "entertainment,bison,devil,hill,mark,tribe,south,storm,region,great\n",
      "\n",
      "Cluster 46\n",
      "european,shuttle,north,march,year,fort,army,vieux,city,port\n",
      "\n",
      "Cluster 47\n",
      "hmy,desert,pueblo,ruin,foreigner,cactu,hike,track,town,hill\n"
     ]
    }
   ],
   "source": [
    "import numpy as np\n",
    "def get_top_keywords(n_terms):\n",
    "    \"\"\"This function returns the keywords for each centroid of the KMeans\"\"\"\n",
    "    df = pd.DataFrame(tfid_word_doc_matrix.todense()).groupby(labels).mean() # groups the TF-IDF vector by cluster\n",
    "    terms = tfid_vectorizer.get_feature_names_out() # access tf-idf terms\n",
    "    for i,r in df.iterrows():\n",
    "        print('\\nCluster {}'.format(i))\n",
    "        print(','.join([terms[t] for t in np.argsort(r)[-n_terms:]])) # for each row of the dataframe, find the n terms that have the highest tf idf score\n",
    "\n",
    "get_top_keywords(10)\n",
    "\n"
   ],
   "metadata": {
    "collapsed": false,
    "pycharm": {
     "name": "#%%\n"
    }
   }
  }
 ],
 "metadata": {
  "kernelspec": {
   "display_name": "Python 3",
   "language": "python",
   "name": "python3"
  },
  "language_info": {
   "codemirror_mode": {
    "name": "ipython",
    "version": 2
   },
   "file_extension": ".py",
   "mimetype": "text/x-python",
   "name": "python",
   "nbconvert_exporter": "python",
   "pygments_lexer": "ipython2",
   "version": "2.7.6"
  }
 },
 "nbformat": 4,
 "nbformat_minor": 0
}