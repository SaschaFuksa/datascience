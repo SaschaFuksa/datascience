{
 "cells": [
  {
   "cell_type": "code",
   "execution_count": 42,
   "outputs": [],
   "source": [
    "import pandas as pd\n",
    "#import umap\n",
    "#import umap.plot\n",
    "from ast import literal_eval\n",
    "from sklearn.feature_extraction.text import CountVectorizer, TfidfVectorizer"
   ],
   "metadata": {
    "collapsed": false,
    "pycharm": {
     "name": "#%%\n"
    }
   }
  },
  {
   "cell_type": "code",
   "execution_count": 43,
   "outputs": [
    {
     "data": {
      "text/plain": "0     [Swamp, Mile, Downtown, Island, City, Canal, S...\n1     [Folklore, Film, Hearsay, Key, Mile, Chain, Is...\n2     [Park, Yellowstone, National, Park, Visitor, Y...\n3     [Island, Island, Room, Population, Town, Perso...\n4     [Hill, Grassland, Great, Home, Adventurer, Art...\n                            ...                        \n95    [Europa, Mountain, Favourite, Walker, Trekker,...\n96    [City, Population, Resort, Transport, Connecti...\n97    [Place, City, South, Population, Workforce, Cl...\n98    [Catalan, Island, Exces, Score, Cove, Beach, P...\n99    [Costum, Blanca, White, Coast, Beach, Coast, E...\nName: singular_nouns, Length: 100, dtype: object"
     },
     "execution_count": 43,
     "metadata": {},
     "output_type": "execute_result"
    }
   ],
   "source": [
    "df_places = pd.read_csv('../crawling-and-preprocessing/content/data_prep_2805_3.csv', usecols=['place', 'singular_nouns'])\n",
    "#df_places = pd.read_csv('../crawling-and-preprocessing/content/data_prep_2805_3.csv', usecols=['non_NE_tags'])\n",
    "df_places['singular_nouns'] = df_places['singular_nouns'].apply(literal_eval)\n",
    "#df_places['non_NE_nouns'] = df_places['non_NE_tags'].apply(literal_eval)\n",
    "df_places['singular_nouns']"
   ],
   "metadata": {
    "collapsed": false,
    "pycharm": {
     "name": "#%%\n"
    }
   }
  },
  {
   "cell_type": "code",
   "execution_count": 44,
   "outputs": [
    {
     "data": {
      "text/plain": "                        place  \\\n0                     Waikiki   \n1            The Florida Keys   \n2   Yellowstone National Park   \n3              The Big Island   \n4            The Great Plains   \n..                        ...   \n95            Picos de Europa   \n96                  Santander   \n97                     Malaga   \n98                      Ibiza   \n99                   Valencia   \n\n                                       singular_nouns  \\\n0   [Swamp, Mile, Downtown, Island, City, Canal, S...   \n1   [Folklore, Film, Hearsay, Key, Mile, Chain, Is...   \n2   [Park, Yellowstone, National, Park, Visitor, Y...   \n3   [Island, Island, Room, Population, Town, Perso...   \n4   [Hill, Grassland, Great, Home, Adventurer, Art...   \n..                                                ...   \n95  [Europa, Mountain, Favourite, Walker, Trekker,...   \n96  [City, Population, Resort, Transport, Connecti...   \n97  [Place, City, South, Population, Workforce, Cl...   \n98  [Catalan, Island, Exces, Score, Cove, Beach, P...   \n99  [Costum, Blanca, White, Coast, Beach, Coast, E...   \n\n                                         cleaned_text  \n0   swamp mile downtown island city canal site day...  \n1   folklore film hearsay key mile chain island mi...  \n2   park yellowstone national park visitor year pe...  \n3   island island room population town person capt...  \n4   hill grassland great home adventurer artist ou...  \n..                                                ...  \n95  europa mountain favourite walker trekker climb...  \n96  city population resort transport connection se...  \n97  place city south population workforce cluster ...  \n98  catalan island exces score cove beach pine for...  \n99  costum blanca white coast beach coast excess p...  \n\n[100 rows x 3 columns]",
      "text/html": "<div>\n<style scoped>\n    .dataframe tbody tr th:only-of-type {\n        vertical-align: middle;\n    }\n\n    .dataframe tbody tr th {\n        vertical-align: top;\n    }\n\n    .dataframe thead th {\n        text-align: right;\n    }\n</style>\n<table border=\"1\" class=\"dataframe\">\n  <thead>\n    <tr style=\"text-align: right;\">\n      <th></th>\n      <th>place</th>\n      <th>singular_nouns</th>\n      <th>cleaned_text</th>\n    </tr>\n  </thead>\n  <tbody>\n    <tr>\n      <th>0</th>\n      <td>Waikiki</td>\n      <td>[Swamp, Mile, Downtown, Island, City, Canal, S...</td>\n      <td>swamp mile downtown island city canal site day...</td>\n    </tr>\n    <tr>\n      <th>1</th>\n      <td>The Florida Keys</td>\n      <td>[Folklore, Film, Hearsay, Key, Mile, Chain, Is...</td>\n      <td>folklore film hearsay key mile chain island mi...</td>\n    </tr>\n    <tr>\n      <th>2</th>\n      <td>Yellowstone National Park</td>\n      <td>[Park, Yellowstone, National, Park, Visitor, Y...</td>\n      <td>park yellowstone national park visitor year pe...</td>\n    </tr>\n    <tr>\n      <th>3</th>\n      <td>The Big Island</td>\n      <td>[Island, Island, Room, Population, Town, Perso...</td>\n      <td>island island room population town person capt...</td>\n    </tr>\n    <tr>\n      <th>4</th>\n      <td>The Great Plains</td>\n      <td>[Hill, Grassland, Great, Home, Adventurer, Art...</td>\n      <td>hill grassland great home adventurer artist ou...</td>\n    </tr>\n    <tr>\n      <th>...</th>\n      <td>...</td>\n      <td>...</td>\n      <td>...</td>\n    </tr>\n    <tr>\n      <th>95</th>\n      <td>Picos de Europa</td>\n      <td>[Europa, Mountain, Favourite, Walker, Trekker,...</td>\n      <td>europa mountain favourite walker trekker climb...</td>\n    </tr>\n    <tr>\n      <th>96</th>\n      <td>Santander</td>\n      <td>[City, Population, Resort, Transport, Connecti...</td>\n      <td>city population resort transport connection se...</td>\n    </tr>\n    <tr>\n      <th>97</th>\n      <td>Malaga</td>\n      <td>[Place, City, South, Population, Workforce, Cl...</td>\n      <td>place city south population workforce cluster ...</td>\n    </tr>\n    <tr>\n      <th>98</th>\n      <td>Ibiza</td>\n      <td>[Catalan, Island, Exces, Score, Cove, Beach, P...</td>\n      <td>catalan island exces score cove beach pine for...</td>\n    </tr>\n    <tr>\n      <th>99</th>\n      <td>Valencia</td>\n      <td>[Costum, Blanca, White, Coast, Beach, Coast, E...</td>\n      <td>costum blanca white coast beach coast excess p...</td>\n    </tr>\n  </tbody>\n</table>\n<p>100 rows × 3 columns</p>\n</div>"
     },
     "execution_count": 44,
     "metadata": {},
     "output_type": "execute_result"
    }
   ],
   "source": [
    "df_places['cleaned_text'] = [' '.join(map(str, l)) for l in df_places['singular_nouns']]\n",
    "df_places['cleaned_text'] = df_places['cleaned_text'].map(lambda x: x.lower())\n",
    "df_places"
   ],
   "metadata": {
    "collapsed": false,
    "pycharm": {
     "name": "#%%\n"
    }
   }
  },
  {
   "cell_type": "code",
   "execution_count": 45,
   "outputs": [
    {
     "data": {
      "text/plain": "(100, 8080)"
     },
     "execution_count": 45,
     "metadata": {},
     "output_type": "execute_result"
    }
   ],
   "source": [
    "from sklearn.feature_extraction.text import CountVectorizer\n",
    "count_vect = CountVectorizer()\n",
    "bow = count_vect.fit_transform(df_places['cleaned_text'].values)\n",
    "bow.shape"
   ],
   "metadata": {
    "collapsed": false,
    "pycharm": {
     "name": "#%%\n"
    }
   }
  },
  {
   "cell_type": "code",
   "execution_count": 46,
   "outputs": [
    {
     "name": "stderr",
     "output_type": "stream",
     "text": [
      "/Library/Frameworks/Python.framework/Versions/3.9/lib/python3.9/site-packages/sklearn/utils/deprecation.py:87: FutureWarning: Function get_feature_names is deprecated; get_feature_names is deprecated in 1.0 and will be removed in 1.2. Please use get_feature_names_out instead.\n",
      "  warnings.warn(msg, category=FutureWarning)\n"
     ]
    },
    {
     "data": {
      "text/plain": "['aalsuppe',\n 'abalone',\n 'abattoir',\n 'abbaye',\n 'abbey',\n 'abduction',\n 'ability',\n 'abolition',\n 'abortion']"
     },
     "execution_count": 46,
     "metadata": {},
     "output_type": "execute_result"
    }
   ],
   "source": [
    "terms = count_vect.get_feature_names()\n",
    "terms[1:10]"
   ],
   "metadata": {
    "collapsed": false,
    "pycharm": {
     "name": "#%%\n"
    }
   }
  },
  {
   "cell_type": "code",
   "execution_count": 47,
   "outputs": [
    {
     "data": {
      "text/plain": "KMeans(n_clusters=10, random_state=99)"
     },
     "execution_count": 47,
     "metadata": {},
     "output_type": "execute_result"
    }
   ],
   "source": [
    "from sklearn.cluster import KMeans\n",
    "model = KMeans(n_clusters = 10,init='k-means++',random_state=99)\n",
    "model.fit(bow)"
   ],
   "metadata": {
    "collapsed": false,
    "pycharm": {
     "name": "#%%\n"
    }
   }
  },
  {
   "cell_type": "code",
   "execution_count": 48,
   "outputs": [],
   "source": [
    "labels = model.labels_\n",
    "cluster_center=model.cluster_centers_"
   ],
   "metadata": {
    "collapsed": false,
    "pycharm": {
     "name": "#%%\n"
    }
   }
  },
  {
   "cell_type": "code",
   "execution_count": 49,
   "outputs": [
    {
     "data": {
      "text/plain": "0.31330610630338396"
     },
     "execution_count": 49,
     "metadata": {},
     "output_type": "execute_result"
    }
   ],
   "source": [
    "from sklearn import metrics\n",
    "silhouette_score = metrics.silhouette_score(bow, labels, metric='euclidean')\n",
    "silhouette_score"
   ],
   "metadata": {
    "collapsed": false,
    "pycharm": {
     "name": "#%%\n"
    }
   }
  },
  {
   "cell_type": "code",
   "execution_count": 50,
   "outputs": [
    {
     "data": {
      "text/plain": "                        place  \\\n0                     Waikiki   \n1            The Florida Keys   \n2   Yellowstone National Park   \n3              The Big Island   \n4            The Great Plains   \n5                 The Rockies   \n6                    Santa Fe   \n7          The Capital Region   \n8             Monument Valley   \n9          Zion National Park   \n10                Mexico City   \n11                   Campeche   \n12                      Tulum   \n13                   Veracruz   \n14                    Chiapas   \n15            Baja California   \n16            Real de Catorce   \n17                     Oaxaca   \n18                 Guanajuato   \n19                  Zacatecas   \n\n                                       singular_nouns  \\\n0   [Swamp, Mile, Downtown, Island, City, Canal, S...   \n1   [Folklore, Film, Hearsay, Key, Mile, Chain, Is...   \n2   [Park, Yellowstone, National, Park, Visitor, Y...   \n3   [Island, Island, Room, Population, Town, Perso...   \n4   [Hill, Grassland, Great, Home, Adventurer, Art...   \n5   [Rocky, Mountain, State, Size, American, West,...   \n6   [City, Santum, Adventurer, Missionary, Decade,...   \n7   [City, District, Columbium, State, West, Capit...   \n8   [Landscape, Sandstone, Butte, Pinnacle, Rock, ...   \n9   [Cliff, Forest, Waterfall, Zion, National, Par...   \n10  [World, Mega, City, Person, Mountain, Bowl, Le...   \n11  [Capital, State, Name, City, Tourist, Heart, P...   \n12  [Visitor, Thing, Site, Cliff, Stretch, Beach, ...   \n13  [Coast, Area, City, Fringe, Sierra, Madre, Ori...   \n14  [State, Dropdown, Content, Lowland, Traveller,...   \n15  [Desert, Landscape, Oase, Life, Destination, H...   \n16  [Real, Catorce, Place, Silver, Mine, Hill, Hei...   \n17  [State, Destination, State, Capital, Region, C...   \n18  [Ravine, Century, City, Mine, Silver, Gold, Qu...   \n19  [Level, Gully, Hill, Silver, Town, Architectur...   \n\n                                         cleaned_text  label  \n0   swamp mile downtown island city canal site day...      8  \n1   folklore film hearsay key mile chain island mi...      8  \n2   park yellowstone national park visitor year pe...      8  \n3   island island room population town person capt...      8  \n4   hill grassland great home adventurer artist ou...      8  \n5   rocky mountain state size american west home m...      8  \n6   city santum adventurer missionary decade pilgr...      8  \n7   city district columbium state west capital reg...      8  \n8   landscape sandstone butte pinnacle rock expans...      8  \n9   cliff forest waterfall zion national park park...      8  \n10  world mega city person mountain bowl level dis...      5  \n11  capital state name city tourist heart port tow...      8  \n12  visitor thing site cliff stretch beach lodging...      8  \n13  coast area city fringe sierra madre oriental d...      2  \n14  state dropdown content lowland traveller route...      2  \n15  desert landscape oase life destination history...      1  \n16  real catorce place silver mine hill height pro...      8  \n17  state destination state capital region country...      1  \n18  ravine century city mine silver gold quantity ...      8  \n19  level gully hill silver town architecture muse...      8  ",
      "text/html": "<div>\n<style scoped>\n    .dataframe tbody tr th:only-of-type {\n        vertical-align: middle;\n    }\n\n    .dataframe tbody tr th {\n        vertical-align: top;\n    }\n\n    .dataframe thead th {\n        text-align: right;\n    }\n</style>\n<table border=\"1\" class=\"dataframe\">\n  <thead>\n    <tr style=\"text-align: right;\">\n      <th></th>\n      <th>place</th>\n      <th>singular_nouns</th>\n      <th>cleaned_text</th>\n      <th>label</th>\n    </tr>\n  </thead>\n  <tbody>\n    <tr>\n      <th>0</th>\n      <td>Waikiki</td>\n      <td>[Swamp, Mile, Downtown, Island, City, Canal, S...</td>\n      <td>swamp mile downtown island city canal site day...</td>\n      <td>8</td>\n    </tr>\n    <tr>\n      <th>1</th>\n      <td>The Florida Keys</td>\n      <td>[Folklore, Film, Hearsay, Key, Mile, Chain, Is...</td>\n      <td>folklore film hearsay key mile chain island mi...</td>\n      <td>8</td>\n    </tr>\n    <tr>\n      <th>2</th>\n      <td>Yellowstone National Park</td>\n      <td>[Park, Yellowstone, National, Park, Visitor, Y...</td>\n      <td>park yellowstone national park visitor year pe...</td>\n      <td>8</td>\n    </tr>\n    <tr>\n      <th>3</th>\n      <td>The Big Island</td>\n      <td>[Island, Island, Room, Population, Town, Perso...</td>\n      <td>island island room population town person capt...</td>\n      <td>8</td>\n    </tr>\n    <tr>\n      <th>4</th>\n      <td>The Great Plains</td>\n      <td>[Hill, Grassland, Great, Home, Adventurer, Art...</td>\n      <td>hill grassland great home adventurer artist ou...</td>\n      <td>8</td>\n    </tr>\n    <tr>\n      <th>5</th>\n      <td>The Rockies</td>\n      <td>[Rocky, Mountain, State, Size, American, West,...</td>\n      <td>rocky mountain state size american west home m...</td>\n      <td>8</td>\n    </tr>\n    <tr>\n      <th>6</th>\n      <td>Santa Fe</td>\n      <td>[City, Santum, Adventurer, Missionary, Decade,...</td>\n      <td>city santum adventurer missionary decade pilgr...</td>\n      <td>8</td>\n    </tr>\n    <tr>\n      <th>7</th>\n      <td>The Capital Region</td>\n      <td>[City, District, Columbium, State, West, Capit...</td>\n      <td>city district columbium state west capital reg...</td>\n      <td>8</td>\n    </tr>\n    <tr>\n      <th>8</th>\n      <td>Monument Valley</td>\n      <td>[Landscape, Sandstone, Butte, Pinnacle, Rock, ...</td>\n      <td>landscape sandstone butte pinnacle rock expans...</td>\n      <td>8</td>\n    </tr>\n    <tr>\n      <th>9</th>\n      <td>Zion National Park</td>\n      <td>[Cliff, Forest, Waterfall, Zion, National, Par...</td>\n      <td>cliff forest waterfall zion national park park...</td>\n      <td>8</td>\n    </tr>\n    <tr>\n      <th>10</th>\n      <td>Mexico City</td>\n      <td>[World, Mega, City, Person, Mountain, Bowl, Le...</td>\n      <td>world mega city person mountain bowl level dis...</td>\n      <td>5</td>\n    </tr>\n    <tr>\n      <th>11</th>\n      <td>Campeche</td>\n      <td>[Capital, State, Name, City, Tourist, Heart, P...</td>\n      <td>capital state name city tourist heart port tow...</td>\n      <td>8</td>\n    </tr>\n    <tr>\n      <th>12</th>\n      <td>Tulum</td>\n      <td>[Visitor, Thing, Site, Cliff, Stretch, Beach, ...</td>\n      <td>visitor thing site cliff stretch beach lodging...</td>\n      <td>8</td>\n    </tr>\n    <tr>\n      <th>13</th>\n      <td>Veracruz</td>\n      <td>[Coast, Area, City, Fringe, Sierra, Madre, Ori...</td>\n      <td>coast area city fringe sierra madre oriental d...</td>\n      <td>2</td>\n    </tr>\n    <tr>\n      <th>14</th>\n      <td>Chiapas</td>\n      <td>[State, Dropdown, Content, Lowland, Traveller,...</td>\n      <td>state dropdown content lowland traveller route...</td>\n      <td>2</td>\n    </tr>\n    <tr>\n      <th>15</th>\n      <td>Baja California</td>\n      <td>[Desert, Landscape, Oase, Life, Destination, H...</td>\n      <td>desert landscape oase life destination history...</td>\n      <td>1</td>\n    </tr>\n    <tr>\n      <th>16</th>\n      <td>Real de Catorce</td>\n      <td>[Real, Catorce, Place, Silver, Mine, Hill, Hei...</td>\n      <td>real catorce place silver mine hill height pro...</td>\n      <td>8</td>\n    </tr>\n    <tr>\n      <th>17</th>\n      <td>Oaxaca</td>\n      <td>[State, Destination, State, Capital, Region, C...</td>\n      <td>state destination state capital region country...</td>\n      <td>1</td>\n    </tr>\n    <tr>\n      <th>18</th>\n      <td>Guanajuato</td>\n      <td>[Ravine, Century, City, Mine, Silver, Gold, Qu...</td>\n      <td>ravine century city mine silver gold quantity ...</td>\n      <td>8</td>\n    </tr>\n    <tr>\n      <th>19</th>\n      <td>Zacatecas</td>\n      <td>[Level, Gully, Hill, Silver, Town, Architectur...</td>\n      <td>level gully hill silver town architecture muse...</td>\n      <td>8</td>\n    </tr>\n  </tbody>\n</table>\n</div>"
     },
     "execution_count": 50,
     "metadata": {},
     "output_type": "execute_result"
    }
   ],
   "source": [
    "# Giving Labels/assigning a cluster to each point/text\n",
    "#df_places = final\n",
    "df_places['label'] = model.labels_ # the last column you can see the label numebers\n",
    "df_places.head(20)"
   ],
   "metadata": {
    "collapsed": false,
    "pycharm": {
     "name": "#%%\n"
    }
   }
  },
  {
   "cell_type": "code",
   "execution_count": 51,
   "outputs": [
    {
     "data": {
      "text/plain": "label\n0     2\n1     8\n2     3\n3     1\n4    13\n5     1\n6     2\n7     1\n8    68\n9     1\nName: singular_nouns, dtype: int64"
     },
     "execution_count": 51,
     "metadata": {},
     "output_type": "execute_result"
    }
   ],
   "source": [
    "# How many points belong to each cluster -> using group by in pandas\n",
    "df_places.groupby(['label'])['singular_nouns'].count()"
   ],
   "metadata": {
    "collapsed": false,
    "pycharm": {
     "name": "#%%\n"
    }
   }
  },
  {
   "cell_type": "code",
   "execution_count": 52,
   "outputs": [
    {
     "name": "stdout",
     "output_type": "stream",
     "text": [
      "Top terms per cluster:\n",
      "Cluster 0: lake\n",
      " trail\n",
      " valley\n",
      " park\n",
      " fall\n",
      " ascent\n",
      " pas\n",
      " walk\n",
      " louise\n",
      " hike\n",
      "Cluster 1: town\n",
      " region\n",
      " village\n",
      " valley\n",
      " place\n",
      " century\n",
      " beach\n",
      " mountain\n",
      " city\n",
      " area\n",
      "Cluster 2: town\n",
      " site\n",
      " city\n",
      " village\n",
      " place\n",
      " century\n",
      " island\n",
      " time\n",
      " area\n",
      " ruin\n",
      "Cluster 3: river\n",
      " boat\n",
      " forest\n",
      " hammock\n",
      " town\n",
      " water\n",
      " world\n",
      " state\n",
      " region\n",
      " trip\n",
      "Cluster 4: city\n",
      " century\n",
      " centre\n",
      " street\n",
      " area\n",
      " building\n",
      " year\n",
      " place\n",
      " island\n",
      " town\n",
      "Cluster 5: city\n",
      " pyramid\n",
      " place\n",
      " building\n",
      " centre\n",
      " area\n",
      " site\n",
      " year\n",
      " house\n",
      " temple\n",
      "Cluster 6: city\n",
      " building\n",
      " museum\n",
      " century\n",
      " bar\n",
      " year\n",
      " street\n",
      " restaurant\n",
      " collection\n",
      " work\n",
      "Cluster 7: city\n",
      " bar\n",
      " place\n",
      " capital\n",
      " street\n",
      " mayor\n",
      " terraza\n",
      " market\n",
      " year\n",
      " century\n",
      "Cluster 8: town\n",
      " city\n",
      " beach\n",
      " century\n",
      " place\n",
      " park\n",
      " lake\n",
      " year\n",
      " village\n",
      " road\n",
      "Cluster 9: city\n",
      " beach\n",
      " school\n",
      " favela\n",
      " samba\n",
      " street\n",
      " ball\n",
      " mountain\n",
      " place\n",
      " procession\n"
     ]
    },
    {
     "name": "stderr",
     "output_type": "stream",
     "text": [
      "/Library/Frameworks/Python.framework/Versions/3.9/lib/python3.9/site-packages/sklearn/utils/deprecation.py:87: FutureWarning: Function get_feature_names is deprecated; get_feature_names is deprecated in 1.0 and will be removed in 1.2. Please use get_feature_names_out instead.\n",
      "  warnings.warn(msg, category=FutureWarning)\n"
     ]
    }
   ],
   "source": [
    "#Refrence credit - to find the top 10 features of cluster centriod\n",
    "print(\"Top terms per cluster:\")\n",
    "order_centroids = model.cluster_centers_.argsort()[:, ::-1]\n",
    "terms = count_vect.get_feature_names()\n",
    "for i in range(10):\n",
    "    print(\"Cluster %d:\" % i, end='')\n",
    "    for ind in order_centroids[i, :10]:\n",
    "        print(' %s' % terms[ind], end='')\n",
    "        print()"
   ],
   "metadata": {
    "collapsed": false,
    "pycharm": {
     "name": "#%%\n"
    }
   }
  },
  {
   "cell_type": "code",
   "execution_count": 53,
   "outputs": [
    {
     "data": {
      "text/plain": "<Figure size 360x216 with 1 Axes>",
      "image/png": "[encoded data removed]"
     },
     "metadata": {
      "needs_background": "light"
     },
     "output_type": "display_data"
    }
   ],
   "source": [
    "# visually how points or reviews are distributed across 10 clusters\n",
    "import matplotlib.pyplot as plt\n",
    "plt.bar([x for x in range(10)], df_places.groupby(['label'])['cleaned_text'].count(), alpha = 0.4)\n",
    "plt.title('KMeans cluster points')\n",
    "plt.xlabel(\"Cluster number\")\n",
    "plt.ylabel(\"Number of points\")\n",
    "plt.show()"
   ],
   "metadata": {
    "collapsed": false,
    "pycharm": {
     "name": "#%%\n"
    }
   }
  },
  {
   "cell_type": "code",
   "execution_count": 54,
   "outputs": [
    {
     "data": {
      "text/plain": "(100, 8080)"
     },
     "execution_count": 54,
     "metadata": {},
     "output_type": "execute_result"
    }
   ],
   "source": [
    "#tfidf vector initililization\n",
    "from sklearn.feature_extraction.text import TfidfVectorizer\n",
    "tfidf_vect = TfidfVectorizer()\n",
    "tfidf = tfidf_vect.fit_transform(df_places['cleaned_text'].values)\n",
    "tfidf.shape"
   ],
   "metadata": {
    "collapsed": false,
    "pycharm": {
     "name": "#%%\n"
    }
   }
  },
  {
   "cell_type": "code",
   "execution_count": 55,
   "outputs": [
    {
     "data": {
      "text/plain": "KMeans(n_clusters=10, random_state=99)"
     },
     "execution_count": 55,
     "metadata": {},
     "output_type": "execute_result"
    }
   ],
   "source": [
    "from sklearn.cluster import KMeans\n",
    "model_tf = KMeans(n_clusters = 10, random_state=99)\n",
    "model_tf.fit(tfidf)"
   ],
   "metadata": {
    "collapsed": false,
    "pycharm": {
     "name": "#%%\n"
    }
   }
  },
  {
   "cell_type": "code",
   "execution_count": 56,
   "outputs": [],
   "source": [
    "labels_tf = model_tf.labels_\n",
    "cluster_center_tf=model_tf.cluster_centers_"
   ],
   "metadata": {
    "collapsed": false,
    "pycharm": {
     "name": "#%%\n"
    }
   }
  },
  {
   "cell_type": "code",
   "execution_count": 57,
   "outputs": [
    {
     "data": {
      "text/plain": "0.016148858503685682"
     },
     "execution_count": 57,
     "metadata": {},
     "output_type": "execute_result"
    }
   ],
   "source": [
    "from sklearn import metrics\n",
    "silhouette_score_tf = metrics.silhouette_score(tfidf, labels_tf, metric='euclidean')\n",
    "silhouette_score_tf"
   ],
   "metadata": {
    "collapsed": false,
    "pycharm": {
     "name": "#%%\n"
    }
   }
  },
  {
   "cell_type": "code",
   "execution_count": 58,
   "outputs": [
    {
     "data": {
      "text/plain": "                       place  \\\n0                    Waikiki   \n1           The Florida Keys   \n2  Yellowstone National Park   \n3             The Big Island   \n4           The Great Plains   \n\n                                      singular_nouns  \\\n0  [Swamp, Mile, Downtown, Island, City, Canal, S...   \n1  [Folklore, Film, Hearsay, Key, Mile, Chain, Is...   \n2  [Park, Yellowstone, National, Park, Visitor, Y...   \n3  [Island, Island, Room, Population, Town, Perso...   \n4  [Hill, Grassland, Great, Home, Adventurer, Art...   \n\n                                        cleaned_text  label  tf_label  \n0  swamp mile downtown island city canal site day...      8         2  \n1  folklore film hearsay key mile chain island mi...      8         9  \n2  park yellowstone national park visitor year pe...      8         2  \n3  island island room population town person capt...      8         2  \n4  hill grassland great home adventurer artist ou...      8         6  ",
      "text/html": "<div>\n<style scoped>\n    .dataframe tbody tr th:only-of-type {\n        vertical-align: middle;\n    }\n\n    .dataframe tbody tr th {\n        vertical-align: top;\n    }\n\n    .dataframe thead th {\n        text-align: right;\n    }\n</style>\n<table border=\"1\" class=\"dataframe\">\n  <thead>\n    <tr style=\"text-align: right;\">\n      <th></th>\n      <th>place</th>\n      <th>singular_nouns</th>\n      <th>cleaned_text</th>\n      <th>label</th>\n      <th>tf_label</th>\n    </tr>\n  </thead>\n  <tbody>\n    <tr>\n      <th>0</th>\n      <td>Waikiki</td>\n      <td>[Swamp, Mile, Downtown, Island, City, Canal, S...</td>\n      <td>swamp mile downtown island city canal site day...</td>\n      <td>8</td>\n      <td>2</td>\n    </tr>\n    <tr>\n      <th>1</th>\n      <td>The Florida Keys</td>\n      <td>[Folklore, Film, Hearsay, Key, Mile, Chain, Is...</td>\n      <td>folklore film hearsay key mile chain island mi...</td>\n      <td>8</td>\n      <td>9</td>\n    </tr>\n    <tr>\n      <th>2</th>\n      <td>Yellowstone National Park</td>\n      <td>[Park, Yellowstone, National, Park, Visitor, Y...</td>\n      <td>park yellowstone national park visitor year pe...</td>\n      <td>8</td>\n      <td>2</td>\n    </tr>\n    <tr>\n      <th>3</th>\n      <td>The Big Island</td>\n      <td>[Island, Island, Room, Population, Town, Perso...</td>\n      <td>island island room population town person capt...</td>\n      <td>8</td>\n      <td>2</td>\n    </tr>\n    <tr>\n      <th>4</th>\n      <td>The Great Plains</td>\n      <td>[Hill, Grassland, Great, Home, Adventurer, Art...</td>\n      <td>hill grassland great home adventurer artist ou...</td>\n      <td>8</td>\n      <td>6</td>\n    </tr>\n  </tbody>\n</table>\n</div>"
     },
     "execution_count": 58,
     "metadata": {},
     "output_type": "execute_result"
    }
   ],
   "source": [
    "df_places['tf_label'] = model_tf.labels_\n",
    "df_places.head(5)"
   ],
   "metadata": {
    "collapsed": false,
    "pycharm": {
     "name": "#%%\n"
    }
   }
  },
  {
   "cell_type": "code",
   "execution_count": 59,
   "outputs": [
    {
     "data": {
      "text/plain": "tf_label\n0     2\n1     8\n2     5\n3     6\n4    12\n5    14\n6    13\n7    29\n8     5\n9     6\nName: cleaned_text, dtype: int64"
     },
     "execution_count": 59,
     "metadata": {},
     "output_type": "execute_result"
    }
   ],
   "source": [
    "df_places.groupby(['tf_label'])['cleaned_text'].count()"
   ],
   "metadata": {
    "collapsed": false,
    "pycharm": {
     "name": "#%%\n"
    }
   }
  },
  {
   "cell_type": "code",
   "execution_count": 60,
   "outputs": [
    {
     "name": "stdout",
     "output_type": "stream",
     "text": [
      "Top terms per cluster:\n",
      "Cluster 0: reserve\n",
      " species\n",
      " beach\n",
      " cenote\n",
      " peninsula\n",
      " cave\n",
      " bird\n",
      " desert\n",
      " diving\n",
      " sian\n",
      "Cluster 1: city\n",
      " market\n",
      " town\n",
      " plaza\n",
      " state\n",
      " jungle\n",
      " site\n",
      " centre\n",
      " independencium\n",
      " festival\n",
      "Cluster 2: volcano\n",
      " island\n",
      " lava\n",
      " crater\n",
      " eruption\n",
      " mile\n",
      " park\n",
      " aeolian\n",
      " caldera\n",
      " outrigger\n",
      "Cluster 3: whale\n",
      " beach\n",
      " island\n",
      " smeralda\n",
      " port\n",
      " costum\n",
      " lawrence\n",
      " watching\n",
      " city\n",
      " area\n",
      "Cluster 4: lake\n",
      " park\n",
      " trail\n",
      " town\n",
      " hike\n",
      " lagoon\n",
      " valley\n",
      " canyon\n",
      " ascent\n",
      " village\n",
      "Cluster 5: valley\n",
      " town\n",
      " mountain\n",
      " village\n",
      " century\n",
      " canyon\n",
      " region\n",
      " hike\n",
      " hut\n",
      " trail\n",
      "Cluster 6: town\n",
      " beach\n",
      " state\n",
      " city\n",
      " chapada\n",
      " coast\n",
      " river\n",
      " paulo\n",
      " region\n",
      " hill\n",
      "Cluster 7: city\n",
      " century\n",
      " building\n",
      " street\n",
      " museum\n",
      " palace\n",
      " place\n",
      " year\n",
      " centre\n",
      " world\n",
      "Cluster 8: inca\n",
      " citadel\n",
      " plaza\n",
      " valley\n",
      " route\n",
      " cotton\n",
      " ruin\n",
      " sacred\n",
      " carman\n",
      " city\n",
      "Cluster 9: beach\n",
      " island\n",
      " bar\n",
      " buggy\n",
      " sant\n",
      " sand\n",
      " cala\n",
      " coast\n",
      " water\n",
      " town\n"
     ]
    }
   ],
   "source": [
    "#Refrence credit - to find the top 10 features of cluster centriod\n",
    "print(\"Top terms per cluster:\")\n",
    "order_centroids = model_tf.cluster_centers_.argsort()[:, ::-1]\n",
    "for i in range(10):\n",
    "    print(\"Cluster %d:\" % i, end='')\n",
    "    for ind in order_centroids[i, :10]:\n",
    "        print(' %s' % terms[ind], end='')\n",
    "        print()"
   ],
   "metadata": {
    "collapsed": false,
    "pycharm": {
     "name": "#%%\n"
    }
   }
  },
  {
   "cell_type": "code",
   "execution_count": 61,
   "outputs": [
    {
     "data": {
      "text/plain": "<Figure size 360x216 with 1 Axes>",
      "image/png": "[encoded data removed]"
     },
     "metadata": {
      "needs_background": "light"
     },
     "output_type": "display_data"
    }
   ],
   "source": [
    "# visually how points or reviews are distributed across 10 clusters\n",
    "plt.bar([x for x in range(10)], df_places.groupby(['tf_label'])['cleaned_text'].count(), alpha = 0.4)\n",
    "plt.title('KMeans cluster points')\n",
    "plt.xlabel(\"Cluster number\")\n",
    "plt.ylabel(\"Number of points\")\n",
    "plt.show()\n",
    "\n",
    "# Average Word to Vector"
   ],
   "metadata": {
    "collapsed": false,
    "pycharm": {
     "name": "#%%\n"
    }
   }
  },
  {
   "cell_type": "code",
   "execution_count": 62,
   "outputs": [
    {
     "name": "stdout",
     "output_type": "stream",
     "text": [
      "swamp mile downtown island city canal site day commercialism money point thing kalakaua avenue place beach strip sand place surf lesson outrigger canoe ride pedestrian walkway edge garden refuge frenzy centre spot\n",
      "*****************************************************************\n",
      "['swamp', 'mile', 'downtown', 'island', 'city', 'canal', 'site', 'day', 'commercialism', 'money', 'point', 'thing', 'kalakaua', 'avenue', 'place', 'beach', 'strip', 'sand', 'place', 'surf', 'lesson', 'outrigger', 'canoe', 'ride', 'pedestrian', 'walkway', 'edge', 'garden', 'refuge', 'frenzy', 'centre', 'spot']\n"
     ]
    }
   ],
   "source": [
    "i=0\n",
    "list_of_sent=[]\n",
    "for sent in df_places['cleaned_text'].values:\n",
    "    list_of_sent.append(sent.split())\n",
    "print(df_places['cleaned_text'].values[0])\n",
    "print(\"*****************************************************************\")\n",
    "print(list_of_sent[0])"
   ],
   "metadata": {
    "collapsed": false,
    "pycharm": {
     "name": "#%%\n"
    }
   }
  },
  {
   "cell_type": "code",
   "execution_count": 63,
   "outputs": [],
   "source": [
    "# removing html tags and apostrophes if present.\n",
    "import re\n",
    "def cleanhtml(sentence): #function to clean the word of any html-tags\n",
    "    cleanr = re.compile('<.*?>')\n",
    "    cleantext = re.sub(cleanr, ' ', sentence)\n",
    "    return cleantext\n",
    "def cleanpunc(sentence): #function to clean the word of any punctuation or special characters\n",
    "    cleaned = re.sub(r'[?|!|\\'|\"|#]',r'',sentence)\n",
    "    cleaned = re.sub(r'[.|,|)|(|\\|/]',r' ',cleaned)\n",
    "    return  cleaned"
   ],
   "metadata": {
    "collapsed": false,
    "pycharm": {
     "name": "#%%\n"
    }
   }
  },
  {
   "cell_type": "code",
   "execution_count": 64,
   "outputs": [],
   "source": [
    "i=0\n",
    "list_of_sent_train=[]\n",
    "for sent in df_places['cleaned_text'].values:\n",
    "    filtered_sentence=[]\n",
    "    sent=cleanhtml(sent)\n",
    "    for w in sent.split():\n",
    "        for cleaned_words in cleanpunc(w).split():\n",
    "            if(cleaned_words.isalpha()):\n",
    "                filtered_sentence.append(cleaned_words.lower())\n",
    "            else:\n",
    "                continue\n",
    "    list_of_sent_train.append(filtered_sentence)"
   ],
   "metadata": {
    "collapsed": false,
    "pycharm": {
     "name": "#%%\n"
    }
   }
  },
  {
   "cell_type": "code",
   "execution_count": 65,
   "outputs": [
    {
     "ename": "ModuleNotFoundError",
     "evalue": "No module named 'gensim'",
     "output_type": "error",
     "traceback": [
      "\u001B[0;31m---------------------------------------------------------------------------\u001B[0m",
      "\u001B[0;31mModuleNotFoundError\u001B[0m                       Traceback (most recent call last)",
      "Input \u001B[0;32mIn [65]\u001B[0m, in \u001B[0;36m<cell line: 1>\u001B[0;34m()\u001B[0m\n\u001B[0;32m----> 1\u001B[0m \u001B[38;5;28;01mimport\u001B[39;00m \u001B[38;5;21;01mgensim\u001B[39;00m\n\u001B[1;32m      2\u001B[0m \u001B[38;5;66;03m# Training the wor2vec model using train dataset\u001B[39;00m\n\u001B[1;32m      3\u001B[0m w2v_model\u001B[38;5;241m=\u001B[39mgensim\u001B[38;5;241m.\u001B[39mmodels\u001B[38;5;241m.\u001B[39mWord2Vec(list_of_sent_train, workers\u001B[38;5;241m=\u001B[39m\u001B[38;5;241m4\u001B[39m)\n",
      "\u001B[0;31mModuleNotFoundError\u001B[0m: No module named 'gensim'"
     ]
    }
   ],
   "source": [
    "import gensim\n",
    "# Training the wor2vec model using train dataset\n",
    "w2v_model=gensim.models.Word2Vec(list_of_sent_train, workers=4)"
   ],
   "metadata": {
    "collapsed": false,
    "pycharm": {
     "name": "#%%\n"
    }
   }
  },
  {
   "cell_type": "code",
   "execution_count": null,
   "outputs": [],
   "source": [
    "import numpy as np\n",
    "sent_vectors = []; # the avg-w2v for each sentence/review is stored in this train\n",
    "for sent in list_of_sent_train: # for each review/sentence\n",
    "    sent_vec = np.zeros(100) # as word vectors are of zero length\n",
    "    cnt_words =0; # num of words with a valid vector in the sentence/review\n",
    "    for word in sent: # for each word in a review/sentence\n",
    "        try:\n",
    "            vec = w2v_model.wv[word]\n",
    "            sent_vec += vec\n",
    "            cnt_words += 1\n",
    "        except:\n",
    "            pass\n",
    "    sent_vec /= cnt_words\n",
    "    sent_vectors.append(sent_vec)\n",
    "sent_vectors = np.array(sent_vectors)\n",
    "sent_vectors = np.nan_to_num(sent_vectors)\n",
    "sent_vectors.shape"
   ],
   "metadata": {
    "collapsed": false,
    "pycharm": {
     "name": "#%%\n"
    }
   }
  },
  {
   "cell_type": "code",
   "execution_count": null,
   "outputs": [],
   "source": [
    "# Number of clusters to check.\n",
    "num_clus = [x for x in range(3,11)]\n",
    "num_clus"
   ],
   "metadata": {
    "collapsed": false,
    "pycharm": {
     "name": "#%%\n"
    }
   }
  },
  {
   "cell_type": "code",
   "execution_count": null,
   "outputs": [],
   "source": [
    "# Choosing the best cluster using Elbow Method.\n",
    "# source credit,few parts of min squred loss info is taken from different parts of the stakoverflow answers.\n",
    "# this is used to understand to find the optimal clusters in differen way rather than used in BOW, TFIDF\n",
    "squared_errors = []\n",
    "for cluster in num_clus:\n",
    "    kmeans = KMeans(n_clusters = cluster).fit(sent_vectors) # Train Cluster\n",
    "    squared_errors.append(kmeans.inertia_) # Appending the squared loss obtained in the list\n",
    "\n",
    "optimal_clusters = np.argmin(squared_errors) + 2 # As argmin return the index of minimum loss.\n",
    "plt.plot(num_clus, squared_errors)\n",
    "plt.title(\"Elbow Curve to find the no. of clusters.\")\n",
    "plt.xlabel(\"Number of clusters.\")\n",
    "plt.ylabel(\"Squared Loss.\")\n",
    "xy = (optimal_clusters, min(squared_errors))\n",
    "plt.annotate('(%s, %s)' % xy, xy = xy, textcoords='data')\n",
    "plt.show()\n",
    "\n",
    "print (\"The optimal number of clusters obtained is - \", optimal_clusters)\n",
    "print (\"The loss for optimal cluster is - \", min(squared_errors))"
   ],
   "metadata": {
    "collapsed": false,
    "pycharm": {
     "name": "#%%\n"
    }
   }
  },
  {
   "cell_type": "code",
   "execution_count": null,
   "outputs": [],
   "source": [
    "# Training the best model --\n",
    "from sklearn.cluster import KMeans\n",
    "model2 = KMeans(n_clusters = optimal_clusters)\n",
    "model2.fit(sent_vectors)"
   ],
   "metadata": {
    "collapsed": false,
    "pycharm": {
     "name": "#%%\n"
    }
   }
  },
  {
   "cell_type": "code",
   "execution_count": null,
   "outputs": [],
   "source": [
    "word_cluster_pred=model2.predict(sent_vectors)\n",
    "word_cluster_pred_2=model2.labels_\n",
    "word_cluster_center=model2.cluster_centers_\n",
    "word_cluster_center[1:2]"
   ],
   "metadata": {
    "collapsed": false,
    "pycharm": {
     "name": "#%%\n"
    }
   }
  },
  {
   "cell_type": "code",
   "execution_count": null,
   "outputs": [],
   "source": [
    "# Giving Labels/assigning a cluster to each point/text\n",
    "df_places['avg_label'] = model2.labels_\n",
    "df_places.head(2)"
   ],
   "metadata": {
    "collapsed": false,
    "pycharm": {
     "name": "#%%\n"
    }
   }
  },
  {
   "cell_type": "code",
   "execution_count": null,
   "outputs": [],
   "source": [
    "df_places.groupby(['avg_label'])['cleaned_text'].count()"
   ],
   "metadata": {
    "collapsed": false,
    "pycharm": {
     "name": "#%%\n"
    }
   }
  },
  {
   "cell_type": "code",
   "execution_count": null,
   "outputs": [],
   "source": [
    "# visually how points or reviews are distributed across 10 clusters\n",
    "plt.bar([x for x in range(9)], df_places.groupby(['avg_label'])['cleaned_text'].count(), alpha = 0.4)\n",
    "plt.title('KMeans cluster points')\n",
    "plt.xlabel(\"Cluster number\")\n",
    "plt.ylabel(\"Number of points\")\n",
    "plt.show()\n",
    "\n",
    "\n",
    "\n",
    "#----------------------------------------------------#\n",
    "# OLD"
   ],
   "metadata": {
    "collapsed": false,
    "pycharm": {
     "name": "#%%\n"
    }
   }
  },
  {
   "cell_type": "code",
   "execution_count": null,
   "outputs": [],
   "source": [
    "tfid_vectorizer = TfidfVectorizer(stop_words='english')\n",
    "#tfid_word_doc_matrix = tfid_vectorizer.fit_transform(df_places['non_NE_nouns'])\n",
    "tfid_word_doc_matrix = tfid_vectorizer.fit_transform(df_places['non_NE_nouns'])\n",
    "tfid_vectorizer.get_feature_names_out()"
   ],
   "metadata": {
    "collapsed": false,
    "pycharm": {
     "name": "#%%\n"
    }
   }
  },
  {
   "cell_type": "code",
   "execution_count": null,
   "outputs": [],
   "source": [
    "from sklearn.cluster import AgglomerativeClustering\n",
    "\n",
    "X = tfid_word_doc_matrix.toarray()\n",
    "cluster = AgglomerativeClustering(n_clusters=48, affinity='euclidean', linkage='ward')\n",
    "cluster.fit_predict(X)\n",
    "\n",
    "print(cluster.labels_)\n",
    "# %%\n",
    "import matplotlib.pyplot as plt\n",
    "plt.scatter(X[:,0],X[:,1], c=cluster.labels_, cmap='rainbow')\n",
    "\n",
    "# %%\n",
    "import scipy.cluster.hierarchy as shc\n",
    "\n",
    "plt.figure(figsize=(10, 7))\n",
    "plt.title(\"Customer Dendograms\")\n",
    "dend = shc.dendrogram(shc.linkage(X, method='ward'))\n",
    "\n",
    "\n",
    "# %%\n",
    "plt.figure(figsize=(10, 7))\n",
    "plt.scatter(X[:,0], X[:,1], c=cluster.labels_, cmap='rainbow')\n",
    "# %%"
   ],
   "metadata": {
    "collapsed": false,
    "pycharm": {
     "name": "#%%\n"
    }
   }
  }
 ],
 "metadata": {
  "kernelspec": {
   "display_name": "Python 3",
   "language": "python",
   "name": "python3"
  },
  "language_info": {
   "codemirror_mode": {
    "name": "ipython",
    "version": 2
   },
   "file_extension": ".py",
   "mimetype": "text/x-python",
   "name": "python",
   "nbconvert_exporter": "python",
   "pygments_lexer": "ipython2",
   "version": "2.7.6"
  }
 },
 "nbformat": 4,
 "nbformat_minor": 0
}